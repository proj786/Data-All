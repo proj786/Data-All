{
 "cells": [
  {
   "cell_type": "code",
   "execution_count": 163,
   "id": "09f5c1ff",
   "metadata": {},
   "outputs": [],
   "source": [
    "import pandas as pd\n",
    "import numpy as np\n",
    "import seaborn as sns\n",
    "import matplotlib.pyplot as plt\n",
    "import pickle"
   ]
  },
  {
   "cell_type": "code",
   "execution_count": 92,
   "id": "734b3ea9",
   "metadata": {},
   "outputs": [],
   "source": [
    "import nltk\n",
    "from nltk.corpus import stopwords\n",
    "from nltk.tokenize import sent_tokenize,word_tokenize,RegexpTokenizer\n",
    "from nltk.stem import PorterStemmer,LancasterStemmer\n",
    "\n",
    "from collections import Counter"
   ]
  },
  {
   "cell_type": "code",
   "execution_count": 157,
   "id": "4a844497",
   "metadata": {},
   "outputs": [],
   "source": [
    "from sklearn.feature_extraction.text import CountVectorizer, TfidfVectorizer\n",
    "from sklearn.model_selection import train_test_split\n",
    "from sklearn.linear_model import LogisticRegression\n",
    "from sklearn.metrics import accuracy_score"
   ]
  },
  {
   "cell_type": "markdown",
   "id": "e37a9ea2",
   "metadata": {},
   "source": [
    "# Data Exploration"
   ]
  },
  {
   "cell_type": "code",
   "execution_count": 3,
   "id": "4a8baa7c",
   "metadata": {},
   "outputs": [],
   "source": [
    "data=pd.read_excel('Input/Canva_reviews.xlsx')"
   ]
  },
  {
   "cell_type": "code",
   "execution_count": 4,
   "id": "56f8ce5b",
   "metadata": {},
   "outputs": [
    {
     "data": {
      "text/plain": [
       "(1500, 13)"
      ]
     },
     "execution_count": 4,
     "metadata": {},
     "output_type": "execute_result"
    }
   ],
   "source": [
    "data.shape"
   ]
  },
  {
   "cell_type": "code",
   "execution_count": 5,
   "id": "8a8bacab",
   "metadata": {},
   "outputs": [
    {
     "name": "stdout",
     "output_type": "stream",
     "text": [
      "<class 'pandas.core.frame.DataFrame'>\n",
      "RangeIndex: 1500 entries, 0 to 1499\n",
      "Data columns (total 13 columns):\n",
      " #   Column                Non-Null Count  Dtype         \n",
      "---  ------                --------------  -----         \n",
      " 0   reviewId              1500 non-null   object        \n",
      " 1   userName              1500 non-null   object        \n",
      " 2   userImage             1500 non-null   object        \n",
      " 3   review                1500 non-null   object        \n",
      " 4   score                 1500 non-null   int64         \n",
      " 5   thumbsUpCount         1500 non-null   int64         \n",
      " 6   reviewCreatedVersion  1500 non-null   object        \n",
      " 7   at                    1500 non-null   datetime64[ns]\n",
      " 8   replyContent          523 non-null    object        \n",
      " 9   repliedAt             523 non-null    datetime64[ns]\n",
      " 10  Sentiment             1500 non-null   object        \n",
      " 11  Sub Category          1499 non-null   object        \n",
      " 12  Sub Category_test     23 non-null     object        \n",
      "dtypes: datetime64[ns](2), int64(2), object(9)\n",
      "memory usage: 152.5+ KB\n"
     ]
    }
   ],
   "source": [
    "data.info()"
   ]
  },
  {
   "cell_type": "code",
   "execution_count": 20,
   "id": "6c15a2db",
   "metadata": {},
   "outputs": [
    {
     "data": {
      "text/html": [
       "<div>\n",
       "<style scoped>\n",
       "    .dataframe tbody tr th:only-of-type {\n",
       "        vertical-align: middle;\n",
       "    }\n",
       "\n",
       "    .dataframe tbody tr th {\n",
       "        vertical-align: top;\n",
       "    }\n",
       "\n",
       "    .dataframe thead th {\n",
       "        text-align: right;\n",
       "    }\n",
       "</style>\n",
       "<table border=\"1\" class=\"dataframe\">\n",
       "  <thead>\n",
       "    <tr style=\"text-align: right;\">\n",
       "      <th></th>\n",
       "      <th>reviewId</th>\n",
       "      <th>userName</th>\n",
       "      <th>userImage</th>\n",
       "      <th>review</th>\n",
       "      <th>score</th>\n",
       "      <th>thumbsUpCount</th>\n",
       "      <th>reviewCreatedVersion</th>\n",
       "      <th>at</th>\n",
       "      <th>replyContent</th>\n",
       "      <th>repliedAt</th>\n",
       "      <th>Sentiment</th>\n",
       "      <th>Sub Category</th>\n",
       "      <th>Sub Category_test</th>\n",
       "    </tr>\n",
       "  </thead>\n",
       "  <tbody>\n",
       "    <tr>\n",
       "      <th>0</th>\n",
       "      <td>gp:AOqpTOFxf3fttcT5DSvFIn9KPp5FErgH9yC533Fmoxv...</td>\n",
       "      <td>Donna Caritero</td>\n",
       "      <td>https://play-lh.googleusercontent.com/a-/AOh14...</td>\n",
       "      <td>Overall it's really an amazing app. I've been ...</td>\n",
       "      <td>4</td>\n",
       "      <td>528</td>\n",
       "      <td>2.116.0</td>\n",
       "      <td>2021-06-17 07:18:54</td>\n",
       "      <td>Hi Donna. We are sorry that your text or desig...</td>\n",
       "      <td>2021-06-19 21:24:32</td>\n",
       "      <td>Negative</td>\n",
       "      <td>NaN</td>\n",
       "      <td>bug_picture_quality</td>\n",
       "    </tr>\n",
       "    <tr>\n",
       "      <th>1</th>\n",
       "      <td>gp:AOqpTOEq6rNIWLnPV4KFTctWvm0mpGEQljtD6mvy1H-...</td>\n",
       "      <td>Soumi Mukhopadhyay</td>\n",
       "      <td>https://play-lh.googleusercontent.com/a-/AOh14...</td>\n",
       "      <td>Hey! Yes I gave a 5 star rating... coz I belie...</td>\n",
       "      <td>5</td>\n",
       "      <td>351</td>\n",
       "      <td>2.116.0</td>\n",
       "      <td>2021-06-17 19:18:28</td>\n",
       "      <td>NaN</td>\n",
       "      <td>NaT</td>\n",
       "      <td>Positive</td>\n",
       "      <td>extremely_happy</td>\n",
       "      <td>NaN</td>\n",
       "    </tr>\n",
       "  </tbody>\n",
       "</table>\n",
       "</div>"
      ],
      "text/plain": [
       "                                            reviewId            userName  \\\n",
       "0  gp:AOqpTOFxf3fttcT5DSvFIn9KPp5FErgH9yC533Fmoxv...      Donna Caritero   \n",
       "1  gp:AOqpTOEq6rNIWLnPV4KFTctWvm0mpGEQljtD6mvy1H-...  Soumi Mukhopadhyay   \n",
       "\n",
       "                                           userImage  \\\n",
       "0  https://play-lh.googleusercontent.com/a-/AOh14...   \n",
       "1  https://play-lh.googleusercontent.com/a-/AOh14...   \n",
       "\n",
       "                                              review  score  thumbsUpCount  \\\n",
       "0  Overall it's really an amazing app. I've been ...      4            528   \n",
       "1  Hey! Yes I gave a 5 star rating... coz I belie...      5            351   \n",
       "\n",
       "  reviewCreatedVersion                  at  \\\n",
       "0              2.116.0 2021-06-17 07:18:54   \n",
       "1              2.116.0 2021-06-17 19:18:28   \n",
       "\n",
       "                                        replyContent           repliedAt  \\\n",
       "0  Hi Donna. We are sorry that your text or desig... 2021-06-19 21:24:32   \n",
       "1                                                NaN                 NaT   \n",
       "\n",
       "  Sentiment     Sub Category    Sub Category_test  \n",
       "0  Negative              NaN  bug_picture_quality  \n",
       "1  Positive  extremely_happy                  NaN  "
      ]
     },
     "execution_count": 20,
     "metadata": {},
     "output_type": "execute_result"
    }
   ],
   "source": [
    "data.head(2)"
   ]
  },
  {
   "cell_type": "code",
   "execution_count": 7,
   "id": "b0a150b1",
   "metadata": {},
   "outputs": [
    {
     "data": {
      "text/plain": [
       "'Unable to save my work. Nothing works :('"
      ]
     },
     "execution_count": 7,
     "metadata": {},
     "output_type": "execute_result"
    }
   ],
   "source": [
    "data.loc[13,'review']"
   ]
  },
  {
   "cell_type": "code",
   "execution_count": 9,
   "id": "e6ad792f",
   "metadata": {},
   "outputs": [
    {
     "data": {
      "text/plain": [
       "'Negative'"
      ]
     },
     "execution_count": 9,
     "metadata": {},
     "output_type": "execute_result"
    }
   ],
   "source": [
    "data.loc[13,'Sentiment']"
   ]
  },
  {
   "cell_type": "code",
   "execution_count": 11,
   "id": "0ebc97f9",
   "metadata": {},
   "outputs": [
    {
     "data": {
      "text/plain": [
       "'I am a teacher and this was so much for this school year! Love this.'"
      ]
     },
     "execution_count": 11,
     "metadata": {},
     "output_type": "execute_result"
    }
   ],
   "source": [
    "data.loc[1499,'review']"
   ]
  },
  {
   "cell_type": "code",
   "execution_count": 12,
   "id": "9fd11e22",
   "metadata": {},
   "outputs": [
    {
     "data": {
      "text/plain": [
       "'Positive'"
      ]
     },
     "execution_count": 12,
     "metadata": {},
     "output_type": "execute_result"
    }
   ],
   "source": [
    "data.loc[1499,'Sentiment']"
   ]
  },
  {
   "cell_type": "markdown",
   "id": "48597700",
   "metadata": {},
   "source": [
    "# Bar Plot of 'Sentiment'"
   ]
  },
  {
   "cell_type": "code",
   "execution_count": 15,
   "id": "4681886e",
   "metadata": {},
   "outputs": [
    {
     "data": {
      "image/png": "[encoded data removed]",
      "text/plain": [
       "<Figure size 432x288 with 1 Axes>"
      ]
     },
     "metadata": {
      "needs_background": "light"
     },
     "output_type": "display_data"
    }
   ],
   "source": [
    "sns.countplot(x=\"Sentiment\",data=data)\n",
    "plt.show()"
   ]
  },
  {
   "cell_type": "code",
   "execution_count": 16,
   "id": "b08d637c",
   "metadata": {},
   "outputs": [
    {
     "data": {
      "text/plain": [
       "Positive    1032\n",
       "Negative     468\n",
       "Name: Sentiment, dtype: int64"
      ]
     },
     "execution_count": 16,
     "metadata": {},
     "output_type": "execute_result"
    }
   ],
   "source": [
    "data['Sentiment'].value_counts()"
   ]
  },
  {
   "cell_type": "code",
   "execution_count": 17,
   "id": "d3f7c5de",
   "metadata": {},
   "outputs": [
    {
     "data": {
      "text/plain": [
       "0.312"
      ]
     },
     "execution_count": 17,
     "metadata": {},
     "output_type": "execute_result"
    }
   ],
   "source": [
    "468/(1032+468)"
   ]
  },
  {
   "cell_type": "markdown",
   "id": "637a83a3",
   "metadata": {},
   "source": [
    "# Bar Plot of 'score'"
   ]
  },
  {
   "cell_type": "code",
   "execution_count": 19,
   "id": "3a5113a3",
   "metadata": {},
   "outputs": [
    {
     "data": {
      "image/png": "[encoded data removed]",
      "text/plain": [
       "<Figure size 432x288 with 1 Axes>"
      ]
     },
     "metadata": {
      "needs_background": "light"
     },
     "output_type": "display_data"
    }
   ],
   "source": [
    "sns.countplot(x=\"score\",data=data)\n",
    "plt.show()"
   ]
  },
  {
   "cell_type": "markdown",
   "id": "1ca24d8d",
   "metadata": {},
   "source": [
    "# Check relationship between score and sentiment"
   ]
  },
  {
   "cell_type": "code",
   "execution_count": 21,
   "id": "a5d5f725",
   "metadata": {},
   "outputs": [
    {
     "data": {
      "image/png": "[encoded data removed]",
      "text/plain": [
       "<Figure size 432x288 with 1 Axes>"
      ]
     },
     "metadata": {
      "needs_background": "light"
     },
     "output_type": "display_data"
    }
   ],
   "source": [
    "sns.countplot(x='score',data=data,hue='Sentiment')\n",
    "plt.show()"
   ]
  },
  {
   "cell_type": "markdown",
   "id": "9f66e984",
   "metadata": {},
   "source": [
    "# Find the length of review"
   ]
  },
  {
   "cell_type": "code",
   "execution_count": 25,
   "id": "ef3ccdef",
   "metadata": {},
   "outputs": [],
   "source": [
    "data['len']=data['review'].apply(len)"
   ]
  },
  {
   "cell_type": "code",
   "execution_count": 26,
   "id": "2343b611",
   "metadata": {},
   "outputs": [
    {
     "data": {
      "text/plain": [
       "count    1500.000000\n",
       "mean       86.468667\n",
       "std        55.681355\n",
       "min        20.000000\n",
       "25%        54.000000\n",
       "50%        75.000000\n",
       "75%       102.000000\n",
       "max       498.000000\n",
       "Name: len, dtype: float64"
      ]
     },
     "execution_count": 26,
     "metadata": {},
     "output_type": "execute_result"
    }
   ],
   "source": [
    "data['len'].describe()"
   ]
  },
  {
   "cell_type": "markdown",
   "id": "19febfdc",
   "metadata": {},
   "source": [
    "# Plot histogram for length column"
   ]
  },
  {
   "cell_type": "code",
   "execution_count": 30,
   "id": "0d52d5cc",
   "metadata": {},
   "outputs": [
    {
     "name": "stderr",
     "output_type": "stream",
     "text": [
      "C:\\ProgramData\\Anaconda3\\lib\\site-packages\\seaborn\\distributions.py:2557: FutureWarning: `distplot` is a deprecated function and will be removed in a future version. Please adapt your code to use either `displot` (a figure-level function with similar flexibility) or `histplot` (an axes-level function for histograms).\n",
      "  warnings.warn(msg, FutureWarning)\n"
     ]
    },
    {
     "data": {
      "image/png": "[encoded data removed]",
      "text/plain": [
       "<Figure size 432x288 with 1 Axes>"
      ]
     },
     "metadata": {
      "needs_background": "light"
     },
     "output_type": "display_data"
    }
   ],
   "source": [
    "sns.distplot(data['len'])\n",
    "plt.show()"
   ]
  },
  {
   "cell_type": "markdown",
   "id": "021c32f3",
   "metadata": {},
   "source": [
    "# plot the distribution with sentiment"
   ]
  },
  {
   "cell_type": "code",
   "execution_count": 31,
   "id": "ae8378b7",
   "metadata": {},
   "outputs": [
    {
     "data": {
      "image/png": "[encoded data removed]",
      "text/plain": [
       "<Figure size 440.875x360 with 1 Axes>"
      ]
     },
     "metadata": {
      "needs_background": "light"
     },
     "output_type": "display_data"
    }
   ],
   "source": [
    "sns.displot(data=data,x='len',hue='Sentiment',fill=True,kind='kde')\n",
    "plt.show()"
   ]
  },
  {
   "cell_type": "code",
   "execution_count": 32,
   "id": "4ca08b4a",
   "metadata": {},
   "outputs": [],
   "source": [
    "# NLTK download"
   ]
  },
  {
   "cell_type": "code",
   "execution_count": 33,
   "id": "d1a4ce34",
   "metadata": {},
   "outputs": [
    {
     "name": "stdout",
     "output_type": "stream",
     "text": [
      "Requirement already satisfied: nltk in c:\\programdata\\anaconda3\\lib\\site-packages (3.6.1)Note: you may need to restart the kernel to use updated packages.\n",
      "Requirement already satisfied: regex in c:\\programdata\\anaconda3\\lib\\site-packages (from nltk) (2021.4.4)\n",
      "Requirement already satisfied: joblib in c:\\programdata\\anaconda3\\lib\\site-packages (from nltk) (1.0.1)\n",
      "Requirement already satisfied: tqdm in c:\\programdata\\anaconda3\\lib\\site-packages (from nltk) (4.59.0)\n",
      "Requirement already satisfied: click in c:\\programdata\\anaconda3\\lib\\site-packages (from nltk) (7.1.2)\n",
      "\n"
     ]
    }
   ],
   "source": [
    "pip install nltk"
   ]
  },
  {
   "cell_type": "code",
   "execution_count": 35,
   "id": "78acdd44",
   "metadata": {},
   "outputs": [
    {
     "name": "stdout",
     "output_type": "stream",
     "text": [
      "showing info https://raw.githubusercontent.com/nltk/nltk_data/gh-pages/index.xml\n"
     ]
    },
    {
     "data": {
      "text/plain": [
       "True"
      ]
     },
     "execution_count": 35,
     "metadata": {},
     "output_type": "execute_result"
    }
   ],
   "source": [
    "import nltk\n",
    "nltk.download()"
   ]
  },
  {
   "cell_type": "markdown",
   "id": "191a0d01",
   "metadata": {},
   "source": [
    "# Tokenization"
   ]
  },
  {
   "cell_type": "code",
   "execution_count": 37,
   "id": "f3728977",
   "metadata": {},
   "outputs": [],
   "source": [
    "data=data[['review','Sentiment']]"
   ]
  },
  {
   "cell_type": "code",
   "execution_count": 38,
   "id": "4b159b5f",
   "metadata": {},
   "outputs": [
    {
     "data": {
      "text/plain": [
       "'Unable to save my work. Nothing works :('"
      ]
     },
     "execution_count": 38,
     "metadata": {},
     "output_type": "execute_result"
    }
   ],
   "source": [
    "data.loc[13,'review']"
   ]
  },
  {
   "cell_type": "code",
   "execution_count": 41,
   "id": "56a3b055",
   "metadata": {},
   "outputs": [
    {
     "data": {
      "text/plain": [
       "['Unable to save my work.', 'Nothing works :(']"
      ]
     },
     "execution_count": 41,
     "metadata": {},
     "output_type": "execute_result"
    }
   ],
   "source": [
    "sent_tokenize(data.loc[13,'review'])"
   ]
  },
  {
   "cell_type": "code",
   "execution_count": 43,
   "id": "7df99ffe",
   "metadata": {},
   "outputs": [
    {
     "data": {
      "text/plain": [
       "'Absolutely amazing and a lifesaver for teachers.'"
      ]
     },
     "execution_count": 43,
     "metadata": {},
     "output_type": "execute_result"
    }
   ],
   "source": [
    "data.loc[1495,'review']"
   ]
  },
  {
   "cell_type": "code",
   "execution_count": 44,
   "id": "edad3439",
   "metadata": {},
   "outputs": [
    {
     "data": {
      "text/plain": [
       "['Unable', 'to', 'save', 'my', 'work', '.', 'Nothing', 'works', ':', '(']"
      ]
     },
     "execution_count": 44,
     "metadata": {},
     "output_type": "execute_result"
    }
   ],
   "source": [
    "word_tokenize(data.loc[13,'review'])"
   ]
  },
  {
   "cell_type": "code",
   "execution_count": 45,
   "id": "447ebc9b",
   "metadata": {},
   "outputs": [
    {
     "data": {
      "text/plain": [
       "['Very',\n",
       " 'nice',\n",
       " 'but',\n",
       " 'many',\n",
       " 'a',\n",
       " 'times',\n",
       " 'shows',\n",
       " 'error',\n",
       " 'opening',\n",
       " 'the',\n",
       " 'ppt',\n",
       " '.',\n",
       " 'This',\n",
       " 'was',\n",
       " 'my',\n",
       " 'school',\n",
       " 'project',\n",
       " 'and',\n",
       " 'now',\n",
       " 'has',\n",
       " 'disturbed',\n",
       " 'me',\n",
       " '.']"
      ]
     },
     "execution_count": 45,
     "metadata": {},
     "output_type": "execute_result"
    }
   ],
   "source": [
    "word_tokenize(data.loc[1496,'review'])"
   ]
  },
  {
   "cell_type": "markdown",
   "id": "8671010f",
   "metadata": {},
   "source": [
    "# Convert text to lower case"
   ]
  },
  {
   "cell_type": "code",
   "execution_count": 47,
   "id": "a10bace4",
   "metadata": {},
   "outputs": [],
   "source": [
    "reviews=list(data['review'])"
   ]
  },
  {
   "cell_type": "code",
   "execution_count": 48,
   "id": "408e5721",
   "metadata": {},
   "outputs": [
    {
     "data": {
      "text/plain": [
       "1500"
      ]
     },
     "execution_count": 48,
     "metadata": {},
     "output_type": "execute_result"
    }
   ],
   "source": [
    "len(reviews)"
   ]
  },
  {
   "cell_type": "code",
   "execution_count": 50,
   "id": "5f9224d8",
   "metadata": {},
   "outputs": [],
   "source": [
    "reviews_lower=[r.lower() for r in reviews]"
   ]
  },
  {
   "cell_type": "code",
   "execution_count": 52,
   "id": "a8b77d00",
   "metadata": {},
   "outputs": [],
   "source": [
    "tokens=[word_tokenize(r) for r in reviews_lower]"
   ]
  },
  {
   "cell_type": "code",
   "execution_count": 56,
   "id": "3e330375",
   "metadata": {},
   "outputs": [
    {
     "data": {
      "text/plain": [
       "'unable'"
      ]
     },
     "execution_count": 56,
     "metadata": {},
     "output_type": "execute_result"
    }
   ],
   "source": [
    "tokens[13][0]"
   ]
  },
  {
   "cell_type": "code",
   "execution_count": 57,
   "id": "a3047ac5",
   "metadata": {},
   "outputs": [
    {
     "data": {
      "text/plain": [
       "1500"
      ]
     },
     "execution_count": 57,
     "metadata": {},
     "output_type": "execute_result"
    }
   ],
   "source": [
    "len(tokens)"
   ]
  },
  {
   "cell_type": "markdown",
   "id": "555b7d39",
   "metadata": {},
   "source": [
    "# Stopwords Removal"
   ]
  },
  {
   "cell_type": "code",
   "execution_count": 59,
   "id": "591a6183",
   "metadata": {},
   "outputs": [],
   "source": [
    "#remove common words\n",
    "\n",
    "sw=stopwords.words('english')"
   ]
  },
  {
   "cell_type": "code",
   "execution_count": 64,
   "id": "494e57df",
   "metadata": {},
   "outputs": [],
   "source": [
    "tokens= [[ word for word in t if word not in sw] for t in tokens]"
   ]
  },
  {
   "cell_type": "code",
   "execution_count": 66,
   "id": "978739e8",
   "metadata": {},
   "outputs": [
    {
     "data": {
      "text/plain": [
       "['nice',\n",
       " 'many',\n",
       " 'times',\n",
       " 'shows',\n",
       " 'error',\n",
       " 'opening',\n",
       " 'ppt',\n",
       " '.',\n",
       " 'school',\n",
       " 'project',\n",
       " 'disturbed',\n",
       " '.']"
      ]
     },
     "execution_count": 66,
     "metadata": {},
     "output_type": "execute_result"
    }
   ],
   "source": [
    "tokens[1496]"
   ]
  },
  {
   "cell_type": "markdown",
   "id": "81c3fd5d",
   "metadata": {},
   "source": [
    "## Remove punctuations"
   ]
  },
  {
   "cell_type": "code",
   "execution_count": 68,
   "id": "a502bbd8",
   "metadata": {},
   "outputs": [],
   "source": [
    "tokenizer=RegexpTokenizer(r'\\w+')"
   ]
  },
  {
   "cell_type": "code",
   "execution_count": 69,
   "id": "779d6a8c",
   "metadata": {},
   "outputs": [
    {
     "data": {
      "text/plain": [
       "['wasn', 't']"
      ]
     },
     "execution_count": 69,
     "metadata": {},
     "output_type": "execute_result"
    }
   ],
   "source": [
    "tokenizer.tokenize(\"wasn't\")"
   ]
  },
  {
   "cell_type": "code",
   "execution_count": 72,
   "id": "2a28b4f9",
   "metadata": {},
   "outputs": [],
   "source": [
    "tokens=[[\"\".join(tokenizer.tokenize(word)) for word in t if len(tokenizer.tokenize(word))>0] for t in tokens]"
   ]
  },
  {
   "cell_type": "code",
   "execution_count": 73,
   "id": "95fc3a76",
   "metadata": {},
   "outputs": [
    {
     "data": {
      "text/plain": [
       "['unable', 'save', 'work', 'nothing', 'works']"
      ]
     },
     "execution_count": 73,
     "metadata": {},
     "output_type": "execute_result"
    }
   ],
   "source": [
    "tokens[13]"
   ]
  },
  {
   "cell_type": "markdown",
   "id": "b0f909fe",
   "metadata": {},
   "source": [
    "# Stemming"
   ]
  },
  {
   "cell_type": "code",
   "execution_count": 78,
   "id": "fe014286",
   "metadata": {},
   "outputs": [],
   "source": [
    "#getting all the root words\n",
    "\n",
    "porter =PorterStemmer()\n",
    "lancaster = LancasterStemmer()"
   ]
  },
  {
   "cell_type": "code",
   "execution_count": 79,
   "id": "42be182a",
   "metadata": {},
   "outputs": [
    {
     "data": {
      "text/plain": [
       "'teacher'"
      ]
     },
     "execution_count": 79,
     "metadata": {},
     "output_type": "execute_result"
    }
   ],
   "source": [
    "porter.stem(\"teachers\")"
   ]
  },
  {
   "cell_type": "code",
   "execution_count": 81,
   "id": "84e38fdc",
   "metadata": {},
   "outputs": [],
   "source": [
    "tokens=[[porter.stem(word) for word in t] for t in tokens]"
   ]
  },
  {
   "cell_type": "code",
   "execution_count": 83,
   "id": "c95bcb94",
   "metadata": {},
   "outputs": [
    {
     "data": {
      "text/plain": [
       "['nice',\n",
       " 'mani',\n",
       " 'time',\n",
       " 'show',\n",
       " 'error',\n",
       " 'open',\n",
       " 'ppt',\n",
       " 'school',\n",
       " 'project',\n",
       " 'disturb']"
      ]
     },
     "execution_count": 83,
     "metadata": {},
     "output_type": "execute_result"
    }
   ],
   "source": [
    "tokens[1496]"
   ]
  },
  {
   "cell_type": "markdown",
   "id": "e1dd3f5c",
   "metadata": {},
   "source": [
    "# Word count Distribution"
   ]
  },
  {
   "cell_type": "code",
   "execution_count": 86,
   "id": "a6fdcad5",
   "metadata": {},
   "outputs": [],
   "source": [
    "flat_tokens=[word for t in tokens for word in t]"
   ]
  },
  {
   "cell_type": "code",
   "execution_count": 88,
   "id": "cadbe2c4",
   "metadata": {},
   "outputs": [
    {
     "data": {
      "text/plain": [
       "13782"
      ]
     },
     "execution_count": 88,
     "metadata": {},
     "output_type": "execute_result"
    }
   ],
   "source": [
    "len(flat_tokens)"
   ]
  },
  {
   "cell_type": "code",
   "execution_count": 89,
   "id": "4c7e3b3e",
   "metadata": {},
   "outputs": [
    {
     "data": {
      "text/plain": [
       "['overal', 's', 'realli', 'amaz', 'app', 've', 'use', 'past', '5', 'year']"
      ]
     },
     "execution_count": 89,
     "metadata": {},
     "output_type": "execute_result"
    }
   ],
   "source": [
    "flat_tokens[:10]"
   ]
  },
  {
   "cell_type": "code",
   "execution_count": 93,
   "id": "7348aa37",
   "metadata": {},
   "outputs": [],
   "source": [
    "counts=Counter(flat_tokens)"
   ]
  },
  {
   "cell_type": "code",
   "execution_count": 95,
   "id": "c5277d91",
   "metadata": {},
   "outputs": [
    {
     "data": {
      "text/plain": [
       "1720"
      ]
     },
     "execution_count": 95,
     "metadata": {},
     "output_type": "execute_result"
    }
   ],
   "source": [
    "len(counts)"
   ]
  },
  {
   "cell_type": "code",
   "execution_count": 96,
   "id": "c31370d3",
   "metadata": {},
   "outputs": [
    {
     "data": {
      "text/plain": [
       "[('app', 932),\n",
       " ('use', 474),\n",
       " ('design', 349),\n",
       " ('easi', 293),\n",
       " ('s', 240),\n",
       " ('love', 220),\n",
       " ('good', 219),\n",
       " ('edit', 191),\n",
       " ('make', 190),\n",
       " ('great', 184)]"
      ]
     },
     "execution_count": 96,
     "metadata": {},
     "output_type": "execute_result"
    }
   ],
   "source": [
    "counts.most_common(10)"
   ]
  },
  {
   "cell_type": "markdown",
   "id": "1df1a72f",
   "metadata": {},
   "source": [
    "# Bag of Words"
   ]
  },
  {
   "cell_type": "code",
   "execution_count": 102,
   "id": "3a86737f",
   "metadata": {},
   "outputs": [],
   "source": [
    "clean_reviews=[\" \".join(t) for t in tokens]"
   ]
  },
  {
   "cell_type": "code",
   "execution_count": 104,
   "id": "d5cf5bae",
   "metadata": {},
   "outputs": [
    {
     "data": {
      "text/plain": [
       "1500"
      ]
     },
     "execution_count": 104,
     "metadata": {},
     "output_type": "execute_result"
    }
   ],
   "source": [
    "len(clean_reviews)"
   ]
  },
  {
   "cell_type": "code",
   "execution_count": 108,
   "id": "7959e4f2",
   "metadata": {},
   "outputs": [
    {
     "data": {
      "text/plain": [
       "['overal s realli amaz app ve use past 5 year howev one issu though want get address sinc think issu last mani year text blur zoom s pixel thought issu occur mobil app howev also present websit pleas fix still rememb time export high definit text love experi thank',\n",
       " 'hey ye gave 5 star rate coz believ deserv mostli use desktop version serious satisfi app android desktop version came thank develop beauti app facil liter find almost everyth need best part even without premium featur provid us lot mani facil love thank',\n",
       " 'canva use good app recent ve face issu save file want file save png format get save jpg format moreov want file save get stuck download screen call magic happen ll get 1 star hope fix app soon thank',\n",
       " 's brilliant app one problem m edit post doubl tap photo reposit start zoom photo 8 time 10 app crash restart lg g5 se sometim ve go desktop version pc reposit zoom photo want resum edit back mobil',\n",
       " 'great app use make bt meme recent updat m abl chang font style edit option font miss tri uninstal instal app still s nt work edit option font appear rare previou version far better canva could pleas work',\n",
       " 'app realli great given fact first time give review app s great creat logo flier small compani busi although gave 4 star need data oper ll love see newer version nt use data use app great job',\n",
       " 'canva great app basic design job well m rate 2 star keep take featur away free version put behind subscript wall rather creat new featur ad new font graphic premium also feel subscript price 1299mo pretti steep someon nt use busi everi singl day want hand font',\n",
       " 'use app last 2 month use make thumbnail banner video watermark thumbnail look much attract app s mani peopl attract come video give 5 star mani ad still love app thank make wonder app thank',\n",
       " 'superb user interfac finish edit first video wonder awesom paid version hope app make product label put label mock bottl exampl like full function adob kind need skill set prefer easi edit like app thank canva',\n",
       " 'start trial everyth work pretti well decid purchas everi month guess everi video edit save never save even mani time tri said save check file never seen pictur caption blur need screenshoot crop use edit design happen canva wast moneyyyi hope solv problem pleas',\n",
       " 'realli great edit app around make great everyth need basic edit make edit easier premad tool sticker design etc gave four star slow load especi start app pretti stress realli got ta patienc wait stuff load',\n",
       " 'troubl download file recent even clean cach stuck download page call make magic happen window even went extend uninstal reinstal app still recent problem occur alright premium user problem still nt improv s disappoint might well discontinu membership',\n",
       " 'great app although prefer desktop version wish canva option close caption video',\n",
       " 'unabl save work noth work',\n",
       " 'app realli help edit kind graphic turn art informat develop realli brilliant abl save money app consist thousand readi use templat user friendli design resum poster conveni easi use',\n",
       " '8 10 time app crashesanoth main issu slide bottom panel edit interfac randomli select icon frustrat bze go transpar tool font size tool automat select anoth issu thumbnail problem ca nt distinguish particular templat bze thumbnail may show imag previou work done templat',\n",
       " 'hate nt desktop version s easier anticip thank complet garbag partial garbag',\n",
       " 'live canva much s first time app far good could nt find option transpar background nt work s bad s great featur desktop version',\n",
       " 'nt open design even let make new one sent video screenshot canvameandroid pleas look asap ve lot project social media site client project freelanc site pend',\n",
       " 'realli good app ve ever use anyth want creat anywher without glitch love it',\n",
       " 'nice app add gradient colour option need much lebel design anoth thing remov zoom option help thank pleas',\n",
       " 'app great tbh recent take long save imag even though connect s strong',\n",
       " 'app go worst worst everi updat lag crash becom hobbi app aften automat close work sometim auto restart also s take much time open final team decid uninstal app use adob spark howev adob spark nt enough featur perform app better canva',\n",
       " 'good app keep say get pro version take lot time load asap also glitch alot say net low pleas fix',\n",
       " 'fantast applic photo edit much happi instal',\n",
       " 'realli realli realli good app logo thing like much want youtub logo thumbnail anyth pleas instal app app good',\n",
       " 'app good ca nt believ d ever find someth good like app perfect beginn well m beginn say realli perfect one re read instal app right away realli easi realli good realli cool',\n",
       " 've use app awhil paid pro recent updat d annoy issu share mode share file use app save work first go galleri n manual share share button work could u fix prob ve month tri log n plu uninstal instal still problem',\n",
       " 'awesom app make posterlogo make sooo easi thank develop design',\n",
       " 'alway close tri log attempt open first nt abl save photo creat instal uninstal s problem could nt abl least log crash right away',\n",
       " 'thank app abl design mybloho busi card eas look forward use advertis social media yay canva help reach goal thank',\n",
       " 'like app interest help make differ graphic',\n",
       " 'one best photo creator android easi use get mani design templat free',\n",
       " 'nice app 100 per satisfi recommend everyon better use use websit',\n",
       " 'desin 8 page design could nt save share happen 4 time',\n",
       " 'program sever weak output work save time take lot time',\n",
       " 'great app total recommend small busi owner etc would get like templat resiz option free version plz',\n",
       " 'wonder place creativ mani templat play help small busi',\n",
       " 'fantast app love day day life realli cool use profession benefit properli use app',\n",
       " 'canva best app servic creat beauti high qualiti design use year variou purpos canva never dissapoont tool offer level qualiti simplic love',\n",
       " 'good until ca nt use app drag imag screen glitch want help canva custom servic horribl',\n",
       " 'got kind new glitch app use find mobil ca nt chang font project incred frustrat canva work phone',\n",
       " 's nice appi prefer download high qualiti imag',\n",
       " 'far mobil design app m impress similarli edit desktop app version easili make small chang quickli creat someth new need pretti intuit interfac realli like one',\n",
       " 'free option decent m still play around updat later',\n",
       " 'easi use mani free option',\n",
       " 'best edit creat logo imag video love',\n",
       " 'never knew could design banner phone easi use perfect app',\n",
       " 'easi use get use lot free option afford subscript',\n",
       " 'm absolut love canva help make design indispens thank you',\n",
       " 'awesom app peopl ca nt afford premium without premium peopl',\n",
       " 'reset phone download canva log problem option reset password bad',\n",
       " 'easi use mani free option choos',\n",
       " 'far like canva nt done much person yet ve made thing easi know other use canva make someth turn great also like said easi right pro use free option howev may look pro offer',\n",
       " 'one among best photo edit graphic design poster make app whole work depend canva',\n",
       " 's realli good app edit ca nt write photo want write',\n",
       " 'use canva year log new phone abl add text s realli annoy pleas tell s wrong',\n",
       " 'crapp ever anyth besid crash everi time s open',\n",
       " 'great present faboulu task less time want get interest featur get idea work',\n",
       " 's wonder app easi use s local languag option font s wonder app',\n",
       " 'recent updat canva app latest updat keep reload keep close app fix pleas thank',\n",
       " 'great app love easi use varieti thing',\n",
       " 's amaz app ofcours im face crash app pleas fix soon deadlin reach soon',\n",
       " 'good video photo edit app s function much design',\n",
       " 'great app easi use intrest templat love',\n",
       " 'perfect suit love much nt lag',\n",
       " 'worst ever attract first everyth turn pro item requir payment',\n",
       " 'download design havrm tri everyth go happen',\n",
       " 'great app lot free templat',\n",
       " 'good simpl app lot featur',\n",
       " 'good stuff go intuit best use laptop version',\n",
       " 'awesom app good re busi',\n",
       " 'lot fun use app job also done well',\n",
       " 'great app crash keep restart frustat unabl use app',\n",
       " 'far good lot free design simpl beginn like use',\n",
       " 'hi canva dev team love app latest updat save design m use android phone use work perfectli pl assist thk mark',\n",
       " 'love easi style fanci',\n",
       " 'love app payment minim platform easier',\n",
       " 'use app laptop 3 year love app use app everi ppt poster other mani competit make video ppt s canva realli advic everyon use app kushagra',\n",
       " 'one best app ever use major templat free cost thier qualiti awesom use app nearli 2 month nt face problem make work way easi',\n",
       " 'super amaz app easi use d recommend everyday',\n",
       " 'app cool provid free templat edit make us writer easier find interest book cover other thank provid cool app',\n",
       " 'canva great deal job edit photo love templat offer',\n",
       " 'might lose work reli much autosav featur like despit s use app tool need',\n",
       " 'free version paid version categori option enabl',\n",
       " 'great app easi use fantast end result',\n",
       " 'work disappear sure what happen app tragic experi anyon use app design thing',\n",
       " 'one best app make present need go anywher download extra photo add find million option',\n",
       " 's nice app never new could creat design free look app design definit tri canva',\n",
       " 'app realli amaz love coz give best templat tool content',\n",
       " 'easi use lot great design',\n",
       " 'nice app provid templat easi custom ad pictur galleri anim letter',\n",
       " 'dig help make mock up easili problem far',\n",
       " 'abl regist time get error state technic issu',\n",
       " 'make easi post graphic simpl anim instagram',\n",
       " 'canva amaz easi use',\n",
       " 'absolut love app s go media need',\n",
       " 'canva easi use free templat numer vari thank',\n",
       " 'good softwar logo youtub thumbnail poster',\n",
       " 'easi creat poster love app',\n",
       " 'good app get confus sometim mayb caus first time use overal good',\n",
       " 's amaz help lot make differ design pro subscrib still love',\n",
       " 'canva great app would recommend auto save someth happen edit know lah photo video stay place peac chill',\n",
       " 'love first until updat version spoil funcouldnt open fast app exit whole lot disturb internet prblmsam disappoint',\n",
       " 'pay pro subscript monthli allow use pro featur without watermark help',\n",
       " 'best design platform mani awesom free option high qualiti',\n",
       " 'even free version make feel like editor',\n",
       " 'best app edit thumbnail present stori poster mani u must tri',\n",
       " 'best app world make ppt wallpap everi thing els sure tri',\n",
       " 'well app poster edit best thing canva s ad free',\n",
       " 'nice use use long time hang phone that give 4',\n",
       " 'realli fabul app app could make realli nice profression thumbnail could edit anyth amzingli video',\n",
       " 'canva far best quickest way creat thumbnail channel realli help lot',\n",
       " 'super applicationveri easi use without water markthank creater',\n",
       " 'one best mobil design app easi use plu design fun',\n",
       " 'great applic help make birthday eid mubarak facebook cover amaz want becom design best',\n",
       " 'best app ever use creat poster flyer',\n",
       " 'great simpl beginn',\n",
       " 'well app suck badli ve open app 2 time time shut phone time m delet d advis anyon use horribl',\n",
       " 'app good video edit set text anim set app pleas improv option option want free version',\n",
       " 'great app need logo like gamer logo want shark someth like nt someth like annoy',\n",
       " 'use use mobil version good updat s glitchi almost unus pleas fix',\n",
       " 'junk app charg automat offer refund never consid use defenetley reccomend',\n",
       " 'good app student edit project eas choos variou design',\n",
       " 'easi simpl use good app graphic design logo',\n",
       " 'm still learn use seem simpl nice design',\n",
       " '𝙞 𝙡𝙞𝙠𝙚 𝙩𝙝𝙞𝙨 𝙖𝙥𝙥 𝘪 𝘰𝘧𝘵𝘦𝘯 𝘶𝘴𝘦 𝘪𝘵 𝘵𝘰 𝘤𝘳𝘦𝘢𝘵𝘦 𝘴𝘰𝘮𝘦 𝘭𝘰𝘨𝘰𝘴 𝘧𝘰𝘳 𝘮𝘺𝘴𝘦𝘭𝘧 𝘢𝘯𝘥 𝘵𝘩𝘪𝘴 𝘪𝘴 𝘵𝘩𝘦 𝘣𝘦𝘴𝘵 𝘢𝘱𝘱 𝘵𝘩𝘢𝘵 𝘪 𝘩𝘢𝘥',\n",
       " 'easi use love templat',\n",
       " 'canva awesom app creat tone school project problem lag bit otherwis love',\n",
       " 'excel stuff improv save system nt work smoothli',\n",
       " 'thank canva profession graphic design softwar wonder job',\n",
       " 'everyth great s kept buffer download video project pleas fix issu',\n",
       " 'love app order first poster got week use free ship qualiti top tier',\n",
       " 'could make featur delet everyth instead click one time thank advanc',\n",
       " 'pleas solv bug export download anyth download full album overal good experi',\n",
       " 'troubl download project button grey cant press also tri save project save button nt even show',\n",
       " 'simpl use lot option user friendli good app',\n",
       " 'great ca nt access pro featur countri nt onlin payment s great tool',\n",
       " 'thank much app find use get thing quick profession',\n",
       " 'hate new layout s stressful also find difficult save work',\n",
       " 'good app design logo ton option custom',\n",
       " 'absolut love app easi use great featur',\n",
       " 'opinion app smooth good work edit reason rate 4 star tri save design either problem get stuck last therefor work goe vain know take ss qualiti ruin hope develop fix s instal app',\n",
       " 'good app video imag everyth make sure look like profession made',\n",
       " 's beauti experi sinc start use app love sinc introduc friend colleagu',\n",
       " 'super ez use wan na creat great social media market content budget fantast option',\n",
       " 'easi use gr8 design',\n",
       " 'free templat ilov app best logo design',\n",
       " 'nice app creat mani design make easi design easi',\n",
       " 'app bug im unabl edit content sinc ive updat what happen',\n",
       " 'loooooveee app easi use profession output',\n",
       " 'download applic s give fals notic connect mobil network m connect internet',\n",
       " 'abl download design video subscrib pro version think need cancel situat stay',\n",
       " 'app longer work abl use day neither save download finish work suck',\n",
       " 'nice app good creat banner option avail make banner beauti',\n",
       " 'help app creat beauti creatur outstand',\n",
       " 'love canva s game changer us challeng design mostli use portfolio resum also social media promo',\n",
       " 'super easi use design super autêntico e inédito amo demai ess app',\n",
       " 'dope good beginn cuz alot free stuff',\n",
       " 'canva best graphic design app known long time alway like',\n",
       " 'great app complaint ca nt use offlin',\n",
       " 'everyth fine recent l ca nt download design l updat app still experienc problem help',\n",
       " 'good app youtub courier s good make thumbnail graphic design basic photoshop',\n",
       " 'amaz quick help immens social media content market content',\n",
       " 'great interfac easi deciph s complimentari premium',\n",
       " 'app wo nt open anymor keep use googl account continu say error end',\n",
       " 'super love special fact offer free templat stuff',\n",
       " 'awesom asort templat mani differ thing logo add resum love',\n",
       " 's realli amaz app help effici realli like app edit anyth want save instantli',\n",
       " 'use app inde everyon make design need love',\n",
       " 'terbaik love sooo much muahhh2 simpl edit lot templat',\n",
       " 'alway love canva easi use realli prefect',\n",
       " 'simpl lot templat helpful edit app',\n",
       " 'impress aap issu download print s work',\n",
       " 'cant download present made suck kept say canva encount small problem tri download pleas tri',\n",
       " 'edit page text chang difficult edit text',\n",
       " 'good give option edit imag',\n",
       " 'best app long one star first need learn go',\n",
       " 'easi navig much fun creat invit kid s parti',\n",
       " 'product help',\n",
       " 'incred customiz varieti',\n",
       " 'good simpl mobil content edit',\n",
       " 'best app would recommend app everyon want edit busi stuff easi use s lot good featur',\n",
       " 'fantast awesom applic realli enjoy',\n",
       " 'best simpl mani templat use',\n",
       " 'old version fast better new low respond updat new version',\n",
       " 'work great great option easi use',\n",
       " 'help project one suggest make thing free would great',\n",
       " 'realli love app s easi use help much',\n",
       " 'lot fun option everi project skill level',\n",
       " 'like work canva simpl understand use',\n",
       " 'updat canva ca nt save video photo edit',\n",
       " 'game logo bekar hai meant game logo templat useless',\n",
       " 'applic amaz slow',\n",
       " 'pleas fix cant save work mani time good featur would useless cant save',\n",
       " 'world best bad video creat app take mani time export second video',\n",
       " 'ca nt bold underlin text photo click edit noth happen',\n",
       " 'design s download mani time',\n",
       " 'use canva boost busi promot s amaz use apk busi entrepreneur',\n",
       " 'im design app save time creat design time outsid',\n",
       " 'great flyer promot materi small busi',\n",
       " 'nice app edit logo insta post etc',\n",
       " 'super easi super fun super creativ subscrib',\n",
       " 'great app love use album cover',\n",
       " 'lag issu realli impress team s quick repli thank _',\n",
       " 's fantast app first good hope enjoy continu',\n",
       " 'worst shyt ever slow everi way take 12hour download project',\n",
       " 'easi frustrat non tech person',\n",
       " 'waaa interest pictur thank canva help edit pictur thank give 5 star',\n",
       " 'easi use love templat',\n",
       " 'would better flexibl touch click sampl use desktop browser appli applic',\n",
       " 'give 4 star thing idk call premium need money overal app good',\n",
       " 'mani bugsth enter key nt even take next line ruin postspleas fix bug minor thing',\n",
       " 'platform use edit youtub thumbnail',\n",
       " 'love like best graphic edit app',\n",
       " 'ever best app social media type toll hust tri forget everyth',\n",
       " 'useful everyth like front page instagram stori realli like app',\n",
       " 'nice app download tri design someth give want',\n",
       " 's nice userfriendli app use',\n",
       " 'semma super ba nice edit invit s atleast make 50 version due attract',\n",
       " 'best simpl eleg design',\n",
       " 'sticker cute varieti better',\n",
       " 'easi use interfac great app',\n",
       " 'awesom creat whatev want would love chef cook commer day canva',\n",
       " 'best app far easi use',\n",
       " 'awesom app easi use',\n",
       " 'handi softwar noviceit easi creat poster video erc',\n",
       " 'great power design tool',\n",
       " 'amaz app seen starter still get wt app guiden ll soon learn use hope',\n",
       " 'fun easi use highli recommend',\n",
       " 'user friendli easi edit',\n",
       " 'super app hd quot pictur gif text awesom canva app',\n",
       " 'good app make present collag etc',\n",
       " 'iam unabl edit text second page editsr frustrat plz solv issu soon',\n",
       " 'good creat channel icon art',\n",
       " 'good app gener issu found',\n",
       " 'help full doubt total usefulltri',\n",
       " 'good app use full',\n",
       " 'help lot good card templat mani design edit',\n",
       " 'great app purpos keep updat effect servic',\n",
       " 'm use app last 2 year never disappoint free stuff like one pro user love',\n",
       " 'amaz aap mani option creat idea',\n",
       " 'great help design photo etc thank u much',\n",
       " 'easi use perfect practic',\n",
       " 'good applic use make thumbnail',\n",
       " 'good applic edit creat post recommend',\n",
       " 'pictur download blurri pleas fix problem',\n",
       " 'canva best app illustr',\n",
       " 'wo nt download send other via text email etc',\n",
       " 'app superb get design way',\n",
       " 'great app help heap school work',\n",
       " 'easi rich content avail everyon',\n",
       " 'easi use best edit applic ve ever',\n",
       " 'amaz app creat personalis ad',\n",
       " 'good app use youtub mani graphic design',\n",
       " 'awesom beginn expertslov',\n",
       " 'tbh tri project app work quit well love',\n",
       " 'amaz app help make youtub channel logo thumbnail',\n",
       " 'experi use app hard start realli enjoy end',\n",
       " 'great editor easi use app',\n",
       " 'excel applic social media market design post',\n",
       " 's give high qualiti imag free',\n",
       " 's advanc photo editor appcreat everi photo genuin',\n",
       " 'wow app amazingfun use play around graphic design',\n",
       " 'great app m happili satisfi',\n",
       " 'new updat wo nt allow save glitchi',\n",
       " 'amaz app beginn experienc design common peopl s also',\n",
       " 'great app love best design app ever use',\n",
       " 'good applic offic document well organis file thank',\n",
       " 'excel graphic design',\n",
       " 'love applic muchit motiv edit stuff could',\n",
       " 'great app everi biggner skill app provid skill base knowledg thank',\n",
       " 'frustrat take much time save',\n",
       " 'sometim app nt open even wifi connect',\n",
       " 'help nice present poster etc',\n",
       " 'great app mani templat choos',\n",
       " 'app nt open keep ask check network set network fine s problem',\n",
       " 'use first friend recommend app said one best app android',\n",
       " 'amaz app ca nt wait play more lot featur',\n",
       " 'nice app may kind design',\n",
       " 'canva good app think allow templat make better app',\n",
       " 'best app pictur edit poster make',\n",
       " 'nice app lot thing want use ca nt use premium pack',\n",
       " 'help daili post edit design task run smoothli love canva make life easier',\n",
       " 's need unlimit free user cours limit data use',\n",
       " 'work slow lot bug ca nt guy keep basic edit featur offlin',\n",
       " 'help app small design creator mobil recommend',\n",
       " 'good make edit easier thank',\n",
       " 'amaz design easi use bravo guy',\n",
       " 'aa realli great app type edit app first suggest edit',\n",
       " 'wonder product uniqu design option',\n",
       " 'use app hard give 5 star realli good work guy',\n",
       " 'soo cool easi use alway look someth like one app tone featur',\n",
       " 'realli amaz bcoz templat featur grate',\n",
       " 'app amaz websit s creativ fun',\n",
       " 'easi use mani templat choos',\n",
       " 'easi use fun wish music option',\n",
       " 'app keep take money account cancel everytim tri request money back app say wo nt pay back nt seem legitim',\n",
       " 'new updat bad app take forev save design',\n",
       " 'ca nt find element like smoke logo',\n",
       " 'best applic make logo anyth',\n",
       " 'creat logo app s amaz fell love first app',\n",
       " 'featur requir two edit get hang therefor give 4 star',\n",
       " 'app super cool user friendli s simpli best app go',\n",
       " 'awesom appi nt word explainnic marvel app',\n",
       " 'cool great app learn design',\n",
       " 'guy great job graphic aspect wow',\n",
       " 'easi use great design perfect want',\n",
       " 'superb edit app good qualiti osm',\n",
       " 'perfect easi use',\n",
       " 'easi use design awesom love',\n",
       " 'easi help especi new one',\n",
       " 'best app edit give superb option edit free also',\n",
       " 'new updat make app glitch tri work pleas fix still project',\n",
       " 'easi use much enough readi templat great',\n",
       " 'realli help gave lot option',\n",
       " 'easi use figur',\n",
       " 'effici app help design lot brochur project work thank u canva',\n",
       " 'cool interfac love templat user friendli',\n",
       " 'app help make stuff includ poster post easier id definetli recommend',\n",
       " 'great tool design anyth visual',\n",
       " 'super app youtub thumbnail download gain subscrib excel',\n",
       " 'make design easi s definit worth',\n",
       " 'face problem save photo',\n",
       " 'everyth good pro version expens',\n",
       " 'easi useveri use app androidshould better next day provid use featur',\n",
       " 'app cool plzzzzz fix lag problem took much time load imag',\n",
       " 'app bigger odinari emoji keyboard diffrenc absolut clearer',\n",
       " 'wonder app m love anyth u wish',\n",
       " 'better picsartgood experi',\n",
       " '1st export nt even finish said prepar 10 minut screenshot work keep lose',\n",
       " 'easi use 5star moon plu sun app realli love it',\n",
       " 'easi use except high qualiti',\n",
       " 'realli good app thumbnail make easi',\n",
       " 'love templat easi edit',\n",
       " 'use find type app found miss bestfreind that need 1 edit app got thank app',\n",
       " 'user friendli profession templat',\n",
       " 'loveee thisss appp want find thank made app whatev like app soo much',\n",
       " 'amaz edit app everyth love',\n",
       " 'canva pro member love yo use make easi design',\n",
       " 'nt like new updat layout good pleas make use',\n",
       " 'awesom edit smoothli easi way awesom thank canva',\n",
       " 'easi simpl use',\n",
       " 'good overal hope outlin colour text ad',\n",
       " 'uninstal right away hang stupidli stupid bug app cant even get one design',\n",
       " 'super use data throughout graphic design',\n",
       " 'one amaz one perfect beginn even expert love',\n",
       " 'nice easi design',\n",
       " 'great app easi edit photo good job',\n",
       " 'wonder easi use design tool',\n",
       " 'edit work properli edit app save thumbnail pleas fix',\n",
       " 'great write back side busi card',\n",
       " 'paid design money deduct account actual amount yet nt design peopl collect money without render servic also take price product',\n",
       " 'canva app wo nt open keep ask check network connect pleas someth help',\n",
       " 'app great mani task solv',\n",
       " 'one favourit app user friendli use kind project',\n",
       " 's great app use advertis photographi busi',\n",
       " 'amaz app easi use templat',\n",
       " 'would love suggest merg option edit merg one text one box',\n",
       " 'easi use great rang templat',\n",
       " 'nice app use canva certif first time blow mind',\n",
       " 'nice app make flyer banner etc',\n",
       " 'good social media limit text featur photo shape',\n",
       " 's awesom app canva start freelanc s nice app',\n",
       " 'good app logo design',\n",
       " 'realli use easi use flyer design app',\n",
       " 'easi intuit awesom templat',\n",
       " 'worst lot time automat zoom',\n",
       " 'best app design everi thing facebook instagram post stori more incred app',\n",
       " 'wish option reshap pictur eg squar circl etc',\n",
       " 'app bad account use premium account nt use also log feel bad hate',\n",
       " 'best app ve ever use design need need lil work upgrad video',\n",
       " 's easi use easier navig',\n",
       " 'download one tell pleas free cost use type logo version',\n",
       " 'help make design like pro',\n",
       " 'easi use pc phone',\n",
       " 'nt issu enjoy use canva busi person event',\n",
       " 'pleas make sure imag download fast tooo slow worser otherwis app sooo cute',\n",
       " 'think amaz applic fact welcom come offic get know other much',\n",
       " 'realli super edit app download first nt know use someday app marvel',\n",
       " 'pretti good crop tool pretti hard control',\n",
       " 'servic great great templat',\n",
       " 'love app s great busi fun',\n",
       " 'wait long save result edit pleas fix',\n",
       " 'realli help creator s give templat',\n",
       " 'super creater forev like friend recommend applic',\n",
       " 'perfect edit mani free templat',\n",
       " 'would great nt keep forget m use pro take away certain option resiz',\n",
       " 'stop steal moneyy charg even cancel subscript trial end there request refund fill form submit bottom valid give back moneyim even satisfi app delet',\n",
       " 'love app good edit photo free',\n",
       " 'nt download without login like googl face book s work photo editor app s ask person inform',\n",
       " 'amaz app use tube video get manni view',\n",
       " 'like app add perfect edit',\n",
       " 'lot free style easi use',\n",
       " 'pleas tell contact email charg twice unabl submit issu kindli help',\n",
       " 'best fastest tool edit photo fli',\n",
       " 'app realli help lot creat graphic make minut',\n",
       " 's good line come present slide show slide number disturb view present',\n",
       " 'thank amaz app without youtub channel would nt exist',\n",
       " 'realli stun app new initi compani realli love',\n",
       " 'conveni easi use',\n",
       " 'app realli amaz problem s take time pic download',\n",
       " 'love canva best quick design softwar know',\n",
       " 'definit awesom app graphic design',\n",
       " 'best app ever fan aesthet edit perfect one love app',\n",
       " 's enjoy app edit video pictur',\n",
       " 'app use beginn design',\n",
       " 'wow nice app good futur need fast',\n",
       " 'ca nt insert imag galleri properli',\n",
       " 'everyth want absolut stun app welldon canva team',\n",
       " 'nice app easi use special beginn',\n",
       " 'worst ever experienc free tool nt work like line',\n",
       " 'absolut love canva chang busi',\n",
       " 'love app recent download work take slow doesnt work',\n",
       " 'excel app wish thought idea implement accord wish simpli superb',\n",
       " 'love app mani templat choosw',\n",
       " 'great app though lag sometim s great',\n",
       " 'one best photo type social media logo thumbnail font etc edit number one1 applic',\n",
       " 'easi use full interest edit futur love',\n",
       " 'use app learn photo video edit futur refer app defenatli use',\n",
       " 'easi use understand homepag',\n",
       " 'realli good versatil noob friendli',\n",
       " 've look conveni',\n",
       " 'cool fantast app creat fun pictur logo etc',\n",
       " 'good except app run slow except amaz',\n",
       " 'm abl download design irrit pleas resolv issu',\n",
       " 'program great never thought could easili build youtub',\n",
       " 'newer version harder save imag design',\n",
       " 'good app graphic design',\n",
       " 'm satisfi final found someth s user friendli easi use truli appreci thank',\n",
       " 'one best logo design app u r make ur differ type designit amaz',\n",
       " 'super app graphic design go',\n",
       " 'stay feed advertis advertis wrong place market pertain industri whatsoev',\n",
       " 'great resourc innov favorit app self employ entrepreneur',\n",
       " 'nice m abl design ebook without difficulti',\n",
       " 'hi would like file compliant use canva app quit time small project realli appreci applic free featur today design logo suppos make payment small design make payment 59 indian rupe payment success bank applic deni kindli look matter regard',\n",
       " 'cool effici platform easi use even mobil',\n",
       " 'tri mani edit app best app convini use made elect manifesto beauri made',\n",
       " 'osm app easi make logo design difficult find desir design',\n",
       " 'fed daili updat month',\n",
       " 'best app beginn easi use without difficulti',\n",
       " 'open page let sign sinc alreadi account tell log there way',\n",
       " 'canva best like much lot featur thank canva',\n",
       " 'nice app hope add free theme use',\n",
       " 'ooooh love simpli love easi use also save nice',\n",
       " 'easi make good minamilist templat love app',\n",
       " 'good app take lot time download imag',\n",
       " 'excel bit customis would better',\n",
       " 'mani option thing make amaz font 3',\n",
       " 'auto work without permiss auto tap button ca nt use properli fix',\n",
       " 's good app make banner paperwork ur articl',\n",
       " 'far s go app websit design thumbnail great job',\n",
       " 'good subscrib templat avail',\n",
       " 'work accident press enter work disappear',\n",
       " 'super cool easi profession look',\n",
       " 'good graphic design pleas instal 95 free',\n",
       " 'use make photo video wish occas',\n",
       " 'like it easi everi thing',\n",
       " 'perfect good graphic design',\n",
       " 'easi usethank apprecommend edit photo video',\n",
       " 'ca nt log pleas even wifi connect excel said low internet connect duh',\n",
       " 'love applic first time use realli good time till still enjoy use app',\n",
       " 'nice easi use great app',\n",
       " 'novic trade entir canva packag make feel like alreadi pro',\n",
       " 've use app 3 year issu download video',\n",
       " 'like it easi design platform',\n",
       " 'app versatil user friendli app design need',\n",
       " 'canva one best graphic design ve ever use',\n",
       " 'best app video edit thank canva best app use app feal best',\n",
       " 'like simplic yet impact give much thank',\n",
       " 'use app without creat account edit allow user access platform without account nt want one nt want sych work',\n",
       " 'awesom app easiest best ve use thank canva',\n",
       " 'design unabl download also updat app nt work',\n",
       " 'great app make menu',\n",
       " 'suck dowload app instal allreadi becous laggi qualliti suck guess ill gon na dowload picsart',\n",
       " 'great app easi use content qualiti good',\n",
       " 'cool app beginn design',\n",
       " 'think canva inde good go amaz canva',\n",
       " 'app goodi make differ poster',\n",
       " 'great app nt pay pay premium version screen pop repeatedli reason templat end screen nt chosen go rout harass buy uninstal let know greedi greedi greedi',\n",
       " 'alway great experi use satisfactori',\n",
       " 'excel app download mani app best',\n",
       " 'nice applic graphic design',\n",
       " 's amaz app work quot write page cover s simpli work ca nt download video creat download',\n",
       " 've use canva long s use tool',\n",
       " 'nice plz improv better design font size',\n",
       " 'help applic s featur nice',\n",
       " 'quit interest enjoy thrill offer think s best far',\n",
       " 'easi use make life easier',\n",
       " 'still learn platform far good',\n",
       " 'great templat user friendli',\n",
       " 'easi use work properlyveri much satisfi',\n",
       " 'good access',\n",
       " 'mani error ca nt type text phone',\n",
       " 's good easi creat poster appi like',\n",
       " 'nice app channel logo stuff like thank',\n",
       " 'softwar awesom great tool make work easier',\n",
       " 'app fantast one interest watermark free',\n",
       " 'use app past day realli appreci effort canva team realli made great app design us',\n",
       " 'excel applic advert couldnt better',\n",
       " 'hello canva ca nt save project canva slowli',\n",
       " 'realli help easi learn',\n",
       " 'make wed invataion wed blog fun educ like alot much fun',\n",
       " 'free easi handl',\n",
       " 'import imag besid app camera galley option',\n",
       " 'love app easi creat canva',\n",
       " 'good design even avail templat',\n",
       " 'love app help keep ur busi updat',\n",
       " 'amaz helpful app work kind project',\n",
       " 'great app easi use',\n",
       " 'love s help learn design everyday',\n",
       " 'nice beginn graphic design',\n",
       " 'think best one graphic design',\n",
       " 'app use make video youtub mani thing easi use',\n",
       " 'best applic edit logo m lovin',\n",
       " 'excel easi use',\n",
       " 's great platform make poster',\n",
       " 'simpli love app easi use',\n",
       " 'love app hope free design made avail',\n",
       " 'total paid servic ca nt edit video pack',\n",
       " 'nice app must tri one excel edit instagram thank',\n",
       " 'link ad pictur text work share social platform what point ad',\n",
       " 'great appso far best design app',\n",
       " 's nice app hate s speed slow',\n",
       " 'get frustrat take forev download',\n",
       " 'app miss pixellab like shadow',\n",
       " 'except servic instantli realli amaz use',\n",
       " 'problem s work well thank',\n",
       " 'nice still learn tri design cellphon lil tricki',\n",
       " 'show error dowlad design video',\n",
       " 'loooov app s great everyth instagrampostrel',\n",
       " 'unbeliev app need extra thing need arab font pleas',\n",
       " 'never seen better free softwar make superb artwork',\n",
       " 'think mani good cantain come prime mamber ship money make effect attract thumbnail',\n",
       " 's amaz app tri amaz edit logo',\n",
       " 'would rate app 5 star s purchas item lmao',\n",
       " 'best app ve ever seen make video collag mani app luv it',\n",
       " 's great app easi access',\n",
       " 'good templatesand overal seem good app',\n",
       " 's time get slow otherwis good app realli enjoy',\n",
       " 'conveni pick construct',\n",
       " 'app much better like app youtub video s free use download app',\n",
       " 'face problem ad line word',\n",
       " 's fantast design video imag perfectli like expert',\n",
       " 'realli good app make thumbnail banner',\n",
       " 'love s easi quick',\n",
       " 'ca nt save anyth s talk long time upload',\n",
       " 'best blank page youtub banner mean cover',\n",
       " 'nice channel love easi use',\n",
       " 'amaz app easi creat everyth ini mind',\n",
       " 'well s good app everyth alot',\n",
       " 'great app take forev load user 23 year see featur templat slowli avail free user hope applic nt turn picsart futur iykwim',\n",
       " 'nice easi use app',\n",
       " 'user friendli even re novic technolog love canva',\n",
       " 'ad ng text useless recomend download',\n",
       " 'take time load bit slow laggi',\n",
       " 'someth recent chang less userfriendli',\n",
       " 'deceit app never connect gcash pay account charg dont give damn refund lastli worth app',\n",
       " 'awesom love easi beauti use',\n",
       " 'super easi creat superb content',\n",
       " 'one best edit done edit app',\n",
       " 'use easi use',\n",
       " 'm explor app m excit learn app art design',\n",
       " 'absolut stun templat design',\n",
       " 'best experi new imag entertain busi',\n",
       " 'need s best s worst either get alot done app appreci s okay qualiti',\n",
       " 'updat everi day everi day new updat make app work buggi',\n",
       " 'love app dont like need internet edit repli oh ok didnt know yall need us wifi order save art work thank respond let know everi game use didnt respond problem',\n",
       " 'omg canva best photo feel stylish 3',\n",
       " 'realli great app charg popular logo',\n",
       " 'good app easi design',\n",
       " 'best app ever even though m artist tri creat someth small',\n",
       " 'best cheap app far graphic concern',\n",
       " 'creativ result dexter person give pauciti conceptu thought loyal servic human could becom nobl man',\n",
       " 'ca nt seem ad text poster sure',\n",
       " 'love app allow show artist skill',\n",
       " 'app absolut amaz wide rang varieti love',\n",
       " 'mani option free great app',\n",
       " 'love much use work insta account boss happi',\n",
       " 'easi simpl design',\n",
       " 'aap legit best friend great stress buster help creat mani awesom bday video mani great beauti project ye app purchas care free content good thank creator canva ve creat soulmat app',\n",
       " 'fantast good servic',\n",
       " 'awsom help lot standard edit',\n",
       " 'best app multitask easi fast way',\n",
       " 'best far free trial wish could get pro dont enough budget',\n",
       " 'awesom app logo banner edit',\n",
       " 's good app lot toolkit love',\n",
       " 'first attempt design busi flyer seamless',\n",
       " 'love canva improv qualiti life person profession',\n",
       " 'good limit option use free',\n",
       " 'amaz design simpl way good option',\n",
       " 'take forev download resum simpl pdfit s alreadi 10 minut m stil waitingdo even download filepleas help realli need',\n",
       " 'nice templat easi use',\n",
       " 's good app like everyth tri see magic',\n",
       " 'awesom far mani templat choos',\n",
       " 's help design best',\n",
       " 'everyth app realli amaz wait better updat',\n",
       " 'good app graphic design',\n",
       " 'excel app alway love use',\n",
       " 'amz app lot featur enjoy use canva',\n",
       " 'wish could littl bit cheaper love none less',\n",
       " 'reali great app grafic design photo edit much',\n",
       " 's best app industri ever seen websit graphic site creat canva s realli matchless app highli recommend apprecit canva s invalu work highest qualiti profession',\n",
       " 'good app design logo creat',\n",
       " 'best app save time money',\n",
       " 'excel app work like web app',\n",
       " 'want cancel subscript googl play keep send circl m',\n",
       " 'absolut amaz best app ever seen rate app 5 star',\n",
       " 'nice make logo m give 5 star',\n",
       " 'help app edit make everi thing',\n",
       " 'take lot time save design',\n",
       " 'good help creat design',\n",
       " 'nice pleas add languag font',\n",
       " 'happi use wonder applicationit easi use',\n",
       " 'make happi first present thank cooper feedback god bless alway',\n",
       " 'get 5 star save devic without pro mean u nt take pro u save hard work',\n",
       " 'like take lot time start',\n",
       " 'sort imag fit onto instagram post like minut awesom',\n",
       " 'one best app young profession entrepreneur',\n",
       " 'nice app make flyer poster',\n",
       " 'one best app design shape creativ',\n",
       " 'best app design like much',\n",
       " 'easi use effect realli nice',\n",
       " 'great design even novic',\n",
       " 'nice app help make stuff easili without stress',\n",
       " 'fabul app problem sometim nt load glitch internet connect even whn internet work quiet fast secondli shift network open app shift back network templat load super fast whn trt open isssu kindli fix problem',\n",
       " 's simpl yet look good',\n",
       " 'design download pl fix',\n",
       " 'good app tri variou app app awesom love',\n",
       " 'mobil download qualiti pant bring back full resolut',\n",
       " 'great app easi learn curv',\n",
       " 'includ stuff design need',\n",
       " 'great easi use ao helpfull',\n",
       " 'use mainli istagram got good design templat',\n",
       " 'one amaz app realli like app one app featur',\n",
       " 'easi design beginn',\n",
       " 'onlin design app use desktop app conveni',\n",
       " 'nice applic look similar applic',\n",
       " 'best design app ve come across',\n",
       " 'canva best app creat awesom design',\n",
       " 'love app easi use navig',\n",
       " 'great no doubt feel much laggi phone',\n",
       " 'unabl download resum pdf need payment',\n",
       " 'hd logo maker nice fix',\n",
       " 'perfect tool graphic design',\n",
       " 'si recommend app like love first sight user friendli cute',\n",
       " 'reliabl app mani option great function easi use',\n",
       " 'nice app pay s rate 3 star',\n",
       " 'wish easier edit phone guess need tutori',\n",
       " 'intuit user friendli',\n",
       " 'love improv app thank make better better',\n",
       " 'best place creat content re beginn',\n",
       " 'add theme easi work s good',\n",
       " 'awesom edit app realli s good edit',\n",
       " 'excel tool creat design platform',\n",
       " 'poor bad applic per experi slow take big time use app',\n",
       " 'im use canva pro time save project imag blur',\n",
       " 'easi use ton cool option',\n",
       " 'super edit design app',\n",
       " 'love easi use navig',\n",
       " 's amaz super simpl use help',\n",
       " 'new version extrem slow',\n",
       " 'bit laggi otherwis realli good dont anyth run background',\n",
       " 'game changer heard call cheat graphic design',\n",
       " 'good concept app total garbag cant save poster creat',\n",
       " 'great eco friendli app',\n",
       " 'good unabl chang pictur background',\n",
       " 'everyth gr8 except take q long time make magic',\n",
       " 'best app everyth want finger tip',\n",
       " 'issu upload video use photo effect',\n",
       " 's import use beginn also peopl',\n",
       " 'easi use maximum result',\n",
       " 'easi design even without profession',\n",
       " 'applic realli help develop one subject teach',\n",
       " 'amaz easi creat video',\n",
       " 'app awesom easi use love',\n",
       " 'love great easi way design busi tip finger',\n",
       " 'nice easi make logo',\n",
       " 'best edit app help lot make flyer small busi',\n",
       " 'love app much use love design perfect love must instal realli want pro version parent said birthday super excit fun app love hope canva repli love app',\n",
       " 'love everi singl templat need ad',\n",
       " 'great creativ outlet perfect diy',\n",
       " 'easi use also lot option play',\n",
       " 'love everyth app make job much easier',\n",
       " 'actual highli recommend type youtub use app bcuz much better overal rate like 10 star ye thought comment goo want everybodi spot use get slo rate ok 10 star keep canva put updat',\n",
       " 'best graphic design app use far',\n",
       " 'good app give 3star bcoz design free mode',\n",
       " 'superb poster design app',\n",
       " 'good app logo flyer design',\n",
       " 'use app easi use',\n",
       " 'help use valuabl tool connect mani app',\n",
       " 'one best app insta beginn',\n",
       " 's realli good app beginn',\n",
       " 'superb app unbeliev one app mani applic truli love',\n",
       " 'realli fun use even without get premium version',\n",
       " 's help app like everyth app',\n",
       " 'great app hope ad element shap creativ thank canva',\n",
       " 'good format hassl free',\n",
       " 'highli recommend need design',\n",
       " 'canva longer save publish design known issu',\n",
       " 'first open app kinda difficult use thank gracemariyageorg made easi nice app',\n",
       " 'great design templat love app',\n",
       " 'quick easi intuit',\n",
       " 'made right choic download canva plu soooooo easi oper',\n",
       " 'great app design anyth',\n",
       " 'unabl schedul pin past day',\n",
       " 'one best app edit highli prefer',\n",
       " 'alot bug updat pl fix',\n",
       " 'brilliant app thumbnail youtub app like app',\n",
       " 'best design app like app creat profession like thumbnail attract best mani design',\n",
       " 's good app other download ad',\n",
       " 'amaz highli recommend afford profession app',\n",
       " 'love app user interfac s access nice',\n",
       " 'easi tous great option fresh style',\n",
       " 'excel app student',\n",
       " 'best app creat flyer logo',\n",
       " 'best graphic maker app forev ever deserv 7star',\n",
       " 'easi edit thing properli im glad use app',\n",
       " 'great littl tricki phone use get use',\n",
       " 'love design may free thank canva team',\n",
       " 'great app make everyyyyyyth app',\n",
       " 'love s help especi wattpad',\n",
       " 'interest app ask use creat day',\n",
       " 's alright nt tri premium version tho insight scope come soon',\n",
       " 'best app design lot design suggest everi platform love app',\n",
       " 'like app make design send anywher u must download canva',\n",
       " 's easi use creat design',\n",
       " 'instal great love help alot thank keep up',\n",
       " 'make video resolut realli bad',\n",
       " 'best creativ app ever seen need think instal use',\n",
       " 'app great easi use',\n",
       " 'great app would great us add urdu font also pleas',\n",
       " 'fantast photo edit applic use youtub thumbnail',\n",
       " 'best app ever alway problem save design',\n",
       " 'easi use result look like pro wow',\n",
       " 'work properli mobil app pleas remov bug',\n",
       " 'great app logo buiness',\n",
       " 'nice make compat low end devic',\n",
       " 'excel option mani free servic',\n",
       " 'think app great m still tri figur put photo anoth photo',\n",
       " 's hard control need user friendli u time u get thing u need',\n",
       " 'great app lot featur',\n",
       " 'realli love app look someth like whileit realli amaz',\n",
       " 'best onlin design everyth',\n",
       " 'help user friendli',\n",
       " 'love app filter pro free elemen gone pliss fix canva',\n",
       " 'photo low qualiti download',\n",
       " 'app great sometim freez work',\n",
       " 'load option easi use',\n",
       " 'love freedom design good qualiti meme free',\n",
       " 'app great help edit thing app lack s basic help',\n",
       " 'love app first app consid pay money unlock version thank canva',\n",
       " 'great peopl nt know graphic design',\n",
       " 'excel app app graphic profession',\n",
       " 'great app feel like profession design',\n",
       " 'easi use mani option',\n",
       " 'well 1st time issu payment mode',\n",
       " 'ketp zoom out poor strain eye could nt see text imag good sticker egg n bacon tho',\n",
       " 'oldest version good new updat aw',\n",
       " 'best app ever experienc watermark applic wow',\n",
       " 'good app design poster',\n",
       " 'great app though take long load',\n",
       " 'verri nice app lage issu improv thank hope like review',\n",
       " 'creat account verifi email lol thank immedi uninstal',\n",
       " 'm rate app 5 star found app realli easi amaz use impress first use',\n",
       " 'first logo youtub amaz s happend thank canva',\n",
       " 'realli help time nice simpl neat clean',\n",
       " 'amaz graphic design',\n",
       " 's free easi use',\n",
       " 'face difficulti purchas canva propleas rectifi asapon debit credit card show unavail purchas',\n",
       " 'love app s conveni design easi',\n",
       " 'great app easi use',\n",
       " 'unabl save design disappoint',\n",
       " 'free account offer terribl option download project',\n",
       " 'awesom app resourc materi',\n",
       " 'outstand app freelanc graphic design',\n",
       " 'easi use great',\n",
       " 'superb app make desir one especi poster',\n",
       " 'softwar wonder work perfect need',\n",
       " 'fun entertain app use good amount thing s definit worth check',\n",
       " 's amaz like app much s user friendli',\n",
       " 'great app s help done work easili',\n",
       " 'easi edit design',\n",
       " 'awesom app edit photo nt miss',\n",
       " 'slow good servic avail',\n",
       " 'nice app make thumbnail youtub banner logo thank creat',\n",
       " 'wonder app design photo beginn',\n",
       " 'good app need lot internet s good give 3 strar onli',\n",
       " 'awsom much userfriendli appeasi edit',\n",
       " 'love use make announc come event club',\n",
       " 'good like far need design recommend',\n",
       " 'amaz design easi use',\n",
       " 'app interest easili audit app',\n",
       " 'amaz content impress interfac',\n",
       " 'best app ever creat rate 4 star ai nt total free',\n",
       " 'realli easi use help',\n",
       " 'amaz ui design materi',\n",
       " 'low qualiti pictur super lag',\n",
       " 's great bit limit s abil select',\n",
       " 'good app ps also without watermark',\n",
       " 'love app cuz make mother s day card use canva make mani templ',\n",
       " 'great app make market program howev pay use app monthli want print re alreadi pay abl use whatev print platform like',\n",
       " 'great amaz app hope could make lot project sinc im colleg right',\n",
       " 'easi access nice function',\n",
       " 'good applic youtub short',\n",
       " 'report problem detail descript twice along attach solut gave trail',\n",
       " 'app amaz may first time use kind app make easi use',\n",
       " 'good would better could resiz text etc',\n",
       " 'fabul app neat sharp tool profession edit use phone fingertip',\n",
       " 'prolli best edit softwar beginn use',\n",
       " 'nice app excel good featur easi use',\n",
       " 'veeeeeerrryyi use full app edit pictur like much gave 5 5 star',\n",
       " 'easi use beauti experi wonder',\n",
       " 'canva best app make logo youtub thumbnail easili',\n",
       " 'get premium app reduc qualiti logo',\n",
       " 'realli good place templat photo edit post',\n",
       " 'love design everyth like logo edit pictur everyth',\n",
       " 'app use full youtub thumbnail intro etc',\n",
       " 'app great need drop shadow outer glow duoton effect',\n",
       " 'nice beginn edit lot featur readi explor use',\n",
       " 'wonder interest app easi use go',\n",
       " 'app use love even use without pay',\n",
       " 'thank canva team make life easi honestli think upgrad account premium awesom finest',\n",
       " 'amaz applic use last 1 year l love',\n",
       " 's take much time creat imag design',\n",
       " 'nt even start say upgrad android s point upgrad wo nt run devic',\n",
       " 'auto save mobil go galleri come back design gone',\n",
       " 'great app love cool templat pictur add background',\n",
       " 'omg thank much provid brilliant smooth app free mostli featur free satisfi request download instal keep use app forev ultim',\n",
       " 'realli easi use make endless number person design definit recommend app',\n",
       " 'app everyon great ux sever option need free truli incred app highli recommend',\n",
       " 'good thing would chang overal work well would highli recomend',\n",
       " 'easi use interest featur freei like aap much',\n",
       " 'total satisfi app without premium membership also work awesom extrem satisfi',\n",
       " 'realli love app it help lot given peac mimf happi time canva time aunt',\n",
       " 'love app s make explor design alreadi made templat great rgf',\n",
       " 'bad app also dont recomend other doesnt seem function properli also doesnt good backround',\n",
       " 'great find way make total free without ad',\n",
       " 'superb app everyth want design easytous',\n",
       " 'resum templat classi cool featur simpl user interfac great',\n",
       " 'awesom app nice edit option simpl use',\n",
       " 'hey canva face problem 1 save imag show plz tri happen mani time plz fix bug',\n",
       " 'hack expos person info data breach name proof need chang phone address email along 2 refer phone s could care less websit app hack opinion canva canva period site could nt kept lockdown app unsecur site thought mani other phenomen site everi need till info expos help nt use',\n",
       " 'good app use nice edit coolest thing chang background fantast app',\n",
       " 'app awesom creat logo take much time save logo',\n",
       " 's great app love enough make work easier stressfre',\n",
       " 'everyth super perfect complic apppppp',\n",
       " 'love canva feel comfort use special use desktop new updat ca nt access app literali need rn cuz project deadlin im sorri fix fast could im pay cuz love use need design back thank youuuu',\n",
       " 'effect easi use wide rang free templat',\n",
       " 'love wide varieti design high qualiti easi share',\n",
       " 'nice app take time export rather prepar design pl look',\n",
       " 'allow say best app world life saver liter save time money user experi made champanh',\n",
       " 'awesom readi use templat great job',\n",
       " 'amaz absolut love app use mani edit regret 5 star',\n",
       " 'one best app ever use great part s theme function free love app',\n",
       " 'honestli amaz app make beauti post social media much',\n",
       " 'app amaz much make book cover make poster make notebook cover much s amaz love app much recommend',\n",
       " 'ca nt express thought use anybodi use easili pleas download give 5 star hard work',\n",
       " 'good app make whatsapp stori poster logo mani thing',\n",
       " 'realli love app much s lot thing free enjoy',\n",
       " 'awesom app connect issu',\n",
       " 'there lot stuff pay free',\n",
       " 'interact easi use love app',\n",
       " 'app help creat resum graphic amaz',\n",
       " 'love app design youtub video make collag s best',\n",
       " 'doubt littl prob save someth design mobil phone renam read',\n",
       " 'first go make banner went easi could hope ll updat journey app continu',\n",
       " 'brand bella use canva last month s amaz relat app good canva best good better',\n",
       " 'suggest add option download file pdf format',\n",
       " 'love canva s easi use creat mani profession look design',\n",
       " 'use especi pay pro price problem full featur access',\n",
       " 'easiest edit softwar ve ever use incred conveni',\n",
       " 'grate incred app love itther s better edit app',\n",
       " 'outstand easi use',\n",
       " 'app crush everytim i problem share also behind perfect',\n",
       " 'templat good edit option amaz prepar one resum far love output',\n",
       " 'far good glad templat free use',\n",
       " 'good app new style imag make',\n",
       " 'design ca nt download even s free templat someth annoy',\n",
       " 'great well design app quick even advanc edit almost creativ need',\n",
       " 'great far promot poster quit easi use',\n",
       " 'nt realli use much would like due unexpect issu take canva app',\n",
       " 'good app student edit present help',\n",
       " 'simpl clean minimalist ui also clean easi understand',\n",
       " 'cool ap lumayan utk mempermudah kebutuhan design content',\n",
       " 'well good job problem edit app crash like go edit kick app 2 hour s normal ferl bad fix pl',\n",
       " 's best thing happen pay tutor teach free tutori',\n",
       " 'best app u ever find graphic design best featur ton templat uniqu design would say canva best',\n",
       " 'offlin version much use user think good work anyway',\n",
       " 'great easi use awesom special autosav applaus',\n",
       " 'although first time use infograph found interest use',\n",
       " 'found new way text edit must font support hindi languag',\n",
       " 'make design easi save time i total would recommend app whenev wherev',\n",
       " 'canva wonder applic everi graphic design make use',\n",
       " 'vision creativ canva got tool moreov easi work',\n",
       " 'good app logo cover pictur',\n",
       " 'hope new featur like text perspect text eras',\n",
       " 'app run realli slow everytim open made phone laptop freez never happen',\n",
       " 's soo nice easi app logo make',\n",
       " 'amaz platform creat imag logi anyth thank canva',\n",
       " 'abl add music 15 sec repeat automat',\n",
       " 'pleas make free run ad earn pleas make free student like give 3 star less fee content',\n",
       " 'm beginn love app s easi access beneficiari beginn like',\n",
       " 'write page write bad app nt even know use app tride mani time write page nt',\n",
       " 'think app help come mani choic design',\n",
       " 'navig mobil bit cumbersom sometim thank mobil option',\n",
       " 'wow first time user awesom easi use gon na upgrad premium',\n",
       " 'awesom app use first time start busi m soo happi make logo use canva thank soo much',\n",
       " 'one best best graphic design app smartphon hand',\n",
       " 'absolut amaz app busi fantast logo read u better check incred',\n",
       " 'hot trash abl creat canva size larg enough stitch togeth multipl photo',\n",
       " 'far best app use creat birthday wish etc love',\n",
       " 'free easi design logo thank although pro look much better',\n",
       " 'lazi explain app suck energi alreadi tri call want know issu face',\n",
       " 'wooow s great realli work awesom busi simpl use littl technic there',\n",
       " 'hiii login canva tough network absolut fine plz help problem solv soon possibl',\n",
       " 'best app make present mani thing gave 4 star',\n",
       " 's great app past coupl week m troubl download thing make',\n",
       " 'easi creat design',\n",
       " 'app work smoothli first recent hangig lot pleas see',\n",
       " 'creat amaz video wish video librari bit still love',\n",
       " 'easi use fungreat choic design templat',\n",
       " 'easi use full imag background',\n",
       " 'supah love app creat beauti templat friendli use',\n",
       " 's great app use ll recommend download mani featur help mani way thankyou',\n",
       " 'ca nt save work keep save blank black canva use expens phone lot space left im also premium',\n",
       " '5 star app nt contain add main featur free pleas nt chang time',\n",
       " 'masterpiec app easi use lot stun tamplat',\n",
       " 'best app appreci free content multitud idea gener',\n",
       " 'easi design app perfecto',\n",
       " 'ca nt save project tri troubleshoot still wo nt even work pl fix',\n",
       " 'wo nt even allow sign facebook googl via email render app useless',\n",
       " 'awesom app unleash inner artist side super love',\n",
       " 'best app beginn tri photo design mani',\n",
       " 'nt understand keep tell check internet connect consid network good',\n",
       " 'app perfect present everi digit poster logo work',\n",
       " 'excel app love everi detail',\n",
       " 'best ever seen greedi ad cover requir style',\n",
       " 'ii user friendli mani amaz use tool like group text imag love canva',\n",
       " 'work reali well littl slow work fine nice choic free user love',\n",
       " 'amez design aap easi way creat post social media and s free cost',\n",
       " 'excel app design m enjoy creat post instagram social media platform love app awesom',\n",
       " 'excel nt know rotat text featur could ad excel',\n",
       " 'make design chang save click keyboard tablet design disappear',\n",
       " 'app work made lot thumbnail app swear even one thumbnail gettimg download shitte app',\n",
       " 'app design rememb idea beginn professionalsi recommend learn basic edit skill app well make public post',\n",
       " 'liter hack beauti beast know tame would definit recommend',\n",
       " 'good safe work slow ca nt text slide good app shall work fast',\n",
       " 'great easi tool creat mani pic s great beginn also',\n",
       " 'alway work purchas app cheap ca nt function properli',\n",
       " 'function app easi interfac well profession interfac must use',\n",
       " 'good app howev cant open app keep say m offlin ca nt connect despit wifi',\n",
       " 'taken canva premium best thing make poster logo work easi',\n",
       " 'easi use thank canva free featur',\n",
       " 'love app occasion freez exit restart great app',\n",
       " 'amaz editor creator app satisfi ve recommend mani time thank',\n",
       " 'log get messag technic issu logi g tri canva team',\n",
       " 's realli amaz app work method easier anybodi make someth',\n",
       " 'qualiti imag come degrad tri download png imag pleas fix',\n",
       " 'amaz app make poster busi card anyth free',\n",
       " 'app crash nt respond sometim show internet sometim',\n",
       " 'satisfi design',\n",
       " 'great overal think miss featur ad gradient text imageshop add soon',\n",
       " 'super fun app will great featur a lil bit time u need know work otherwis fun app',\n",
       " 'use daili basi easi use stun result',\n",
       " 'realli comfort cool featur anyon like someth creativ look',\n",
       " 'say free amaz function featur z mean',\n",
       " 'good design applic lot free readi made design use',\n",
       " 'app restart even lag littl slow',\n",
       " 's wrong app also site nt download open work pleas fix',\n",
       " 'great m use busi content help',\n",
       " 'right keep tri set alreadi account wo nt let log option log m pay m littl frustrat',\n",
       " 'fantast app love tri make app less expens d give 5 star',\n",
       " 'realli good app make youtub thumbnail youtub intro video point view ll give 100 star doubt it',\n",
       " 'best logo make app world problem nt cash grab app',\n",
       " 'one best help full design app world love creat design',\n",
       " 'high low specif smartphon run smoothli simpli awesom best edit app forev',\n",
       " 'applic good youtub thumbnail make upload hd collett thumbnail',\n",
       " 'beauti app sleek design innumer design option love',\n",
       " 'love app help design advertis way want',\n",
       " 'app look featur got ta pay even basic realli help',\n",
       " 'pleas add split screen support pleas add shadow text s realli help',\n",
       " 'absolut awesomey liter get cool stuff free s also realli user friendli',\n",
       " 'good app creativ person love font design',\n",
       " 'nice app design s fresher experienc pl instal good present poster thumbnail',\n",
       " 'highli recommend sever compani go app design logo',\n",
       " 'excel featur highli recommend new creator',\n",
       " 'mobil s impress improv made get pro version valu money',\n",
       " 'awesom app uncomfort templat amaz',\n",
       " 'amaz app desktop version easier',\n",
       " 'one best app best way beauti edit',\n",
       " 'great option creativ creat wide varieti logo banner thumbnail',\n",
       " 'pretti use enough tool creat fli phone d like tri premium sometim',\n",
       " 's first time use go well s easi use problem ca nt save phone ve tri save differ form still ca nt save phone nt think problem phone hope fix soon thank',\n",
       " 'word appreci app made preciou appgood job pleas give pro imag free',\n",
       " 'one best design app ve ever use s super use easi use problem',\n",
       " 'realli good app provid edit effect filter',\n",
       " 'canva amaz graphic design applic',\n",
       " 'fantast edit app interfac profession chang requir good differ imag video',\n",
       " 'user friendli interfac much better s facil free use',\n",
       " ...]"
      ]
     },
     "execution_count": 108,
     "metadata": {},
     "output_type": "execute_result"
    }
   ],
   "source": [
    "clean_reviews"
   ]
  },
  {
   "cell_type": "code",
   "execution_count": 112,
   "id": "b8866ffb",
   "metadata": {},
   "outputs": [],
   "source": [
    "vect=CountVectorizer(binary=True,min_df=5)"
   ]
  },
  {
   "cell_type": "code",
   "execution_count": 113,
   "id": "4bdac73c",
   "metadata": {},
   "outputs": [],
   "source": [
    "X=vect.fit_transform(clean_reviews)"
   ]
  },
  {
   "cell_type": "code",
   "execution_count": 115,
   "id": "5bab33b4",
   "metadata": {},
   "outputs": [
    {
     "data": {
      "text/plain": [
       "(1500, 413)"
      ]
     },
     "execution_count": 115,
     "metadata": {},
     "output_type": "execute_result"
    }
   ],
   "source": [
    "X.shape"
   ]
  },
  {
   "cell_type": "markdown",
   "id": "cd95827d",
   "metadata": {},
   "source": [
    "# Unique words in the vocabulary"
   ]
  },
  {
   "cell_type": "code",
   "execution_count": 118,
   "id": "a40444a8",
   "metadata": {},
   "outputs": [
    {
     "data": {
      "text/plain": [
       "413"
      ]
     },
     "execution_count": 118,
     "metadata": {},
     "output_type": "execute_result"
    }
   ],
   "source": [
    "len(vect.vocabulary_)"
   ]
  },
  {
   "cell_type": "markdown",
   "id": "94eff778",
   "metadata": {},
   "source": [
    "# Convert the Sparse Matrix to array"
   ]
  },
  {
   "cell_type": "code",
   "execution_count": 119,
   "id": "dc77a1d5",
   "metadata": {},
   "outputs": [
    {
     "data": {
      "text/plain": [
       "scipy.sparse.csr.csr_matrix"
      ]
     },
     "execution_count": 119,
     "metadata": {},
     "output_type": "execute_result"
    }
   ],
   "source": [
    "type(X)"
   ]
  },
  {
   "cell_type": "code",
   "execution_count": 120,
   "id": "a42b5125",
   "metadata": {},
   "outputs": [],
   "source": [
    "X_a =X.toarray()"
   ]
  },
  {
   "cell_type": "code",
   "execution_count": 122,
   "id": "9837454c",
   "metadata": {},
   "outputs": [
    {
     "data": {
      "text/plain": [
       "(1500, 413)"
      ]
     },
     "execution_count": 122,
     "metadata": {},
     "output_type": "execute_result"
    }
   ],
   "source": [
    "X_a.shape"
   ]
  },
  {
   "cell_type": "code",
   "execution_count": 125,
   "id": "12e0f781",
   "metadata": {},
   "outputs": [
    {
     "data": {
      "text/plain": [
       "4"
      ]
     },
     "execution_count": 125,
     "metadata": {},
     "output_type": "execute_result"
    }
   ],
   "source": [
    "X_a[13,:].sum()"
   ]
  },
  {
   "cell_type": "code",
   "execution_count": 126,
   "id": "2c0260e9",
   "metadata": {},
   "outputs": [
    {
     "data": {
      "text/plain": [
       "'unabl save work noth work'"
      ]
     },
     "execution_count": 126,
     "metadata": {},
     "output_type": "execute_result"
    }
   ],
   "source": [
    "clean_reviews[13]"
   ]
  },
  {
   "cell_type": "code",
   "execution_count": 128,
   "id": "ea325b6d",
   "metadata": {},
   "outputs": [
    {
     "data": {
      "text/plain": [
       "370"
      ]
     },
     "execution_count": 128,
     "metadata": {},
     "output_type": "execute_result"
    }
   ],
   "source": [
    "vect.get_feature_names().index('unabl')"
   ]
  },
  {
   "cell_type": "code",
   "execution_count": 129,
   "id": "9aa9cc76",
   "metadata": {},
   "outputs": [
    {
     "data": {
      "text/plain": [
       "1"
      ]
     },
     "execution_count": 129,
     "metadata": {},
     "output_type": "execute_result"
    }
   ],
   "source": [
    "X_a[13,370]"
   ]
  },
  {
   "cell_type": "code",
   "execution_count": 130,
   "id": "c7d2e4d5",
   "metadata": {},
   "outputs": [
    {
     "data": {
      "text/plain": [
       "401"
      ]
     },
     "execution_count": 130,
     "metadata": {},
     "output_type": "execute_result"
    }
   ],
   "source": [
    "vect.get_feature_names().index('work')"
   ]
  },
  {
   "cell_type": "code",
   "execution_count": 132,
   "id": "53f499cb",
   "metadata": {},
   "outputs": [
    {
     "data": {
      "text/plain": [
       "1"
      ]
     },
     "execution_count": 132,
     "metadata": {},
     "output_type": "execute_result"
    }
   ],
   "source": [
    "X_a[13,401]"
   ]
  },
  {
   "cell_type": "code",
   "execution_count": 133,
   "id": "1443fc36",
   "metadata": {},
   "outputs": [
    {
     "data": {
      "text/html": [
       "<div>\n",
       "<style scoped>\n",
       "    .dataframe tbody tr th:only-of-type {\n",
       "        vertical-align: middle;\n",
       "    }\n",
       "\n",
       "    .dataframe tbody tr th {\n",
       "        vertical-align: top;\n",
       "    }\n",
       "\n",
       "    .dataframe thead th {\n",
       "        text-align: right;\n",
       "    }\n",
       "</style>\n",
       "<table border=\"1\" class=\"dataframe\">\n",
       "  <thead>\n",
       "    <tr style=\"text-align: right;\">\n",
       "      <th></th>\n",
       "      <th>review</th>\n",
       "      <th>Sentiment</th>\n",
       "    </tr>\n",
       "  </thead>\n",
       "  <tbody>\n",
       "    <tr>\n",
       "      <th>0</th>\n",
       "      <td>Overall it's really an amazing app. I've been ...</td>\n",
       "      <td>Negative</td>\n",
       "    </tr>\n",
       "    <tr>\n",
       "      <th>1</th>\n",
       "      <td>Hey! Yes I gave a 5 star rating... coz I belie...</td>\n",
       "      <td>Positive</td>\n",
       "    </tr>\n",
       "    <tr>\n",
       "      <th>2</th>\n",
       "      <td>Canva used to be a good app! But recently I've...</td>\n",
       "      <td>Negative</td>\n",
       "    </tr>\n",
       "    <tr>\n",
       "      <th>3</th>\n",
       "      <td>It's a brilliant app, but I have just one prob...</td>\n",
       "      <td>Negative</td>\n",
       "    </tr>\n",
       "    <tr>\n",
       "      <th>4</th>\n",
       "      <td>This was such a great app. I used to make BTS ...</td>\n",
       "      <td>Negative</td>\n",
       "    </tr>\n",
       "  </tbody>\n",
       "</table>\n",
       "</div>"
      ],
      "text/plain": [
       "                                              review Sentiment\n",
       "0  Overall it's really an amazing app. I've been ...  Negative\n",
       "1  Hey! Yes I gave a 5 star rating... coz I belie...  Positive\n",
       "2  Canva used to be a good app! But recently I've...  Negative\n",
       "3  It's a brilliant app, but I have just one prob...  Negative\n",
       "4  This was such a great app. I used to make BTS ...  Negative"
      ]
     },
     "execution_count": 133,
     "metadata": {},
     "output_type": "execute_result"
    }
   ],
   "source": [
    "data.head()"
   ]
  },
  {
   "cell_type": "code",
   "execution_count": 135,
   "id": "67e82559",
   "metadata": {},
   "outputs": [],
   "source": [
    "data['Output']=data['Sentiment'].apply(lambda x: 1 if x=='Positive' else 0)"
   ]
  },
  {
   "cell_type": "code",
   "execution_count": 136,
   "id": "9e847dbe",
   "metadata": {},
   "outputs": [
    {
     "data": {
      "text/html": [
       "<div>\n",
       "<style scoped>\n",
       "    .dataframe tbody tr th:only-of-type {\n",
       "        vertical-align: middle;\n",
       "    }\n",
       "\n",
       "    .dataframe tbody tr th {\n",
       "        vertical-align: top;\n",
       "    }\n",
       "\n",
       "    .dataframe thead th {\n",
       "        text-align: right;\n",
       "    }\n",
       "</style>\n",
       "<table border=\"1\" class=\"dataframe\">\n",
       "  <thead>\n",
       "    <tr style=\"text-align: right;\">\n",
       "      <th></th>\n",
       "      <th>review</th>\n",
       "      <th>Sentiment</th>\n",
       "      <th>Output</th>\n",
       "    </tr>\n",
       "  </thead>\n",
       "  <tbody>\n",
       "    <tr>\n",
       "      <th>0</th>\n",
       "      <td>Overall it's really an amazing app. I've been ...</td>\n",
       "      <td>Negative</td>\n",
       "      <td>0</td>\n",
       "    </tr>\n",
       "    <tr>\n",
       "      <th>1</th>\n",
       "      <td>Hey! Yes I gave a 5 star rating... coz I belie...</td>\n",
       "      <td>Positive</td>\n",
       "      <td>1</td>\n",
       "    </tr>\n",
       "    <tr>\n",
       "      <th>2</th>\n",
       "      <td>Canva used to be a good app! But recently I've...</td>\n",
       "      <td>Negative</td>\n",
       "      <td>0</td>\n",
       "    </tr>\n",
       "    <tr>\n",
       "      <th>3</th>\n",
       "      <td>It's a brilliant app, but I have just one prob...</td>\n",
       "      <td>Negative</td>\n",
       "      <td>0</td>\n",
       "    </tr>\n",
       "    <tr>\n",
       "      <th>4</th>\n",
       "      <td>This was such a great app. I used to make BTS ...</td>\n",
       "      <td>Negative</td>\n",
       "      <td>0</td>\n",
       "    </tr>\n",
       "  </tbody>\n",
       "</table>\n",
       "</div>"
      ],
      "text/plain": [
       "                                              review Sentiment  Output\n",
       "0  Overall it's really an amazing app. I've been ...  Negative       0\n",
       "1  Hey! Yes I gave a 5 star rating... coz I belie...  Positive       1\n",
       "2  Canva used to be a good app! But recently I've...  Negative       0\n",
       "3  It's a brilliant app, but I have just one prob...  Negative       0\n",
       "4  This was such a great app. I used to make BTS ...  Negative       0"
      ]
     },
     "execution_count": 136,
     "metadata": {},
     "output_type": "execute_result"
    }
   ],
   "source": [
    "data.head()"
   ]
  },
  {
   "cell_type": "code",
   "execution_count": 139,
   "id": "4d5301e6",
   "metadata": {},
   "outputs": [],
   "source": [
    "y=data.iloc[:,-1]"
   ]
  },
  {
   "cell_type": "markdown",
   "id": "77c85bf5",
   "metadata": {},
   "source": [
    "# Split the data into train and test"
   ]
  },
  {
   "cell_type": "code",
   "execution_count": 144,
   "id": "5e092982",
   "metadata": {},
   "outputs": [],
   "source": [
    "X_train,X_test,y_train,y_test=train_test_split(X,y,test_size=0.2,random_state=42)"
   ]
  },
  {
   "cell_type": "markdown",
   "id": "dddf513a",
   "metadata": {},
   "source": [
    "# Build a Logistic Regression Model"
   ]
  },
  {
   "cell_type": "code",
   "execution_count": 149,
   "id": "f8cd3d17",
   "metadata": {},
   "outputs": [],
   "source": [
    "model=LogisticRegression()"
   ]
  },
  {
   "cell_type": "code",
   "execution_count": 150,
   "id": "2e98f423",
   "metadata": {},
   "outputs": [
    {
     "data": {
      "text/plain": [
       "LogisticRegression()"
      ]
     },
     "execution_count": 150,
     "metadata": {},
     "output_type": "execute_result"
    }
   ],
   "source": [
    "model.fit(X_train,y_train)"
   ]
  },
  {
   "cell_type": "code",
   "execution_count": 160,
   "id": "dc638bc3",
   "metadata": {},
   "outputs": [],
   "source": [
    "train_predict=model.predict(X_train)"
   ]
  },
  {
   "cell_type": "code",
   "execution_count": 161,
   "id": "9650ad93",
   "metadata": {},
   "outputs": [
    {
     "data": {
      "text/plain": [
       "0.9608333333333333"
      ]
     },
     "execution_count": 161,
     "metadata": {},
     "output_type": "execute_result"
    }
   ],
   "source": [
    "accuracy_score(y_train,train_predict)"
   ]
  },
  {
   "cell_type": "code",
   "execution_count": 162,
   "id": "fe3727fe",
   "metadata": {},
   "outputs": [
    {
     "data": {
      "text/plain": [
       "0.9133333333333333"
      ]
     },
     "execution_count": 162,
     "metadata": {},
     "output_type": "execute_result"
    }
   ],
   "source": [
    "test_pred=model.predict(X_test)\n",
    "accuracy_score(y_test,test_pred)"
   ]
  },
  {
   "cell_type": "markdown",
   "id": "1619a5d3",
   "metadata": {},
   "source": [
    "# Save both the vectorize and model"
   ]
  },
  {
   "cell_type": "code",
   "execution_count": 168,
   "id": "e15cb5f3",
   "metadata": {},
   "outputs": [],
   "source": [
    "with open('Output/binary_count_vect.pkl','wb') as f:\n",
    "    pickle.dump(vect,f)\n",
    "\n"
   ]
  },
  {
   "cell_type": "code",
   "execution_count": 169,
   "id": "758edf9a",
   "metadata": {},
   "outputs": [],
   "source": [
    "with open('Output/binary_count_vect_lr.pkl','wb') as f:\n",
    "    pickle.dump(model,f)"
   ]
  },
  {
   "cell_type": "markdown",
   "id": "1252c4d9",
   "metadata": {},
   "source": [
    "# bag of Words without Binary"
   ]
  },
  {
   "cell_type": "code",
   "execution_count": 171,
   "id": "297d78fb",
   "metadata": {},
   "outputs": [],
   "source": [
    "vect=CountVectorizer(min_df=5)"
   ]
  },
  {
   "cell_type": "code",
   "execution_count": 172,
   "id": "03c2c99a",
   "metadata": {},
   "outputs": [],
   "source": [
    "X=vect.fit_transform(clean_reviews)"
   ]
  },
  {
   "cell_type": "code",
   "execution_count": 173,
   "id": "e7bb8177",
   "metadata": {},
   "outputs": [
    {
     "data": {
      "text/plain": [
       "'unabl save work noth work'"
      ]
     },
     "execution_count": 173,
     "metadata": {},
     "output_type": "execute_result"
    }
   ],
   "source": [
    "clean_reviews[13]"
   ]
  },
  {
   "cell_type": "code",
   "execution_count": 174,
   "id": "6692af27",
   "metadata": {},
   "outputs": [],
   "source": [
    "X_a=X.toarray()"
   ]
  },
  {
   "cell_type": "code",
   "execution_count": 176,
   "id": "d96542c5",
   "metadata": {},
   "outputs": [
    {
     "data": {
      "text/plain": [
       "5"
      ]
     },
     "execution_count": 176,
     "metadata": {},
     "output_type": "execute_result"
    }
   ],
   "source": [
    "X_a[13].sum()"
   ]
  },
  {
   "cell_type": "code",
   "execution_count": 177,
   "id": "18d7f0e6",
   "metadata": {},
   "outputs": [
    {
     "data": {
      "text/plain": [
       "401"
      ]
     },
     "execution_count": 177,
     "metadata": {},
     "output_type": "execute_result"
    }
   ],
   "source": [
    "vect.get_feature_names().index('work')"
   ]
  },
  {
   "cell_type": "code",
   "execution_count": 181,
   "id": "caccabc9",
   "metadata": {},
   "outputs": [
    {
     "data": {
      "text/plain": [
       "2"
      ]
     },
     "execution_count": 181,
     "metadata": {},
     "output_type": "execute_result"
    }
   ],
   "source": [
    "X_a[13,401]"
   ]
  },
  {
   "cell_type": "code",
   "execution_count": 182,
   "id": "97296067",
   "metadata": {},
   "outputs": [],
   "source": [
    "X_train,X_test,y_train,y_test=train_test_split(X,y,test_size=0.2,random_state=42)"
   ]
  },
  {
   "cell_type": "code",
   "execution_count": 184,
   "id": "2035a1b8",
   "metadata": {},
   "outputs": [],
   "source": [
    "model=LogisticRegression()"
   ]
  },
  {
   "cell_type": "code",
   "execution_count": 185,
   "id": "1802bbc7",
   "metadata": {},
   "outputs": [
    {
     "data": {
      "text/plain": [
       "LogisticRegression()"
      ]
     },
     "execution_count": 185,
     "metadata": {},
     "output_type": "execute_result"
    }
   ],
   "source": [
    "model.fit(X_train,y_train)"
   ]
  },
  {
   "cell_type": "code",
   "execution_count": 186,
   "id": "2cb69d53",
   "metadata": {},
   "outputs": [],
   "source": [
    "train_predict=model.predict(X_train)"
   ]
  },
  {
   "cell_type": "code",
   "execution_count": null,
   "id": "8d5a9f86",
   "metadata": {},
   "outputs": [],
   "source": []
  }
 ],
 "metadata": {
  "kernelspec": {
   "display_name": "Python 3",
   "language": "python",
   "name": "python3"
  },
  "language_info": {
   "codemirror_mode": {
    "name": "ipython",
    "version": 3
   },
   "file_extension": ".py",
   "mimetype": "text/x-python",
   "name": "python",
   "nbconvert_exporter": "python",
   "pygments_lexer": "ipython3",
   "version": "3.8.8"
  }
 },
 "nbformat": 4,
 "nbformat_minor": 5
}
