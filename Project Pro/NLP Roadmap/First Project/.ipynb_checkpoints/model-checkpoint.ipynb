{
 "cells": [
  {
   "cell_type": "code",
   "execution_count": 1,
   "id": "5429a667",
   "metadata": {},
   "outputs": [],
   "source": [
    "import pickle\n",
    "import pandas as pd\n",
    "import seaborn as sns\n",
    "import matplotlib.pyplot as plt\n",
    "from collections import Counter\n",
    "\n",
    "import nltk\n",
    "from nltk.corpus import stopwords\n",
    "from nltk.stem import PorterStemmer, LancasterStemmer\n",
    "from nltk.tokenize import sent_tokenize, word_tokenize, RegexpTokenizer\n",
    "\n",
    "from sklearn.metrics import accuracy_score\n",
    "from sklearn.linear_model import LogisticRegression\n",
    "from sklearn.model_selection import train_test_split\n",
    "from sklearn.feature_extraction.text import CountVectorizer, TfidfVectorizer\n",
    "\n",
    "%matplotlib inline"
   ]
  },
  {
   "cell_type": "markdown",
   "id": "43ad37d3",
   "metadata": {},
   "source": [
    "# Data Exploration"
   ]
  },
  {
   "cell_type": "code",
   "execution_count": 2,
   "id": "9d0ca337",
   "metadata": {},
   "outputs": [],
   "source": [
    "data = pd.read_excel(\"Input/Canva_reviews.xlsx\")"
   ]
  },
  {
   "cell_type": "code",
   "execution_count": 3,
   "id": "153e1475",
   "metadata": {},
   "outputs": [
    {
     "data": {
      "text/plain": [
       "(1500, 13)"
      ]
     },
     "execution_count": 3,
     "metadata": {},
     "output_type": "execute_result"
    }
   ],
   "source": [
    "data.shape"
   ]
  },
  {
   "cell_type": "code",
   "execution_count": 4,
   "id": "18927958",
   "metadata": {},
   "outputs": [
    {
     "data": {
      "text/html": [
       "<div>\n",
       "<style scoped>\n",
       "    .dataframe tbody tr th:only-of-type {\n",
       "        vertical-align: middle;\n",
       "    }\n",
       "\n",
       "    .dataframe tbody tr th {\n",
       "        vertical-align: top;\n",
       "    }\n",
       "\n",
       "    .dataframe thead th {\n",
       "        text-align: right;\n",
       "    }\n",
       "</style>\n",
       "<table border=\"1\" class=\"dataframe\">\n",
       "  <thead>\n",
       "    <tr style=\"text-align: right;\">\n",
       "      <th></th>\n",
       "      <th>reviewId</th>\n",
       "      <th>userName</th>\n",
       "      <th>userImage</th>\n",
       "      <th>review</th>\n",
       "      <th>score</th>\n",
       "      <th>thumbsUpCount</th>\n",
       "      <th>reviewCreatedVersion</th>\n",
       "      <th>at</th>\n",
       "      <th>replyContent</th>\n",
       "      <th>repliedAt</th>\n",
       "      <th>Sentiment</th>\n",
       "      <th>Sub Category</th>\n",
       "      <th>Sub Category_test</th>\n",
       "    </tr>\n",
       "  </thead>\n",
       "  <tbody>\n",
       "    <tr>\n",
       "      <th>0</th>\n",
       "      <td>gp:AOqpTOFxf3fttcT5DSvFIn9KPp5FErgH9yC533Fmoxv...</td>\n",
       "      <td>Donna Caritero</td>\n",
       "      <td>https://play-lh.googleusercontent.com/a-/AOh14...</td>\n",
       "      <td>Overall it's really an amazing app. I've been ...</td>\n",
       "      <td>4</td>\n",
       "      <td>528</td>\n",
       "      <td>2.116.0</td>\n",
       "      <td>2021-06-17 07:18:54</td>\n",
       "      <td>Hi Donna. We are sorry that your text or desig...</td>\n",
       "      <td>2021-06-19 21:24:32</td>\n",
       "      <td>Negative</td>\n",
       "      <td>NaN</td>\n",
       "      <td>bug_picture_quality</td>\n",
       "    </tr>\n",
       "    <tr>\n",
       "      <th>1</th>\n",
       "      <td>gp:AOqpTOEq6rNIWLnPV4KFTctWvm0mpGEQljtD6mvy1H-...</td>\n",
       "      <td>Soumi Mukhopadhyay</td>\n",
       "      <td>https://play-lh.googleusercontent.com/a-/AOh14...</td>\n",
       "      <td>Hey! Yes I gave a 5 star rating... coz I belie...</td>\n",
       "      <td>5</td>\n",
       "      <td>351</td>\n",
       "      <td>2.116.0</td>\n",
       "      <td>2021-06-17 19:18:28</td>\n",
       "      <td>NaN</td>\n",
       "      <td>NaT</td>\n",
       "      <td>Positive</td>\n",
       "      <td>extremely_happy</td>\n",
       "      <td>NaN</td>\n",
       "    </tr>\n",
       "    <tr>\n",
       "      <th>2</th>\n",
       "      <td>gp:AOqpTOE86hSyPRHZgYt28Uk5zGe4FZGb1hkmtFDiYJ2...</td>\n",
       "      <td>Theknown _unknown</td>\n",
       "      <td>https://play-lh.googleusercontent.com/a-/AOh14...</td>\n",
       "      <td>Canva used to be a good app! But recently I've...</td>\n",
       "      <td>1</td>\n",
       "      <td>160</td>\n",
       "      <td>2.116.0</td>\n",
       "      <td>2021-06-23 19:13:28</td>\n",
       "      <td>Hi there. We're sorry to hear that you are hav...</td>\n",
       "      <td>2021-06-26 20:20:56</td>\n",
       "      <td>Negative</td>\n",
       "      <td>saving_downloading_issue</td>\n",
       "      <td>bug_saving_files</td>\n",
       "    </tr>\n",
       "  </tbody>\n",
       "</table>\n",
       "</div>"
      ],
      "text/plain": [
       "                                            reviewId            userName  \\\n",
       "0  gp:AOqpTOFxf3fttcT5DSvFIn9KPp5FErgH9yC533Fmoxv...      Donna Caritero   \n",
       "1  gp:AOqpTOEq6rNIWLnPV4KFTctWvm0mpGEQljtD6mvy1H-...  Soumi Mukhopadhyay   \n",
       "2  gp:AOqpTOE86hSyPRHZgYt28Uk5zGe4FZGb1hkmtFDiYJ2...   Theknown _unknown   \n",
       "\n",
       "                                           userImage  \\\n",
       "0  https://play-lh.googleusercontent.com/a-/AOh14...   \n",
       "1  https://play-lh.googleusercontent.com/a-/AOh14...   \n",
       "2  https://play-lh.googleusercontent.com/a-/AOh14...   \n",
       "\n",
       "                                              review  score  thumbsUpCount  \\\n",
       "0  Overall it's really an amazing app. I've been ...      4            528   \n",
       "1  Hey! Yes I gave a 5 star rating... coz I belie...      5            351   \n",
       "2  Canva used to be a good app! But recently I've...      1            160   \n",
       "\n",
       "  reviewCreatedVersion                  at  \\\n",
       "0              2.116.0 2021-06-17 07:18:54   \n",
       "1              2.116.0 2021-06-17 19:18:28   \n",
       "2              2.116.0 2021-06-23 19:13:28   \n",
       "\n",
       "                                        replyContent           repliedAt  \\\n",
       "0  Hi Donna. We are sorry that your text or desig... 2021-06-19 21:24:32   \n",
       "1                                                NaN                 NaT   \n",
       "2  Hi there. We're sorry to hear that you are hav... 2021-06-26 20:20:56   \n",
       "\n",
       "  Sentiment              Sub Category    Sub Category_test  \n",
       "0  Negative                       NaN  bug_picture_quality  \n",
       "1  Positive           extremely_happy                  NaN  \n",
       "2  Negative  saving_downloading_issue     bug_saving_files  "
      ]
     },
     "execution_count": 4,
     "metadata": {},
     "output_type": "execute_result"
    }
   ],
   "source": [
    "data.head(3)"
   ]
  },
  {
   "cell_type": "code",
   "execution_count": 5,
   "id": "4118117c",
   "metadata": {},
   "outputs": [
    {
     "data": {
      "text/plain": [
       "'Unable to save my work. Nothing works :('"
      ]
     },
     "execution_count": 5,
     "metadata": {},
     "output_type": "execute_result"
    }
   ],
   "source": [
    "data.loc[13, \"review\"]"
   ]
  },
  {
   "cell_type": "code",
   "execution_count": 6,
   "id": "a6441791",
   "metadata": {},
   "outputs": [
    {
     "data": {
      "text/plain": [
       "'Negative'"
      ]
     },
     "execution_count": 6,
     "metadata": {},
     "output_type": "execute_result"
    }
   ],
   "source": [
    "data.loc[13, \"Sentiment\"]"
   ]
  },
  {
   "cell_type": "code",
   "execution_count": 7,
   "id": "f7f74c71",
   "metadata": {},
   "outputs": [
    {
     "data": {
      "text/plain": [
       "'Absolutely amazing and a lifesaver for teachers.'"
      ]
     },
     "execution_count": 7,
     "metadata": {},
     "output_type": "execute_result"
    }
   ],
   "source": [
    "data.loc[1495, \"review\"]"
   ]
  },
  {
   "cell_type": "code",
   "execution_count": 8,
   "id": "aa0ad067",
   "metadata": {},
   "outputs": [
    {
     "data": {
      "text/plain": [
       "'Positive'"
      ]
     },
     "execution_count": 8,
     "metadata": {},
     "output_type": "execute_result"
    }
   ],
   "source": [
    "data.loc[1495, \"Sentiment\"]"
   ]
  },
  {
   "cell_type": "markdown",
   "id": "137fce58",
   "metadata": {},
   "source": [
    "### Bar plot of 'Sentiment'"
   ]
  },
  {
   "cell_type": "code",
   "execution_count": 9,
   "id": "769c9054",
   "metadata": {},
   "outputs": [
    {
     "data": {
      "image/png": "[encoded data removed]",
      "text/plain": [
       "<Figure size 432x288 with 1 Axes>"
      ]
     },
     "metadata": {
      "needs_background": "light"
     },
     "output_type": "display_data"
    }
   ],
   "source": [
    "sns.countplot(x=\"Sentiment\", data=data)\n",
    "plt.show()"
   ]
  },
  {
   "cell_type": "code",
   "execution_count": 10,
   "id": "c4b8daf7",
   "metadata": {},
   "outputs": [
    {
     "data": {
      "text/plain": [
       "Positive    1032\n",
       "Negative     468\n",
       "Name: Sentiment, dtype: int64"
      ]
     },
     "execution_count": 10,
     "metadata": {},
     "output_type": "execute_result"
    }
   ],
   "source": [
    "data[\"Sentiment\"].value_counts()"
   ]
  },
  {
   "cell_type": "code",
   "execution_count": 11,
   "id": "83751fa9",
   "metadata": {},
   "outputs": [
    {
     "data": {
      "text/plain": [
       "0.312"
      ]
     },
     "execution_count": 11,
     "metadata": {},
     "output_type": "execute_result"
    }
   ],
   "source": [
    "468/(1032+468)"
   ]
  },
  {
   "cell_type": "markdown",
   "id": "557fac2e",
   "metadata": {},
   "source": [
    "### Bar plot of 'score'"
   ]
  },
  {
   "cell_type": "code",
   "execution_count": 12,
   "id": "db0b4296",
   "metadata": {},
   "outputs": [
    {
     "data": {
      "image/png": "[encoded data removed]",
      "text/plain": [
       "<Figure size 432x288 with 1 Axes>"
      ]
     },
     "metadata": {
      "needs_background": "light"
     },
     "output_type": "display_data"
    }
   ],
   "source": [
    "sns.countplot(x=\"score\", data=data)\n",
    "plt.show()"
   ]
  },
  {
   "cell_type": "markdown",
   "id": "5ebb4a21",
   "metadata": {},
   "source": [
    "### Check relationship between 'score' and 'Sentiment'"
   ]
  },
  {
   "cell_type": "code",
   "execution_count": 13,
   "id": "3f261add",
   "metadata": {},
   "outputs": [
    {
     "data": {
      "image/png": "[encoded data removed]",
      "text/plain": [
       "<Figure size 432x288 with 1 Axes>"
      ]
     },
     "metadata": {
      "needs_background": "light"
     },
     "output_type": "display_data"
    }
   ],
   "source": [
    "sns.countplot(x=\"score\", data=data, hue=\"Sentiment\")\n",
    "plt.show()"
   ]
  },
  {
   "cell_type": "markdown",
   "id": "fd824dff",
   "metadata": {},
   "source": [
    "### Find the length of each 'review'"
   ]
  },
  {
   "cell_type": "code",
   "execution_count": 14,
   "id": "e26ea0c5",
   "metadata": {},
   "outputs": [],
   "source": [
    "data[\"len\"] = data[\"review\"].apply(len)"
   ]
  },
  {
   "cell_type": "code",
   "execution_count": 15,
   "id": "aacea977",
   "metadata": {},
   "outputs": [
    {
     "data": {
      "text/plain": [
       "count    1500.000000\n",
       "mean       86.468667\n",
       "std        55.681355\n",
       "min        20.000000\n",
       "25%        54.000000\n",
       "50%        75.000000\n",
       "75%       102.000000\n",
       "max       498.000000\n",
       "Name: len, dtype: float64"
      ]
     },
     "execution_count": 15,
     "metadata": {},
     "output_type": "execute_result"
    }
   ],
   "source": [
    "data[\"len\"].describe()"
   ]
  },
  {
   "cell_type": "markdown",
   "id": "1eea40cd",
   "metadata": {},
   "source": [
    "### Plot the histogram of 'len'"
   ]
  },
  {
   "cell_type": "code",
   "execution_count": 16,
   "id": "fdc54f54",
   "metadata": {},
   "outputs": [
    {
     "data": {
      "image/png": "[encoded data removed]",
      "text/plain": [
       "<Figure size 360x360 with 1 Axes>"
      ]
     },
     "metadata": {
      "needs_background": "light"
     },
     "output_type": "display_data"
    }
   ],
   "source": [
    "sns.displot(data[\"len\"])\n",
    "plt.show()"
   ]
  },
  {
   "cell_type": "markdown",
   "id": "6f035532",
   "metadata": {},
   "source": [
    "### Plot the distribution of 'len' for different 'Sentiment' types"
   ]
  },
  {
   "cell_type": "code",
   "execution_count": 17,
   "id": "5d6534e9",
   "metadata": {},
   "outputs": [
    {
     "data": {
      "image/png": "[encoded data removed]",
      "text/plain": [
       "<Figure size 440.875x360 with 1 Axes>"
      ]
     },
     "metadata": {
      "needs_background": "light"
     },
     "output_type": "display_data"
    }
   ],
   "source": [
    "sns.displot(data=data, x=\"len\", hue=\"Sentiment\", kind=\"kde\", fill=True)\n",
    "plt.show()"
   ]
  },
  {
   "cell_type": "markdown",
   "id": "a93fea6c",
   "metadata": {},
   "source": [
    "# Tokenization"
   ]
  },
  {
   "cell_type": "code",
   "execution_count": 18,
   "id": "76df278e",
   "metadata": {},
   "outputs": [],
   "source": [
    "data = data[[\"review\", \"Sentiment\"]]"
   ]
  },
  {
   "cell_type": "code",
   "execution_count": 19,
   "id": "66800c47",
   "metadata": {},
   "outputs": [
    {
     "data": {
      "text/plain": [
       "'Unable to save my work. Nothing works :('"
      ]
     },
     "execution_count": 19,
     "metadata": {},
     "output_type": "execute_result"
    }
   ],
   "source": [
    "data.loc[13, \"review\"]"
   ]
  },
  {
   "cell_type": "code",
   "execution_count": 20,
   "id": "1dd5b42c",
   "metadata": {},
   "outputs": [
    {
     "data": {
      "text/plain": [
       "['Unable to save my work.', 'Nothing works :(']"
      ]
     },
     "execution_count": 20,
     "metadata": {},
     "output_type": "execute_result"
    }
   ],
   "source": [
    "sent_tokenize(data.loc[13,\"review\"])"
   ]
  },
  {
   "cell_type": "code",
   "execution_count": 21,
   "id": "38b9730d",
   "metadata": {},
   "outputs": [
    {
     "data": {
      "text/plain": [
       "'Absolutely amazing and a lifesaver for teachers.'"
      ]
     },
     "execution_count": 21,
     "metadata": {},
     "output_type": "execute_result"
    }
   ],
   "source": [
    "data.loc[1495, \"review\"]"
   ]
  },
  {
   "cell_type": "code",
   "execution_count": 22,
   "id": "efcc8bcd",
   "metadata": {},
   "outputs": [
    {
     "data": {
      "text/plain": [
       "['Absolutely amazing and a lifesaver for teachers.']"
      ]
     },
     "execution_count": 22,
     "metadata": {},
     "output_type": "execute_result"
    }
   ],
   "source": [
    "sent_tokenize(data.loc[1495, \"review\"])"
   ]
  },
  {
   "cell_type": "code",
   "execution_count": 23,
   "id": "b04e56de",
   "metadata": {},
   "outputs": [
    {
     "data": {
      "text/plain": [
       "['Unable', 'to', 'save', 'my', 'work', '.', 'Nothing', 'works', ':', '(']"
      ]
     },
     "execution_count": 23,
     "metadata": {},
     "output_type": "execute_result"
    }
   ],
   "source": [
    "word_tokenize(data.loc[13, \"review\"])"
   ]
  },
  {
   "cell_type": "code",
   "execution_count": 24,
   "id": "4e206c64",
   "metadata": {},
   "outputs": [
    {
     "data": {
      "text/plain": [
       "['Absolutely', 'amazing', 'and', 'a', 'lifesaver', 'for', 'teachers', '.']"
      ]
     },
     "execution_count": 24,
     "metadata": {},
     "output_type": "execute_result"
    }
   ],
   "source": [
    "word_tokenize(data.loc[1495, \"review\"])"
   ]
  },
  {
   "cell_type": "markdown",
   "id": "fa40a238",
   "metadata": {},
   "source": [
    "### Convert text to lower case"
   ]
  },
  {
   "cell_type": "code",
   "execution_count": 25,
   "id": "42856681",
   "metadata": {},
   "outputs": [],
   "source": [
    "reviews = list(data[\"review\"])"
   ]
  },
  {
   "cell_type": "code",
   "execution_count": 26,
   "id": "7976bf10",
   "metadata": {},
   "outputs": [
    {
     "data": {
      "text/plain": [
       "1500"
      ]
     },
     "execution_count": 26,
     "metadata": {},
     "output_type": "execute_result"
    }
   ],
   "source": [
    "len(reviews)"
   ]
  },
  {
   "cell_type": "code",
   "execution_count": 27,
   "id": "f6d9f036",
   "metadata": {},
   "outputs": [
    {
     "data": {
      "text/plain": [
       "'Unable to save my work. Nothing works :('"
      ]
     },
     "execution_count": 27,
     "metadata": {},
     "output_type": "execute_result"
    }
   ],
   "source": [
    "reviews[13]"
   ]
  },
  {
   "cell_type": "code",
   "execution_count": 28,
   "id": "e4d6f736",
   "metadata": {},
   "outputs": [
    {
     "data": {
      "text/plain": [
       "'Absolutely amazing and a lifesaver for teachers.'"
      ]
     },
     "execution_count": 28,
     "metadata": {},
     "output_type": "execute_result"
    }
   ],
   "source": [
    "reviews[1495]"
   ]
  },
  {
   "cell_type": "code",
   "execution_count": 29,
   "id": "48114468",
   "metadata": {},
   "outputs": [
    {
     "data": {
      "text/plain": [
       "'absolutely amazing and a lifesaver for teachers.'"
      ]
     },
     "execution_count": 29,
     "metadata": {},
     "output_type": "execute_result"
    }
   ],
   "source": [
    "reviews[1495].lower()"
   ]
  },
  {
   "cell_type": "code",
   "execution_count": 30,
   "id": "63568983",
   "metadata": {},
   "outputs": [],
   "source": [
    "reviews_lower = [r.lower() for r in reviews]"
   ]
  },
  {
   "cell_type": "code",
   "execution_count": 31,
   "id": "88b291e8",
   "metadata": {},
   "outputs": [
    {
     "data": {
      "text/plain": [
       "'unable to save my work. nothing works :('"
      ]
     },
     "execution_count": 31,
     "metadata": {},
     "output_type": "execute_result"
    }
   ],
   "source": [
    "reviews_lower[13]"
   ]
  },
  {
   "cell_type": "code",
   "execution_count": 32,
   "id": "6098e882",
   "metadata": {},
   "outputs": [],
   "source": [
    "reviews_lower = []\n",
    "for r in reviews:\n",
    "    reviews_lower.append(r.lower())"
   ]
  },
  {
   "cell_type": "code",
   "execution_count": 33,
   "id": "db39498c",
   "metadata": {},
   "outputs": [],
   "source": [
    "tokens = [word_tokenize(r) for r in reviews_lower]"
   ]
  },
  {
   "cell_type": "code",
   "execution_count": 34,
   "id": "c44025a5",
   "metadata": {},
   "outputs": [
    {
     "data": {
      "text/plain": [
       "['unable', 'to', 'save', 'my', 'work', '.', 'nothing', 'works', ':', '(']"
      ]
     },
     "execution_count": 34,
     "metadata": {},
     "output_type": "execute_result"
    }
   ],
   "source": [
    "tokens[13]"
   ]
  },
  {
   "cell_type": "code",
   "execution_count": 35,
   "id": "c17c6bfe",
   "metadata": {},
   "outputs": [
    {
     "data": {
      "text/plain": [
       "['absolutely', 'amazing', 'and', 'a', 'lifesaver', 'for', 'teachers', '.']"
      ]
     },
     "execution_count": 35,
     "metadata": {},
     "output_type": "execute_result"
    }
   ],
   "source": [
    "tokens[1495]"
   ]
  },
  {
   "cell_type": "code",
   "execution_count": 36,
   "id": "6f747736",
   "metadata": {},
   "outputs": [
    {
     "data": {
      "text/plain": [
       "1500"
      ]
     },
     "execution_count": 36,
     "metadata": {},
     "output_type": "execute_result"
    }
   ],
   "source": [
    "len(tokens)"
   ]
  },
  {
   "cell_type": "markdown",
   "id": "da647ba5",
   "metadata": {},
   "source": [
    "# Stopwords removal"
   ]
  },
  {
   "cell_type": "code",
   "execution_count": 37,
   "id": "5366689a",
   "metadata": {},
   "outputs": [],
   "source": [
    "sw = stopwords.words('english')"
   ]
  },
  {
   "cell_type": "code",
   "execution_count": 38,
   "id": "7b696f93",
   "metadata": {},
   "outputs": [
    {
     "data": {
      "text/plain": [
       "['i', 'me', 'my', 'myself', 'we', 'our', 'ours', 'ourselves', 'you', \"you're\"]"
      ]
     },
     "execution_count": 38,
     "metadata": {},
     "output_type": "execute_result"
    }
   ],
   "source": [
    "sw[:10]"
   ]
  },
  {
   "cell_type": "code",
   "execution_count": 39,
   "id": "e65a3a01",
   "metadata": {},
   "outputs": [],
   "source": [
    "tokens = [[word for word in t if word not in sw] for t in tokens]"
   ]
  },
  {
   "cell_type": "code",
   "execution_count": 40,
   "id": "fdf1f198",
   "metadata": {},
   "outputs": [
    {
     "data": {
      "text/plain": [
       "['unable', 'save', 'work', '.', 'nothing', 'works', ':', '(']"
      ]
     },
     "execution_count": 40,
     "metadata": {},
     "output_type": "execute_result"
    }
   ],
   "source": [
    "tokens[13]"
   ]
  },
  {
   "cell_type": "code",
   "execution_count": 41,
   "id": "87bd4391",
   "metadata": {},
   "outputs": [
    {
     "data": {
      "text/plain": [
       "'Unable to save my work. Nothing works :('"
      ]
     },
     "execution_count": 41,
     "metadata": {},
     "output_type": "execute_result"
    }
   ],
   "source": [
    "reviews[13]"
   ]
  },
  {
   "cell_type": "code",
   "execution_count": 42,
   "id": "900c6ada",
   "metadata": {},
   "outputs": [
    {
     "data": {
      "text/plain": [
       "['absolutely', 'amazing', 'lifesaver', 'teachers', '.']"
      ]
     },
     "execution_count": 42,
     "metadata": {},
     "output_type": "execute_result"
    }
   ],
   "source": [
    "tokens[1495]"
   ]
  },
  {
   "cell_type": "code",
   "execution_count": 43,
   "id": "efdf8a3f",
   "metadata": {},
   "outputs": [
    {
     "data": {
      "text/plain": [
       "'Absolutely amazing and a lifesaver for teachers.'"
      ]
     },
     "execution_count": 43,
     "metadata": {},
     "output_type": "execute_result"
    }
   ],
   "source": [
    "reviews[1495]"
   ]
  },
  {
   "cell_type": "markdown",
   "id": "fa218c91",
   "metadata": {},
   "source": [
    "### Remove punctuations"
   ]
  },
  {
   "cell_type": "code",
   "execution_count": 44,
   "id": "c8ca9513",
   "metadata": {},
   "outputs": [],
   "source": [
    "tokenizer = RegexpTokenizer(r'\\w+')"
   ]
  },
  {
   "cell_type": "code",
   "execution_count": 45,
   "id": "f5549185",
   "metadata": {},
   "outputs": [
    {
     "data": {
      "text/plain": [
       "['wasn', 't']"
      ]
     },
     "execution_count": 45,
     "metadata": {},
     "output_type": "execute_result"
    }
   ],
   "source": [
    "tokenizer.tokenize(\"wasn't\")"
   ]
  },
  {
   "cell_type": "code",
   "execution_count": 46,
   "id": "fe82a0fb",
   "metadata": {},
   "outputs": [],
   "source": [
    "t = tokenizer.tokenize(\"wasn't\")"
   ]
  },
  {
   "cell_type": "code",
   "execution_count": 47,
   "id": "44054633",
   "metadata": {},
   "outputs": [
    {
     "data": {
      "text/plain": [
       "'wasnt'"
      ]
     },
     "execution_count": 47,
     "metadata": {},
     "output_type": "execute_result"
    }
   ],
   "source": [
    "\"\".join(t)"
   ]
  },
  {
   "cell_type": "code",
   "execution_count": 48,
   "id": "0ca9de16",
   "metadata": {},
   "outputs": [
    {
     "data": {
      "text/plain": [
       "[]"
      ]
     },
     "execution_count": 48,
     "metadata": {},
     "output_type": "execute_result"
    }
   ],
   "source": [
    "tokenizer.tokenize(\":\")"
   ]
  },
  {
   "cell_type": "code",
   "execution_count": 49,
   "id": "9019d2de",
   "metadata": {},
   "outputs": [],
   "source": [
    "tokens = [[\"\".join(tokenizer.tokenize(word)) for word in t\n",
    "           if len(tokenizer.tokenize(word))>0] for t in tokens]"
   ]
  },
  {
   "cell_type": "code",
   "execution_count": 50,
   "id": "e4af0982",
   "metadata": {},
   "outputs": [
    {
     "data": {
      "text/plain": [
       "['unable', 'save', 'work', 'nothing', 'works']"
      ]
     },
     "execution_count": 50,
     "metadata": {},
     "output_type": "execute_result"
    }
   ],
   "source": [
    "tokens[13]"
   ]
  },
  {
   "cell_type": "code",
   "execution_count": 51,
   "id": "2a3c0165",
   "metadata": {},
   "outputs": [
    {
     "data": {
      "text/plain": [
       "'Unable to save my work. Nothing works :('"
      ]
     },
     "execution_count": 51,
     "metadata": {},
     "output_type": "execute_result"
    }
   ],
   "source": [
    "reviews[13]"
   ]
  },
  {
   "cell_type": "code",
   "execution_count": 52,
   "id": "bf2faa21",
   "metadata": {},
   "outputs": [
    {
     "data": {
      "text/plain": [
       "['absolutely', 'amazing', 'lifesaver', 'teachers']"
      ]
     },
     "execution_count": 52,
     "metadata": {},
     "output_type": "execute_result"
    }
   ],
   "source": [
    "tokens[1495]"
   ]
  },
  {
   "cell_type": "code",
   "execution_count": 53,
   "id": "37b56f5b",
   "metadata": {},
   "outputs": [
    {
     "data": {
      "text/plain": [
       "'Absolutely amazing and a lifesaver for teachers.'"
      ]
     },
     "execution_count": 53,
     "metadata": {},
     "output_type": "execute_result"
    }
   ],
   "source": [
    "reviews[1495]"
   ]
  },
  {
   "cell_type": "markdown",
   "id": "ad288a6d",
   "metadata": {},
   "source": [
    "# Stemming"
   ]
  },
  {
   "cell_type": "code",
   "execution_count": 54,
   "id": "4aeea363",
   "metadata": {},
   "outputs": [],
   "source": [
    "porter = PorterStemmer()\n",
    "lancaster = LancasterStemmer()"
   ]
  },
  {
   "cell_type": "code",
   "execution_count": 55,
   "id": "f524b5a7",
   "metadata": {},
   "outputs": [
    {
     "data": {
      "text/plain": [
       "'teacher'"
      ]
     },
     "execution_count": 55,
     "metadata": {},
     "output_type": "execute_result"
    }
   ],
   "source": [
    "porter.stem(\"teachers\")"
   ]
  },
  {
   "cell_type": "code",
   "execution_count": 56,
   "id": "79c3e96e",
   "metadata": {},
   "outputs": [
    {
     "data": {
      "text/plain": [
       "'teach'"
      ]
     },
     "execution_count": 56,
     "metadata": {},
     "output_type": "execute_result"
    }
   ],
   "source": [
    "lancaster.stem(\"teachers\")"
   ]
  },
  {
   "cell_type": "code",
   "execution_count": 57,
   "id": "5500088f",
   "metadata": {},
   "outputs": [
    {
     "data": {
      "text/plain": [
       "'absolut'"
      ]
     },
     "execution_count": 57,
     "metadata": {},
     "output_type": "execute_result"
    }
   ],
   "source": [
    "porter.stem(\"absolutely\")"
   ]
  },
  {
   "cell_type": "code",
   "execution_count": 58,
   "id": "a43bb2ba",
   "metadata": {},
   "outputs": [
    {
     "data": {
      "text/plain": [
       "'absolv'"
      ]
     },
     "execution_count": 58,
     "metadata": {},
     "output_type": "execute_result"
    }
   ],
   "source": [
    "lancaster.stem(\"absolutely\")"
   ]
  },
  {
   "cell_type": "code",
   "execution_count": 59,
   "id": "826ea50f",
   "metadata": {},
   "outputs": [],
   "source": [
    "tokens = [[porter.stem(word) for word in t] for t in tokens]"
   ]
  },
  {
   "cell_type": "code",
   "execution_count": 60,
   "id": "06da3738",
   "metadata": {},
   "outputs": [
    {
     "data": {
      "text/plain": [
       "['unabl', 'save', 'work', 'noth', 'work']"
      ]
     },
     "execution_count": 60,
     "metadata": {},
     "output_type": "execute_result"
    }
   ],
   "source": [
    "tokens[13]"
   ]
  },
  {
   "cell_type": "code",
   "execution_count": 61,
   "id": "42a0a985",
   "metadata": {},
   "outputs": [
    {
     "data": {
      "text/plain": [
       "'Unable to save my work. Nothing works :('"
      ]
     },
     "execution_count": 61,
     "metadata": {},
     "output_type": "execute_result"
    }
   ],
   "source": [
    "reviews[13]"
   ]
  },
  {
   "cell_type": "code",
   "execution_count": 62,
   "id": "e0692f7b",
   "metadata": {},
   "outputs": [
    {
     "data": {
      "text/plain": [
       "['absolut', 'amaz', 'lifesav', 'teacher']"
      ]
     },
     "execution_count": 62,
     "metadata": {},
     "output_type": "execute_result"
    }
   ],
   "source": [
    "tokens[1495]"
   ]
  },
  {
   "cell_type": "code",
   "execution_count": 63,
   "id": "8b9ef0d3",
   "metadata": {},
   "outputs": [
    {
     "data": {
      "text/plain": [
       "'Absolutely amazing and a lifesaver for teachers.'"
      ]
     },
     "execution_count": 63,
     "metadata": {},
     "output_type": "execute_result"
    }
   ],
   "source": [
    "reviews[1495]"
   ]
  },
  {
   "cell_type": "markdown",
   "id": "e5780d6a",
   "metadata": {},
   "source": [
    "# Word count distribution"
   ]
  },
  {
   "cell_type": "code",
   "execution_count": 64,
   "id": "db8705a4",
   "metadata": {},
   "outputs": [],
   "source": [
    "flat_tokens = [word for t in tokens for word in t]"
   ]
  },
  {
   "cell_type": "code",
   "execution_count": 65,
   "id": "1cd37f07",
   "metadata": {},
   "outputs": [
    {
     "data": {
      "text/plain": [
       "13782"
      ]
     },
     "execution_count": 65,
     "metadata": {},
     "output_type": "execute_result"
    }
   ],
   "source": [
    "len(flat_tokens)"
   ]
  },
  {
   "cell_type": "code",
   "execution_count": 66,
   "id": "4f712e81",
   "metadata": {},
   "outputs": [
    {
     "data": {
      "text/plain": [
       "['overal', 's', 'realli', 'amaz', 'app', 've', 'use', 'past', '5', 'year']"
      ]
     },
     "execution_count": 66,
     "metadata": {},
     "output_type": "execute_result"
    }
   ],
   "source": [
    "flat_tokens[:10]"
   ]
  },
  {
   "cell_type": "code",
   "execution_count": 67,
   "id": "0b7c4641",
   "metadata": {},
   "outputs": [],
   "source": [
    "counts = Counter(flat_tokens)"
   ]
  },
  {
   "cell_type": "code",
   "execution_count": 68,
   "id": "6c0b5e85",
   "metadata": {},
   "outputs": [
    {
     "data": {
      "text/plain": [
       "1720"
      ]
     },
     "execution_count": 68,
     "metadata": {},
     "output_type": "execute_result"
    }
   ],
   "source": [
    "len(counts)"
   ]
  },
  {
   "cell_type": "code",
   "execution_count": 69,
   "id": "27044c50",
   "metadata": {},
   "outputs": [
    {
     "data": {
      "text/plain": [
       "[('app', 932),\n",
       " ('use', 474),\n",
       " ('design', 349),\n",
       " ('easi', 293),\n",
       " ('s', 240),\n",
       " ('love', 220),\n",
       " ('good', 219),\n",
       " ('edit', 191),\n",
       " ('make', 190),\n",
       " ('great', 184)]"
      ]
     },
     "execution_count": 69,
     "metadata": {},
     "output_type": "execute_result"
    }
   ],
   "source": [
    "counts.most_common(10)"
   ]
  },
  {
   "cell_type": "markdown",
   "id": "8a7145eb",
   "metadata": {},
   "source": [
    "# Bag of Words"
   ]
  },
  {
   "cell_type": "code",
   "execution_count": 70,
   "id": "8ceece36",
   "metadata": {},
   "outputs": [
    {
     "data": {
      "text/plain": [
       "['unabl', 'save', 'work', 'noth', 'work']"
      ]
     },
     "execution_count": 70,
     "metadata": {},
     "output_type": "execute_result"
    }
   ],
   "source": [
    "tokens[13]"
   ]
  },
  {
   "cell_type": "code",
   "execution_count": 71,
   "id": "20148bfa",
   "metadata": {},
   "outputs": [
    {
     "data": {
      "text/plain": [
       "'unabl save work noth work'"
      ]
     },
     "execution_count": 71,
     "metadata": {},
     "output_type": "execute_result"
    }
   ],
   "source": [
    "\" \".join(tokens[13])"
   ]
  },
  {
   "cell_type": "code",
   "execution_count": 72,
   "id": "c2182b74",
   "metadata": {},
   "outputs": [],
   "source": [
    "clean_reviews = [\" \".join(t) for t in tokens]"
   ]
  },
  {
   "cell_type": "code",
   "execution_count": 73,
   "id": "534e48d5",
   "metadata": {},
   "outputs": [
    {
     "data": {
      "text/plain": [
       "'unabl save work noth work'"
      ]
     },
     "execution_count": 73,
     "metadata": {},
     "output_type": "execute_result"
    }
   ],
   "source": [
    "clean_reviews[13]"
   ]
  },
  {
   "cell_type": "code",
   "execution_count": 74,
   "id": "b6a78b1a",
   "metadata": {},
   "outputs": [
    {
     "data": {
      "text/plain": [
       "'absolut amaz lifesav teacher'"
      ]
     },
     "execution_count": 74,
     "metadata": {},
     "output_type": "execute_result"
    }
   ],
   "source": [
    "clean_reviews[1495]"
   ]
  },
  {
   "cell_type": "code",
   "execution_count": 75,
   "id": "fd0ab97a",
   "metadata": {},
   "outputs": [],
   "source": [
    "vect = CountVectorizer(binary=True, min_df=5)"
   ]
  },
  {
   "cell_type": "code",
   "execution_count": 76,
   "id": "d35f889d",
   "metadata": {},
   "outputs": [],
   "source": [
    "X = vect.fit_transform(clean_reviews)"
   ]
  },
  {
   "cell_type": "code",
   "execution_count": 77,
   "id": "4039e6ab",
   "metadata": {},
   "outputs": [
    {
     "data": {
      "text/plain": [
       "(1500, 413)"
      ]
     },
     "execution_count": 77,
     "metadata": {},
     "output_type": "execute_result"
    }
   ],
   "source": [
    "X.shape"
   ]
  },
  {
   "cell_type": "markdown",
   "id": "78d386fd",
   "metadata": {},
   "source": [
    "### Unique words in the vocabulary"
   ]
  },
  {
   "cell_type": "code",
   "execution_count": 78,
   "id": "6c9da9ce",
   "metadata": {},
   "outputs": [
    {
     "data": {
      "text/plain": [
       "413"
      ]
     },
     "execution_count": 78,
     "metadata": {},
     "output_type": "execute_result"
    }
   ],
   "source": [
    "len(vect.vocabulary_)"
   ]
  },
  {
   "cell_type": "markdown",
   "id": "0b3a9945",
   "metadata": {},
   "source": [
    "### Convert the sparse matrix to array"
   ]
  },
  {
   "cell_type": "code",
   "execution_count": 79,
   "id": "f4a6ce3e",
   "metadata": {},
   "outputs": [
    {
     "data": {
      "text/plain": [
       "scipy.sparse.csr.csr_matrix"
      ]
     },
     "execution_count": 79,
     "metadata": {},
     "output_type": "execute_result"
    }
   ],
   "source": [
    "type(X)"
   ]
  },
  {
   "cell_type": "code",
   "execution_count": 80,
   "id": "40e94c86",
   "metadata": {},
   "outputs": [],
   "source": [
    "X_a = X.toarray()"
   ]
  },
  {
   "cell_type": "code",
   "execution_count": 81,
   "id": "673daeb2",
   "metadata": {},
   "outputs": [
    {
     "data": {
      "text/plain": [
       "(1500, 413)"
      ]
     },
     "execution_count": 81,
     "metadata": {},
     "output_type": "execute_result"
    }
   ],
   "source": [
    "X_a.shape"
   ]
  },
  {
   "cell_type": "code",
   "execution_count": 82,
   "id": "cd005ed0",
   "metadata": {},
   "outputs": [
    {
     "data": {
      "text/plain": [
       "array([0, 0, 0, 0, 0, 0, 0, 0, 0, 0, 0, 0, 0, 0, 0, 0, 0, 0, 0, 0, 0, 0,\n",
       "       0, 0, 0, 0, 0, 0, 0, 0, 0, 0, 0, 0, 0, 0, 0, 0, 0, 0, 0, 0, 0, 0,\n",
       "       0, 0, 0, 0, 0, 0, 0, 0, 0, 0, 0, 0, 0, 0, 0, 0, 0, 0, 0, 0, 0, 0,\n",
       "       0, 0, 0, 0, 0, 0, 0, 0, 0, 0, 0, 0, 0, 0, 0, 0, 0, 0, 0, 0, 0, 0,\n",
       "       0, 0, 0, 0, 0, 0, 0, 0, 0, 0, 0, 0, 0, 0, 0, 0, 0, 0, 0, 0, 0, 0,\n",
       "       0, 0, 0, 0, 0, 0, 0, 0, 0, 0, 0, 0, 0, 0, 0, 0, 0, 0, 0, 0, 0, 0,\n",
       "       0, 0, 0, 0, 0, 0, 0, 0, 0, 0, 0, 0, 0, 0, 0, 0, 0, 0, 0, 0, 0, 0,\n",
       "       0, 0, 0, 0, 0, 0, 0, 0, 0, 0, 0, 0, 0, 0, 0, 0, 0, 0, 0, 0, 0, 0,\n",
       "       0, 0, 0, 0, 0, 0, 0, 0, 0, 0, 0, 0, 0, 0, 0, 0, 0, 0, 0, 0, 0, 0,\n",
       "       0, 0, 0, 0, 0, 0, 0, 0, 0, 0, 0, 0, 0, 0, 0, 0, 0, 0, 0, 0, 0, 0,\n",
       "       0, 0, 0, 0, 0, 0, 0, 0, 0, 0, 0, 0, 0, 1, 0, 0, 0, 0, 0, 0, 0, 0,\n",
       "       0, 0, 0, 0, 0, 0, 0, 0, 0, 0, 0, 0, 0, 0, 0, 0, 0, 0, 0, 0, 0, 0,\n",
       "       0, 0, 0, 0, 0, 0, 0, 0, 0, 0, 0, 0, 0, 0, 0, 0, 0, 0, 0, 0, 0, 0,\n",
       "       0, 0, 0, 0, 0, 0, 0, 0, 0, 0, 0, 0, 0, 0, 0, 0, 1, 0, 0, 0, 0, 0,\n",
       "       0, 0, 0, 0, 0, 0, 0, 0, 0, 0, 0, 0, 0, 0, 0, 0, 0, 0, 0, 0, 0, 0,\n",
       "       0, 0, 0, 0, 0, 0, 0, 0, 0, 0, 0, 0, 0, 0, 0, 0, 0, 0, 0, 0, 0, 0,\n",
       "       0, 0, 0, 0, 0, 0, 0, 0, 0, 0, 0, 0, 0, 0, 0, 0, 0, 0, 1, 0, 0, 0,\n",
       "       0, 0, 0, 0, 0, 0, 0, 0, 0, 0, 0, 0, 0, 0, 0, 0, 0, 0, 0, 0, 0, 0,\n",
       "       0, 0, 0, 0, 0, 1, 0, 0, 0, 0, 0, 0, 0, 0, 0, 0, 0])"
      ]
     },
     "execution_count": 82,
     "metadata": {},
     "output_type": "execute_result"
    }
   ],
   "source": [
    "X_a[13,:]"
   ]
  },
  {
   "cell_type": "code",
   "execution_count": 83,
   "id": "35ceddb7",
   "metadata": {},
   "outputs": [
    {
     "data": {
      "text/plain": [
       "4"
      ]
     },
     "execution_count": 83,
     "metadata": {},
     "output_type": "execute_result"
    }
   ],
   "source": [
    "X_a[13,:].sum()"
   ]
  },
  {
   "cell_type": "code",
   "execution_count": 84,
   "id": "e227645e",
   "metadata": {},
   "outputs": [
    {
     "data": {
      "text/plain": [
       "'unabl save work noth work'"
      ]
     },
     "execution_count": 84,
     "metadata": {},
     "output_type": "execute_result"
    }
   ],
   "source": [
    "clean_reviews[13]"
   ]
  },
  {
   "cell_type": "code",
   "execution_count": 85,
   "id": "70c921d1",
   "metadata": {},
   "outputs": [
    {
     "data": {
      "text/plain": [
       "370"
      ]
     },
     "execution_count": 85,
     "metadata": {},
     "output_type": "execute_result"
    }
   ],
   "source": [
    "vect.get_feature_names().index(\"unabl\")"
   ]
  },
  {
   "cell_type": "code",
   "execution_count": 86,
   "id": "66fb4b28",
   "metadata": {},
   "outputs": [
    {
     "data": {
      "text/plain": [
       "1"
      ]
     },
     "execution_count": 86,
     "metadata": {},
     "output_type": "execute_result"
    }
   ],
   "source": [
    "X_a[13,370]"
   ]
  },
  {
   "cell_type": "code",
   "execution_count": 87,
   "id": "b86f5d6a",
   "metadata": {},
   "outputs": [
    {
     "data": {
      "text/plain": [
       "401"
      ]
     },
     "execution_count": 87,
     "metadata": {},
     "output_type": "execute_result"
    }
   ],
   "source": [
    "vect.get_feature_names().index(\"work\")"
   ]
  },
  {
   "cell_type": "code",
   "execution_count": 88,
   "id": "1234e9fd",
   "metadata": {},
   "outputs": [
    {
     "data": {
      "text/plain": [
       "1"
      ]
     },
     "execution_count": 88,
     "metadata": {},
     "output_type": "execute_result"
    }
   ],
   "source": [
    "X_a[13,401]"
   ]
  },
  {
   "cell_type": "code",
   "execution_count": 89,
   "id": "a7733b84",
   "metadata": {},
   "outputs": [
    {
     "data": {
      "text/html": [
       "<div>\n",
       "<style scoped>\n",
       "    .dataframe tbody tr th:only-of-type {\n",
       "        vertical-align: middle;\n",
       "    }\n",
       "\n",
       "    .dataframe tbody tr th {\n",
       "        vertical-align: top;\n",
       "    }\n",
       "\n",
       "    .dataframe thead th {\n",
       "        text-align: right;\n",
       "    }\n",
       "</style>\n",
       "<table border=\"1\" class=\"dataframe\">\n",
       "  <thead>\n",
       "    <tr style=\"text-align: right;\">\n",
       "      <th></th>\n",
       "      <th>review</th>\n",
       "      <th>Sentiment</th>\n",
       "    </tr>\n",
       "  </thead>\n",
       "  <tbody>\n",
       "    <tr>\n",
       "      <th>0</th>\n",
       "      <td>Overall it's really an amazing app. I've been ...</td>\n",
       "      <td>Negative</td>\n",
       "    </tr>\n",
       "    <tr>\n",
       "      <th>1</th>\n",
       "      <td>Hey! Yes I gave a 5 star rating... coz I belie...</td>\n",
       "      <td>Positive</td>\n",
       "    </tr>\n",
       "    <tr>\n",
       "      <th>2</th>\n",
       "      <td>Canva used to be a good app! But recently I've...</td>\n",
       "      <td>Negative</td>\n",
       "    </tr>\n",
       "    <tr>\n",
       "      <th>3</th>\n",
       "      <td>It's a brilliant app, but I have just one prob...</td>\n",
       "      <td>Negative</td>\n",
       "    </tr>\n",
       "    <tr>\n",
       "      <th>4</th>\n",
       "      <td>This was such a great app. I used to make BTS ...</td>\n",
       "      <td>Negative</td>\n",
       "    </tr>\n",
       "  </tbody>\n",
       "</table>\n",
       "</div>"
      ],
      "text/plain": [
       "                                              review Sentiment\n",
       "0  Overall it's really an amazing app. I've been ...  Negative\n",
       "1  Hey! Yes I gave a 5 star rating... coz I belie...  Positive\n",
       "2  Canva used to be a good app! But recently I've...  Negative\n",
       "3  It's a brilliant app, but I have just one prob...  Negative\n",
       "4  This was such a great app. I used to make BTS ...  Negative"
      ]
     },
     "execution_count": 89,
     "metadata": {},
     "output_type": "execute_result"
    }
   ],
   "source": [
    "data.head()"
   ]
  },
  {
   "cell_type": "code",
   "execution_count": 90,
   "id": "f943bead",
   "metadata": {},
   "outputs": [],
   "source": [
    "data[\"Sentiment\"] = data[\"Sentiment\"].apply(lambda x: 1 if x==\"Positive\" else 0)"
   ]
  },
  {
   "cell_type": "code",
   "execution_count": 91,
   "id": "7bcead92",
   "metadata": {},
   "outputs": [],
   "source": [
    "y = data[\"Sentiment\"]"
   ]
  },
  {
   "cell_type": "markdown",
   "id": "7fcb7804",
   "metadata": {},
   "source": [
    "### Split the dataset into train and test"
   ]
  },
  {
   "cell_type": "code",
   "execution_count": 92,
   "id": "0a0b2968",
   "metadata": {},
   "outputs": [],
   "source": [
    "X_train, X_test, y_train, y_test = train_test_split(X, y, test_size=0.2,\n",
    "                                                   stratify=y, random_state=42)"
   ]
  },
  {
   "cell_type": "markdown",
   "id": "a0f64151",
   "metadata": {},
   "source": [
    "### Build a Logistic Regression model"
   ]
  },
  {
   "cell_type": "code",
   "execution_count": 93,
   "id": "8805bf78",
   "metadata": {},
   "outputs": [],
   "source": [
    "model = LogisticRegression()"
   ]
  },
  {
   "cell_type": "code",
   "execution_count": 94,
   "id": "85f9b1a7",
   "metadata": {},
   "outputs": [
    {
     "data": {
      "text/plain": [
       "LogisticRegression()"
      ]
     },
     "execution_count": 94,
     "metadata": {},
     "output_type": "execute_result"
    }
   ],
   "source": [
    "model.fit(X_train, y_train)"
   ]
  },
  {
   "cell_type": "code",
   "execution_count": 95,
   "id": "fb0cb2b7",
   "metadata": {},
   "outputs": [],
   "source": [
    "train_pred = model.predict(X_train)"
   ]
  },
  {
   "cell_type": "code",
   "execution_count": 96,
   "id": "3c50f036",
   "metadata": {},
   "outputs": [
    {
     "data": {
      "text/plain": [
       "0.9608333333333333"
      ]
     },
     "execution_count": 96,
     "metadata": {},
     "output_type": "execute_result"
    }
   ],
   "source": [
    "accuracy_score(y_train, train_pred)"
   ]
  },
  {
   "cell_type": "code",
   "execution_count": 97,
   "id": "794f093c",
   "metadata": {},
   "outputs": [
    {
     "data": {
      "text/plain": [
       "0.89"
      ]
     },
     "execution_count": 97,
     "metadata": {},
     "output_type": "execute_result"
    }
   ],
   "source": [
    "test_pred = model.predict(X_test)\n",
    "accuracy_score(y_test, test_pred)"
   ]
  },
  {
   "cell_type": "markdown",
   "id": "400ac5ba",
   "metadata": {},
   "source": [
    "### Save both the vectorizer and the model"
   ]
  },
  {
   "cell_type": "code",
   "execution_count": 98,
   "id": "40b81d04",
   "metadata": {},
   "outputs": [],
   "source": [
    "with open(\"Output/binary_count_vect.pkl\", \"wb\") as f:\n",
    "    pickle.dump(vect, f)\n",
    "with open(\"Output/binary_count_vect_lr.pkl\", \"wb\") as f:\n",
    "    pickle.dump(model, f)"
   ]
  },
  {
   "cell_type": "markdown",
   "id": "35284dda",
   "metadata": {},
   "source": [
    "### Bag of words without binary"
   ]
  },
  {
   "cell_type": "code",
   "execution_count": 99,
   "id": "cdf59374",
   "metadata": {},
   "outputs": [],
   "source": [
    "vect = CountVectorizer(min_df=5)\n",
    "X = vect.fit_transform(clean_reviews)"
   ]
  },
  {
   "cell_type": "code",
   "execution_count": 100,
   "id": "68f43311",
   "metadata": {},
   "outputs": [],
   "source": [
    "X_a = X.toarray()"
   ]
  },
  {
   "cell_type": "code",
   "execution_count": 101,
   "id": "c220a6ef",
   "metadata": {},
   "outputs": [
    {
     "data": {
      "text/plain": [
       "'unabl save work noth work'"
      ]
     },
     "execution_count": 101,
     "metadata": {},
     "output_type": "execute_result"
    }
   ],
   "source": [
    "clean_reviews[13]"
   ]
  },
  {
   "cell_type": "code",
   "execution_count": 102,
   "id": "f5bbee77",
   "metadata": {},
   "outputs": [
    {
     "data": {
      "text/plain": [
       "401"
      ]
     },
     "execution_count": 102,
     "metadata": {},
     "output_type": "execute_result"
    }
   ],
   "source": [
    "vect.get_feature_names().index(\"work\")"
   ]
  },
  {
   "cell_type": "code",
   "execution_count": 103,
   "id": "c261e772",
   "metadata": {},
   "outputs": [
    {
     "data": {
      "text/plain": [
       "array([0, 0, 0, 0, 0, 0, 0, 0, 0, 0, 0, 0, 0, 0, 0, 0, 0, 0, 0, 0, 0, 0,\n",
       "       0, 0, 0, 0, 0, 0, 0, 0, 0, 0, 0, 0, 0, 0, 0, 0, 0, 0, 0, 0, 0, 0,\n",
       "       0, 0, 0, 0, 0, 0, 0, 0, 0, 0, 0, 0, 0, 0, 0, 0, 0, 0, 0, 0, 0, 0,\n",
       "       0, 0, 0, 0, 0, 0, 0, 0, 0, 0, 0, 0, 0, 0, 0, 0, 0, 0, 0, 0, 0, 0,\n",
       "       0, 0, 0, 0, 0, 0, 0, 0, 0, 0, 0, 0, 0, 0, 0, 0, 0, 0, 0, 0, 0, 0,\n",
       "       0, 0, 0, 0, 0, 0, 0, 0, 0, 0, 0, 0, 0, 0, 0, 0, 0, 0, 0, 0, 0, 0,\n",
       "       0, 0, 0, 0, 0, 0, 0, 0, 0, 0, 0, 0, 0, 0, 0, 0, 0, 0, 0, 0, 0, 0,\n",
       "       0, 0, 0, 0, 0, 0, 0, 0, 0, 0, 0, 0, 0, 0, 0, 0, 0, 0, 0, 0, 0, 0,\n",
       "       0, 0, 0, 0, 0, 0, 0, 0, 0, 0, 0, 0, 0, 0, 0, 0, 0, 0, 0, 0, 0, 0,\n",
       "       0, 0, 0, 0, 0, 0, 0, 0, 0, 0, 0, 0, 0, 0, 0, 0, 0, 0, 0, 0, 0, 0,\n",
       "       0, 0, 0, 0, 0, 0, 0, 0, 0, 0, 0, 0, 0, 1, 0, 0, 0, 0, 0, 0, 0, 0,\n",
       "       0, 0, 0, 0, 0, 0, 0, 0, 0, 0, 0, 0, 0, 0, 0, 0, 0, 0, 0, 0, 0, 0,\n",
       "       0, 0, 0, 0, 0, 0, 0, 0, 0, 0, 0, 0, 0, 0, 0, 0, 0, 0, 0, 0, 0, 0,\n",
       "       0, 0, 0, 0, 0, 0, 0, 0, 0, 0, 0, 0, 0, 0, 0, 0, 1, 0, 0, 0, 0, 0,\n",
       "       0, 0, 0, 0, 0, 0, 0, 0, 0, 0, 0, 0, 0, 0, 0, 0, 0, 0, 0, 0, 0, 0,\n",
       "       0, 0, 0, 0, 0, 0, 0, 0, 0, 0, 0, 0, 0, 0, 0, 0, 0, 0, 0, 0, 0, 0,\n",
       "       0, 0, 0, 0, 0, 0, 0, 0, 0, 0, 0, 0, 0, 0, 0, 0, 0, 0, 1, 0, 0, 0,\n",
       "       0, 0, 0, 0, 0, 0, 0, 0, 0, 0, 0, 0, 0, 0, 0, 0, 0, 0, 0, 0, 0, 0,\n",
       "       0, 0, 0, 0, 0, 2, 0, 0, 0, 0, 0, 0, 0, 0, 0, 0, 0])"
      ]
     },
     "execution_count": 103,
     "metadata": {},
     "output_type": "execute_result"
    }
   ],
   "source": [
    "X_a[13,:]"
   ]
  },
  {
   "cell_type": "code",
   "execution_count": 105,
   "id": "c3bd6f76",
   "metadata": {},
   "outputs": [
    {
     "data": {
      "text/plain": [
       "2"
      ]
     },
     "execution_count": 105,
     "metadata": {},
     "output_type": "execute_result"
    }
   ],
   "source": [
    "X_a[13,401]"
   ]
  },
  {
   "cell_type": "code",
   "execution_count": 106,
   "id": "e49751cc",
   "metadata": {},
   "outputs": [],
   "source": [
    "X_train, X_test, y_train, y_test = train_test_split(X, y, test_size=0.2,\n",
    "                                                   stratify=y, random_state=42)"
   ]
  },
  {
   "cell_type": "code",
   "execution_count": 108,
   "id": "b9913410",
   "metadata": {},
   "outputs": [
    {
     "data": {
      "text/plain": [
       "LogisticRegression()"
      ]
     },
     "execution_count": 108,
     "metadata": {},
     "output_type": "execute_result"
    }
   ],
   "source": [
    "model = LogisticRegression()\n",
    "model.fit(X_train, y_train)"
   ]
  },
  {
   "cell_type": "code",
   "execution_count": 109,
   "id": "a032e94f",
   "metadata": {},
   "outputs": [
    {
     "name": "stdout",
     "output_type": "stream",
     "text": [
      "Train Accuracy:0.9566666666666667\n",
      "Test Accuracy:0.8833333333333333\n"
     ]
    }
   ],
   "source": [
    "train_pred = model.predict(X_train)\n",
    "test_pred = model.predict(X_test)\n",
    "print(f\"Train Accuracy:{accuracy_score(y_train, train_pred)}\")\n",
    "print(f\"Test Accuracy:{accuracy_score(y_test, test_pred)}\")"
   ]
  },
  {
   "cell_type": "code",
   "execution_count": 110,
   "id": "d9ee904b",
   "metadata": {},
   "outputs": [],
   "source": [
    "with open(\"Output/count_vect.pkl\", \"wb\") as f:\n",
    "    pickle.dump(vect, f)\n",
    "with open(\"Output/count_vect_lr.pkl\", \"wb\") as f:\n",
    "    pickle.dump(model, f)"
   ]
  },
  {
   "cell_type": "markdown",
   "id": "14c02071",
   "metadata": {},
   "source": [
    "# N-grams"
   ]
  },
  {
   "cell_type": "code",
   "execution_count": 111,
   "id": "3143daf0",
   "metadata": {},
   "outputs": [],
   "source": [
    "vect = CountVectorizer(min_df=5, ngram_range=(1,3))\n",
    "X = vect.fit_transform(clean_reviews)"
   ]
  },
  {
   "cell_type": "code",
   "execution_count": 112,
   "id": "4db855d7",
   "metadata": {},
   "outputs": [
    {
     "data": {
      "text/plain": [
       "(1500, 666)"
      ]
     },
     "execution_count": 112,
     "metadata": {},
     "output_type": "execute_result"
    }
   ],
   "source": [
    "X.shape"
   ]
  },
  {
   "cell_type": "code",
   "execution_count": 113,
   "id": "99e7a226",
   "metadata": {},
   "outputs": [
    {
     "data": {
      "text/plain": [
       "{'overal': 425,\n",
       " 'realli': 476,\n",
       " 'amaz': 19,\n",
       " 'app': 29,\n",
       " 've': 625,\n",
       " 'use': 602,\n",
       " 'past': 428,\n",
       " 'year': 661,\n",
       " 'howev': 298,\n",
       " 'one': 415,\n",
       " 'issu': 314,\n",
       " 'though': 579,\n",
       " 'want': 633,\n",
       " 'get': 257,\n",
       " 'sinc': 519,\n",
       " 'think': 578,\n",
       " 'last': 326,\n",
       " 'mani': 372,\n",
       " 'text': 573,\n",
       " 'zoom': 665,\n",
       " 'thought': 580,\n",
       " 'mobil': 385,\n",
       " 'also': 17,\n",
       " 'present': 455,\n",
       " 'websit': 638,\n",
       " 'pleas': 446,\n",
       " 'fix': 237,\n",
       " 'still': 539,\n",
       " 'time': 582,\n",
       " 'export': 219,\n",
       " 'high': 293,\n",
       " 'definit': 155,\n",
       " 'love': 350,\n",
       " 'experi': 217,\n",
       " 'thank': 574,\n",
       " 'realli amaz': 477,\n",
       " 'amaz app': 20,\n",
       " 'app ve': 66,\n",
       " 've use': 628,\n",
       " 'pleas fix': 447,\n",
       " 'gave': 255,\n",
       " 'star': 537,\n",
       " 'rate': 472,\n",
       " 'deserv': 156,\n",
       " 'desktop': 164,\n",
       " 'version': 629,\n",
       " 'satisfi': 499,\n",
       " 'android': 23,\n",
       " 'develop': 166,\n",
       " 'beauti': 86,\n",
       " 'liter': 335,\n",
       " 'find': 231,\n",
       " 'almost': 14,\n",
       " 'everyth': 212,\n",
       " 'need': 395,\n",
       " 'best': 89,\n",
       " 'even': 206,\n",
       " 'without': 645,\n",
       " 'premium': 453,\n",
       " 'featur': 227,\n",
       " 'provid': 466,\n",
       " 'us': 601,\n",
       " 'lot': 346,\n",
       " 'gave star': 256,\n",
       " 'desktop version': 165,\n",
       " 'canva': 117,\n",
       " 'good': 262,\n",
       " 'recent': 487,\n",
       " 'face': 220,\n",
       " 'save': 500,\n",
       " 'file': 230,\n",
       " 'stuck': 542,\n",
       " 'download': 174,\n",
       " 'call': 114,\n",
       " 'magic': 361,\n",
       " 'happen': 283,\n",
       " 'll': 337,\n",
       " 'hope': 297,\n",
       " 'soon': 535,\n",
       " 'good app': 263,\n",
       " 'brilliant': 104,\n",
       " 'problem': 461,\n",
       " 'edit': 191,\n",
       " 'post': 451,\n",
       " 'photo': 436,\n",
       " 'start': 538,\n",
       " '10': 0,\n",
       " 'crash': 143,\n",
       " 'restart': 492,\n",
       " 'sometim': 533,\n",
       " 'go': 261,\n",
       " 'resum': 494,\n",
       " 'back': 81,\n",
       " 'app one': 60,\n",
       " 'app crash': 35,\n",
       " 'great': 274,\n",
       " 'make': 362,\n",
       " 'updat': 598,\n",
       " 'abl': 2,\n",
       " 'chang': 124,\n",
       " 'font': 239,\n",
       " 'style': 546,\n",
       " 'option': 421,\n",
       " 'miss': 384,\n",
       " 'tri': 591,\n",
       " 'uninstal': 597,\n",
       " 'instal': 307,\n",
       " 'nt': 405,\n",
       " 'work': 651,\n",
       " 'far': 224,\n",
       " 'better': 101,\n",
       " 'could': 140,\n",
       " 'great app': 275,\n",
       " 'app use': 65,\n",
       " 'use make': 614,\n",
       " 'nt work': 412,\n",
       " 'first': 234,\n",
       " 'give': 258,\n",
       " 'review': 495,\n",
       " 'creat': 144,\n",
       " 'logo': 340,\n",
       " 'small': 524,\n",
       " 'compani': 133,\n",
       " 'busi': 106,\n",
       " 'data': 153,\n",
       " 'see': 508,\n",
       " 'job': 316,\n",
       " 'app realli': 61,\n",
       " 'realli great': 481,\n",
       " 'first time': 235,\n",
       " 'app great': 49,\n",
       " 'creat logo': 147,\n",
       " 'nt use': 411,\n",
       " 'use app': 603,\n",
       " 'great job': 280,\n",
       " 'basic': 85,\n",
       " 'design': 157,\n",
       " 'well': 639,\n",
       " 'keep': 317,\n",
       " 'take': 558,\n",
       " 'away': 78,\n",
       " 'free': 242,\n",
       " 'put': 468,\n",
       " 'subscript': 548,\n",
       " 'new': 398,\n",
       " 'ad': 9,\n",
       " 'graphic': 271,\n",
       " 'feel': 228,\n",
       " 'price': 457,\n",
       " 'pretti': 456,\n",
       " 'everi': 210,\n",
       " 'day': 154,\n",
       " 'rate star': 473,\n",
       " 'free version': 245,\n",
       " 'month': 388,\n",
       " 'thumbnail': 581,\n",
       " 'banner': 84,\n",
       " 'video': 630,\n",
       " 'watermark': 635,\n",
       " 'look': 345,\n",
       " 'much': 389,\n",
       " 'attract': 73,\n",
       " 'peopl': 431,\n",
       " 'come': 132,\n",
       " 'wonder': 648,\n",
       " 'make thumbnail': 371,\n",
       " 'app mani': 57,\n",
       " 'give star': 259,\n",
       " 'love app': 351,\n",
       " 'app thank': 64,\n",
       " 'wonder app': 649,\n",
       " 'superb': 554,\n",
       " 'user': 621,\n",
       " 'interfac': 309,\n",
       " 'finish': 233,\n",
       " 'awesom': 79,\n",
       " 'paid': 427,\n",
       " 'product': 462,\n",
       " 'like': 331,\n",
       " 'full': 249,\n",
       " 'function': 251,\n",
       " 'kind': 320,\n",
       " 'skill': 521,\n",
       " 'easi': 179,\n",
       " 'user interfac': 623,\n",
       " 'app make': 56,\n",
       " 'easi edit': 182,\n",
       " 'like app': 332,\n",
       " 'thank canva': 575,\n",
       " 'purchas': 467,\n",
       " 'never': 397,\n",
       " 'said': 498,\n",
       " 'check': 127,\n",
       " 'seen': 510,\n",
       " 'pictur': 441,\n",
       " 'wast': 634,\n",
       " 'solv': 531,\n",
       " 'video edit': 631,\n",
       " 'mani time': 378,\n",
       " 'use edit': 607,\n",
       " 'edit design': 193,\n",
       " 'easier': 189,\n",
       " 'tool': 588,\n",
       " 'etc': 205,\n",
       " 'slow': 523,\n",
       " 'load': 338,\n",
       " 'especi': 204,\n",
       " 'stress': 541,\n",
       " 'got': 270,\n",
       " 'wait': 632,\n",
       " 'stuff': 544,\n",
       " 'edit app': 192,\n",
       " 'edit make': 194,\n",
       " 'make edit': 367,\n",
       " 'page': 426,\n",
       " 'went': 640,\n",
       " 'improv': 303,\n",
       " 'disappoint': 170,\n",
       " 'wish': 644,\n",
       " 'close': 130,\n",
       " 'unabl': 594,\n",
       " 'noth': 404,\n",
       " 'unabl save': 595,\n",
       " 'save work': 505,\n",
       " 'help': 287,\n",
       " 'turn': 592,\n",
       " 'art': 71,\n",
       " 'money': 387,\n",
       " 'readi': 475,\n",
       " 'templat': 570,\n",
       " 'friendli': 247,\n",
       " 'poster': 452,\n",
       " 'conveni': 137,\n",
       " 'realli help': 482,\n",
       " 'use templat': 617,\n",
       " 'user friendli': 622,\n",
       " 'easi use': 184,\n",
       " 'slide': 522,\n",
       " 'select': 511,\n",
       " 'frustrat': 248,\n",
       " 'automat': 76,\n",
       " 'anoth': 26,\n",
       " 'ca': 109,\n",
       " 'may': 380,\n",
       " 'show': 514,\n",
       " 'imag': 301,\n",
       " 'done': 171,\n",
       " 'ca nt': 110,\n",
       " 'hate': 286,\n",
       " 'complet': 134,\n",
       " 'background': 82,\n",
       " 'bad': 83,\n",
       " 'far good': 225,\n",
       " 'could nt': 141,\n",
       " 'open': 419,\n",
       " 'let': 329,\n",
       " 'project': 464,\n",
       " 'social': 528,\n",
       " 'media': 381,\n",
       " 'site': 520,\n",
       " 'nt open': 409,\n",
       " 'social media': 529,\n",
       " 'ever': 207,\n",
       " 'anyth': 28,\n",
       " 'glitch': 260,\n",
       " 'it': 315,\n",
       " 'realli good': 479,\n",
       " 've ever': 626,\n",
       " 'ever use': 209,\n",
       " 'realli good app': 480,\n",
       " 've ever use': 627,\n",
       " 'nice': 400,\n",
       " 'add': 10,\n",
       " 'thing': 577,\n",
       " 'remov': 490,\n",
       " 'nice app': 401,\n",
       " 'long': 343,\n",
       " 'connect': 135,\n",
       " 'take long': 560,\n",
       " 'save imag': 502,\n",
       " 'worst': 654,\n",
       " 'lag': 323,\n",
       " 'becom': 87,\n",
       " 'auto': 74,\n",
       " 'team': 566,\n",
       " 'enough': 202,\n",
       " 'take much': 563,\n",
       " 'much time': 391,\n",
       " 'take much time': 564,\n",
       " 'say': 506,\n",
       " 'pro': 459,\n",
       " 'alot': 15,\n",
       " 'low': 359,\n",
       " 'app keep': 51,\n",
       " 'pro version': 460,\n",
       " 'take lot': 561,\n",
       " 'lot time': 349,\n",
       " 'time load': 583,\n",
       " 'take lot time': 562,\n",
       " 'fantast': 222,\n",
       " 'applic': 68,\n",
       " 'happi': 284,\n",
       " 'photo edit': 437,\n",
       " 'youtub': 663,\n",
       " 'app logo': 53,\n",
       " 'logo thumbnail': 342,\n",
       " 'app app': 31,\n",
       " 'app good': 46,\n",
       " 'someth': 532,\n",
       " 'perfect': 432,\n",
       " 'beginn': 88,\n",
       " 're': 474,\n",
       " 'right': 496,\n",
       " 'cool': 138,\n",
       " 'realli easi': 478,\n",
       " 'annoy': 25,\n",
       " 'share': 513,\n",
       " 'mode': 386,\n",
       " 'galleri': 253,\n",
       " 'log': 339,\n",
       " 'app save': 62,\n",
       " 'awesom app': 80,\n",
       " 'alway': 18,\n",
       " 'card': 123,\n",
       " 'advertis': 11,\n",
       " 'busi card': 107,\n",
       " 'interest': 308,\n",
       " 'differ': 168,\n",
       " 'help make': 292,\n",
       " 'creator': 150,\n",
       " 'one best': 416,\n",
       " 'best photo': 100,\n",
       " 'use get': 610,\n",
       " 'mani design': 373,\n",
       " 'design templat': 163,\n",
       " 'recommend': 488,\n",
       " 'everyon': 211,\n",
       " 'use use': 619,\n",
       " 'nt save': 410,\n",
       " 'save time': 504,\n",
       " 'total': 590,\n",
       " 'would': 657,\n",
       " 'plz': 448,\n",
       " 'small busi': 525,\n",
       " 'place': 443,\n",
       " 'creativ': 149,\n",
       " 'play': 445,\n",
       " 'mani templat': 376,\n",
       " 'life': 330,\n",
       " 'profession': 463,\n",
       " 'properli': 465,\n",
       " 'fantast app': 223,\n",
       " 'app love': 55,\n",
       " 'servic': 512,\n",
       " 'qualiti': 469,\n",
       " 'offer': 413,\n",
       " 'canva best': 119,\n",
       " 'best app': 90,\n",
       " 'high qualiti': 294,\n",
       " 'canva best app': 120,\n",
       " 'custom': 151,\n",
       " 'ca nt use': 113,\n",
       " 'incred': 304,\n",
       " 'phone': 435,\n",
       " 'impress': 302,\n",
       " 'easili': 190,\n",
       " 'intuit': 312,\n",
       " 'design app': 158,\n",
       " 'realli like': 483,\n",
       " 'free option': 243,\n",
       " 'use mani': 615,\n",
       " 'mani free': 374,\n",
       " 'easi use mani': 187,\n",
       " 'best edit': 97,\n",
       " 'afford': 12,\n",
       " 'use lot': 612,\n",
       " 'lot free': 348,\n",
       " 'absolut': 3,\n",
       " 'absolut love': 4,\n",
       " 'love canva': 354,\n",
       " 'make design': 365,\n",
       " 'choos': 128,\n",
       " 'person': 434,\n",
       " 'yet': 662,\n",
       " 'made': 360,\n",
       " 'know': 322,\n",
       " 'other': 423,\n",
       " 'use canva': 604,\n",
       " 'use free': 608,\n",
       " 'graphic design': 272,\n",
       " 'make app': 363,\n",
       " 'write': 659,\n",
       " 'app edit': 41,\n",
       " 'tell': 569,\n",
       " 'wrong': 660,\n",
       " 'less': 328,\n",
       " 'idea': 299,\n",
       " 'app easi': 39,\n",
       " 'app easi use': 40,\n",
       " 'canva app': 118,\n",
       " 'varieti': 624,\n",
       " 'love easi': 355,\n",
       " 'great app love': 277,\n",
       " 'love easi use': 356,\n",
       " 'im': 300,\n",
       " 'great app easi': 276,\n",
       " 'requir': 491,\n",
       " 'payment': 430,\n",
       " 'download design': 176,\n",
       " 'app lot': 54,\n",
       " 'free templat': 244,\n",
       " 'simpl': 516,\n",
       " 'lot featur': 347,\n",
       " 'laptop': 325,\n",
       " 'fun': 250,\n",
       " 'perfectli': 433,\n",
       " 'pl': 442,\n",
       " 'save design': 501,\n",
       " 'platform': 444,\n",
       " 'way': 636,\n",
       " 'app ever': 42,\n",
       " 'one best app': 417,\n",
       " 'best app ever': 93,\n",
       " 'app ever use': 43,\n",
       " 'super': 551,\n",
       " 'cover': 142,\n",
       " 'cool app': 139,\n",
       " 'edit photo': 195,\n",
       " 'love templat': 357,\n",
       " 'end': 200,\n",
       " 'result': 493,\n",
       " 'sure': 556,\n",
       " 'anyon': 27,\n",
       " 'app design': 37,\n",
       " 'make present': 370,\n",
       " 'creat design': 146,\n",
       " 'content': 136,\n",
       " 'great design': 278,\n",
       " 'easi use lot': 186,\n",
       " 'anim': 24,\n",
       " 'templat easi': 572,\n",
       " 'error': 203,\n",
       " 'technic': 567,\n",
       " 'technic issu': 568,\n",
       " 'instagram': 306,\n",
       " 'make easi': 366,\n",
       " 'absolut love app': 5,\n",
       " 'softwar': 530,\n",
       " 'youtub thumbnail': 664,\n",
       " 'easi creat': 180,\n",
       " 'time use': 585,\n",
       " 'first time use': 236,\n",
       " 'subscrib': 547,\n",
       " 'help lot': 291,\n",
       " 'auto save': 75,\n",
       " 'photo video': 438,\n",
       " 'fast': 226,\n",
       " 'internet': 310,\n",
       " 'pay': 429,\n",
       " 'allow': 13,\n",
       " 'best design': 95,\n",
       " 'editor': 197,\n",
       " 'feel like': 229,\n",
       " 'stori': 540,\n",
       " 'must': 393,\n",
       " 'best app edit': 92,\n",
       " 'world': 653,\n",
       " 'hang': 282,\n",
       " 'long time': 344,\n",
       " 'channel': 125,\n",
       " 'birthday': 102,\n",
       " 'facebook': 221,\n",
       " 'design best': 159,\n",
       " 'flyer': 238,\n",
       " 'use creat': 605,\n",
       " 'suck': 549,\n",
       " 'open app': 420,\n",
       " 'charg': 126,\n",
       " 'student': 543,\n",
       " 'simpl use': 517,\n",
       " 'app graphic': 47,\n",
       " 'design logo': 161,\n",
       " 'app graphic design': 48,\n",
       " 'learn': 327,\n",
       " 'seem': 509,\n",
       " 'use love': 613,\n",
       " 'school': 507,\n",
       " 'bit': 103,\n",
       " 'otherwis': 424,\n",
       " 'app creat': 36,\n",
       " 'excel': 214,\n",
       " 'smoothli': 527,\n",
       " 'download video': 177,\n",
       " 'top': 589,\n",
       " 'click': 129,\n",
       " 'bug': 105,\n",
       " 'cant': 116,\n",
       " 'save project': 503,\n",
       " 'nt even': 407,\n",
       " 'access': 6,\n",
       " 'onlin': 418,\n",
       " 'quick': 470,\n",
       " 'thank much': 576,\n",
       " 'difficult': 169,\n",
       " 'ton': 586,\n",
       " 'good app design': 264,\n",
       " 'app design logo': 38,\n",
       " 'use great': 611,\n",
       " 'love app easi': 352,\n",
       " 'easi use great': 185,\n",
       " 'smooth': 526,\n",
       " 'good work': 268,\n",
       " 'friend': 246,\n",
       " 'market': 379,\n",
       " 'app best': 34,\n",
       " 'logo design': 341,\n",
       " 'creat mani': 148,\n",
       " 'easi design': 181,\n",
       " 'design easi': 160,\n",
       " 'network': 396,\n",
       " 'cancel': 115,\n",
       " 'avail': 77,\n",
       " 'make banner': 364,\n",
       " 'help app': 288,\n",
       " 'game': 254,\n",
       " 'super easi': 552,\n",
       " 'use design': 606,\n",
       " 'super easi use': 553,\n",
       " 'best graphic': 98,\n",
       " 'best graphic design': 99,\n",
       " 'graphic design app': 273,\n",
       " 'offlin': 414,\n",
       " 'fine': 232,\n",
       " 'experienc': 218,\n",
       " 'nt download': 406,\n",
       " 'ca nt download': 111,\n",
       " 'photoshop': 439,\n",
       " 'wo': 646,\n",
       " 'googl': 269,\n",
       " 'account': 7,\n",
       " 'wo nt': 647,\n",
       " 'special': 536,\n",
       " 'app help': 50,\n",
       " 'realli like app': 484,\n",
       " 'design need': 162,\n",
       " 'use realli': 616,\n",
       " 'easi use realli': 188,\n",
       " 'aap': 1,\n",
       " 'print': 458,\n",
       " 'option edit': 422,\n",
       " 'navig': 394,\n",
       " 'invit': 313,\n",
       " 'recommend app': 489,\n",
       " 'enjoy': 201,\n",
       " 'suggest': 550,\n",
       " 'realli love': 485,\n",
       " 'realli love app': 486,\n",
       " 'understand': 596,\n",
       " 'ca nt save': 112,\n",
       " 'useless': 620,\n",
       " 'app take': 63,\n",
       " 'insta': 305,\n",
       " 'nice app edit': 402,\n",
       " 'love use': 358,\n",
       " 'app first': 45,\n",
       " 'edit pictur': 196,\n",
       " 'line': 334,\n",
       " 'type': 593,\n",
       " 'due': 178,\n",
       " 'whatev': 641,\n",
       " 'highli': 295,\n",
       " 'highli recommend': 296,\n",
       " 'collag': 131,\n",
       " 'good app make': 265,\n",
       " 'found': 241,\n",
       " 'doubt': 173,\n",
       " 'use full': 609,\n",
       " 'effect': 198,\n",
       " 'mani option': 375,\n",
       " 'help design': 290,\n",
       " 'good applic': 266,\n",
       " 'applic edit': 69,\n",
       " 'email': 199,\n",
       " 'quit': 471,\n",
       " 'app work': 67,\n",
       " 'hard': 285,\n",
       " 'wow': 658,\n",
       " 'new updat': 399,\n",
       " 'app beginn': 33,\n",
       " 'best design app': 96,\n",
       " 'time save': 584,\n",
       " 'much time save': 392,\n",
       " 'wifi': 643,\n",
       " 'app nt': 59,\n",
       " 'ask': 72,\n",
       " 'daili': 152,\n",
       " 'run': 497,\n",
       " 'limit': 333,\n",
       " 'guy': 281,\n",
       " 'amaz design': 22,\n",
       " 'soo': 534,\n",
       " 'app amaz': 30,\n",
       " 'everytim': 213,\n",
       " 'forev': 240,\n",
       " 'take forev': 559,\n",
       " 'make logo': 368,\n",
       " 'simpli': 518,\n",
       " 'word': 650,\n",
       " 'worth': 656,\n",
       " 'took': 587,\n",
       " 'prepar': 454,\n",
       " 'minut': 383,\n",
       " 'except': 216,\n",
       " 'app everyth': 44,\n",
       " 'canva pro': 121,\n",
       " 'nice easi': 403,\n",
       " 'work properli': 652,\n",
       " 'actual': 8,\n",
       " 'mind': 382,\n",
       " 'best app design': 91,\n",
       " 'upgrad': 599,\n",
       " 'amaz applic': 21,\n",
       " 'nt know': 408,\n",
       " 'kindli': 321,\n",
       " 'stun': 545,\n",
       " 'pic': 440,\n",
       " 'take time': 565,\n",
       " 'futur': 252,\n",
       " 'canva team': 122,\n",
       " 'excel app': 215,\n",
       " 'appreci': 70,\n",
       " 'easi make': 183,\n",
       " 'sign': 515,\n",
       " 'alreadi': 16,\n",
       " 'internet connect': 311,\n",
       " 'best app use': 94,\n",
       " 'use thank': 618,\n",
       " 'laggi': 324,\n",
       " 'buy': 108,\n",
       " 'creat canva': 145,\n",
       " 'good design': 267,\n",
       " 'love app help': 353,\n",
       " 'mani thing': 377,\n",
       " 'make poster': 369,\n",
       " 'ever seen': 208,\n",
       " 'app much': 58,\n",
       " 'much better': 390,\n",
       " 'download app': 175,\n",
       " 'upload': 600,\n",
       " 'dont': 172,\n",
       " 'templat design': 571,\n",
       " 'wide': 642,\n",
       " 'help creat': 289,\n",
       " 'app like': 52,\n",
       " 'littl': 336,\n",
       " 'web': 637,\n",
       " 'devic': 167,\n",
       " 'app awesom': 32,\n",
       " 'great easi': 279,\n",
       " 'poor': 449,\n",
       " 'superb app': 555,\n",
       " 'possibl': 450,\n",
       " 'tablet': 557,\n",
       " 'keep good': 318,\n",
       " 'keep good work': 319,\n",
       " 'worst app': 655}"
      ]
     },
     "execution_count": 113,
     "metadata": {},
     "output_type": "execute_result"
    }
   ],
   "source": [
    "vect.vocabulary_"
   ]
  },
  {
   "cell_type": "code",
   "execution_count": 114,
   "id": "25c98ea8",
   "metadata": {},
   "outputs": [],
   "source": [
    "X_train, X_test, y_train, y_test = train_test_split(X, y, test_size=0.2,\n",
    "                                                   stratify=y, random_state=42)"
   ]
  },
  {
   "cell_type": "code",
   "execution_count": 115,
   "id": "87365566",
   "metadata": {},
   "outputs": [
    {
     "data": {
      "text/plain": [
       "LogisticRegression()"
      ]
     },
     "execution_count": 115,
     "metadata": {},
     "output_type": "execute_result"
    }
   ],
   "source": [
    "model = LogisticRegression()\n",
    "model.fit(X_train, y_train)"
   ]
  },
  {
   "cell_type": "code",
   "execution_count": 116,
   "id": "300c4a26",
   "metadata": {},
   "outputs": [
    {
     "name": "stdout",
     "output_type": "stream",
     "text": [
      "Train Accuracy:0.9716666666666667\n",
      "Test Accuracy:0.8933333333333333\n"
     ]
    }
   ],
   "source": [
    "train_pred = model.predict(X_train)\n",
    "test_pred = model.predict(X_test)\n",
    "print(f\"Train Accuracy:{accuracy_score(y_train, train_pred)}\")\n",
    "print(f\"Test Accuracy:{accuracy_score(y_test, test_pred)}\")"
   ]
  },
  {
   "cell_type": "code",
   "execution_count": 117,
   "id": "95d7e794",
   "metadata": {},
   "outputs": [],
   "source": [
    "with open(\"Output/n_gram.pkl\", \"wb\") as f:\n",
    "    pickle.dump(vect, f)\n",
    "with open(\"Output/n_gram_lr.pkl\", \"wb\") as f:\n",
    "    pickle.dump(model, f)"
   ]
  },
  {
   "cell_type": "markdown",
   "id": "d7628808",
   "metadata": {},
   "source": [
    "# TF-IDF"
   ]
  },
  {
   "cell_type": "code",
   "execution_count": 121,
   "id": "6219f56c",
   "metadata": {},
   "outputs": [],
   "source": [
    "vect = TfidfVectorizer(min_df=5)"
   ]
  },
  {
   "cell_type": "code",
   "execution_count": 122,
   "id": "f10d308c",
   "metadata": {},
   "outputs": [],
   "source": [
    "X = vect.fit_transform(clean_reviews)"
   ]
  },
  {
   "cell_type": "code",
   "execution_count": 123,
   "id": "20cbd328",
   "metadata": {},
   "outputs": [
    {
     "data": {
      "text/plain": [
       "(1500, 413)"
      ]
     },
     "execution_count": 123,
     "metadata": {},
     "output_type": "execute_result"
    }
   ],
   "source": [
    "X.shape"
   ]
  },
  {
   "cell_type": "code",
   "execution_count": 124,
   "id": "9f8ce389",
   "metadata": {},
   "outputs": [],
   "source": [
    "X_train, X_test, y_train, y_test = train_test_split(X, y, test_size=0.2,\n",
    "                                                   stratify=y, random_state=42)"
   ]
  },
  {
   "cell_type": "code",
   "execution_count": 125,
   "id": "4bc8a891",
   "metadata": {},
   "outputs": [
    {
     "data": {
      "text/plain": [
       "LogisticRegression()"
      ]
     },
     "execution_count": 125,
     "metadata": {},
     "output_type": "execute_result"
    }
   ],
   "source": [
    "model = LogisticRegression()\n",
    "model.fit(X_train, y_train)"
   ]
  },
  {
   "cell_type": "code",
   "execution_count": 126,
   "id": "7a56989b",
   "metadata": {},
   "outputs": [
    {
     "name": "stdout",
     "output_type": "stream",
     "text": [
      "Train Accuracy:0.935\n",
      "Test Accuracy:0.8766666666666667\n"
     ]
    }
   ],
   "source": [
    "train_pred = model.predict(X_train)\n",
    "test_pred = model.predict(X_test)\n",
    "print(f\"Train Accuracy:{accuracy_score(y_train, train_pred)}\")\n",
    "print(f\"Test Accuracy:{accuracy_score(y_test, test_pred)}\")"
   ]
  },
  {
   "cell_type": "code",
   "execution_count": 127,
   "id": "a73fcb8e",
   "metadata": {},
   "outputs": [],
   "source": [
    "with open(\"Output/tf-idf.pkl\", \"wb\") as f:\n",
    "    pickle.dump(vect, f)\n",
    "with open(\"Output/tf-idf_lr.pkl\", \"wb\") as f:\n",
    "    pickle.dump(model, f)"
   ]
  },
  {
   "cell_type": "markdown",
   "id": "df34e89d",
   "metadata": {},
   "source": [
    "# Predictions for new reviews"
   ]
  },
  {
   "cell_type": "code",
   "execution_count": 128,
   "id": "863509a4",
   "metadata": {},
   "outputs": [],
   "source": [
    "# Sample test reviews\n",
    "test_review_1 = '''this is a truly amazing app , best for those who havw \n",
    "content but don't know how to express it in a good and shareable manner. \n",
    "Thanks Team Canva for such a great app.'''\n",
    "test_review_2 = '''Its the worst app ever I save my design lts not save'''"
   ]
  },
  {
   "cell_type": "markdown",
   "id": "a223e782",
   "metadata": {},
   "source": [
    "### Load the best model (n-gram) and its vectorizer"
   ]
  },
  {
   "cell_type": "code",
   "execution_count": 129,
   "id": "7d4625ae",
   "metadata": {},
   "outputs": [],
   "source": [
    "vect = pickle.load(open(\"Output/n_gram.pkl\", \"rb\"))\n",
    "model = pickle.load(open(\"Output/n_gram_lr.pkl\", \"rb\"))"
   ]
  },
  {
   "cell_type": "markdown",
   "id": "feea92ad",
   "metadata": {},
   "source": [
    "### Convert the reivews to a batch of one record"
   ]
  },
  {
   "cell_type": "code",
   "execution_count": 130,
   "id": "49dd7a36",
   "metadata": {},
   "outputs": [],
   "source": [
    "test_review_1 = [test_review_1]\n",
    "test_review_2 = [test_review_2]"
   ]
  },
  {
   "cell_type": "markdown",
   "id": "c0a5d190",
   "metadata": {},
   "source": [
    "### Convert the text to lower case"
   ]
  },
  {
   "cell_type": "code",
   "execution_count": 131,
   "id": "ee67462f",
   "metadata": {},
   "outputs": [],
   "source": [
    "test_review_1 = [r.lower() for r in test_review_1]\n",
    "test_review_2 = [r.lower() for r in test_review_2]"
   ]
  },
  {
   "cell_type": "markdown",
   "id": "aa34e36b",
   "metadata": {},
   "source": [
    "### Tokenize the text"
   ]
  },
  {
   "cell_type": "code",
   "execution_count": 132,
   "id": "51045f0b",
   "metadata": {},
   "outputs": [],
   "source": [
    "tokens_1 = [word_tokenize(r) for r in test_review_1]\n",
    "tokens_2 = [word_tokenize(r) for r in test_review_2]"
   ]
  },
  {
   "cell_type": "markdown",
   "id": "77ed8cc4",
   "metadata": {},
   "source": [
    "### Remove stopwords"
   ]
  },
  {
   "cell_type": "code",
   "execution_count": 133,
   "id": "6c11529d",
   "metadata": {},
   "outputs": [],
   "source": [
    "tokens_1 = [[word for word in t if word not in sw] for t in tokens_1]\n",
    "tokens_2 = [[word for word in t if word not in sw] for t in tokens_2]"
   ]
  },
  {
   "cell_type": "markdown",
   "id": "20a9c33b",
   "metadata": {},
   "source": [
    "### Remove punctuations"
   ]
  },
  {
   "cell_type": "code",
   "execution_count": 134,
   "id": "b7d47ba1",
   "metadata": {},
   "outputs": [],
   "source": [
    "tokens_1 = [[\"\".join(tokenizer.tokenize(word)) for word in t \n",
    "             if len(tokenizer.tokenize(word))>0] for t in tokens_1]\n",
    "tokens_2 = [[\"\".join(tokenizer.tokenize(word)) for word in t \n",
    "             if len(tokenizer.tokenize(word))>0] for t in tokens_2]"
   ]
  },
  {
   "cell_type": "markdown",
   "id": "b7490df2",
   "metadata": {},
   "source": [
    "### Stemming"
   ]
  },
  {
   "cell_type": "code",
   "execution_count": 135,
   "id": "7210f34b",
   "metadata": {},
   "outputs": [],
   "source": [
    "tokens_1 = [[porter.stem(word) for word in t] for t in tokens_1]\n",
    "tokens_2 = [[porter.stem(word) for word in t] for t in tokens_2]"
   ]
  },
  {
   "cell_type": "code",
   "execution_count": 136,
   "id": "b17a5547",
   "metadata": {},
   "outputs": [
    {
     "data": {
      "text/plain": [
       "[['truli',\n",
       "  'amaz',\n",
       "  'app',\n",
       "  'best',\n",
       "  'havw',\n",
       "  'content',\n",
       "  'nt',\n",
       "  'know',\n",
       "  'express',\n",
       "  'good',\n",
       "  'shareabl',\n",
       "  'manner',\n",
       "  'thank',\n",
       "  'team',\n",
       "  'canva',\n",
       "  'great',\n",
       "  'app']]"
      ]
     },
     "execution_count": 136,
     "metadata": {},
     "output_type": "execute_result"
    }
   ],
   "source": [
    "tokens_1"
   ]
  },
  {
   "cell_type": "code",
   "execution_count": 137,
   "id": "fcad87cc",
   "metadata": {},
   "outputs": [
    {
     "data": {
      "text/plain": [
       "[\"this is a truly amazing app , best for those who havw \\ncontent but don't know how to express it in a good and shareable manner. \\nthanks team canva for such a great app.\"]"
      ]
     },
     "execution_count": 137,
     "metadata": {},
     "output_type": "execute_result"
    }
   ],
   "source": [
    "test_review_1"
   ]
  },
  {
   "cell_type": "code",
   "execution_count": 138,
   "id": "9726e122",
   "metadata": {},
   "outputs": [
    {
     "data": {
      "text/plain": [
       "[['worst', 'app', 'ever', 'save', 'design', 'lt', 'save']]"
      ]
     },
     "execution_count": 138,
     "metadata": {},
     "output_type": "execute_result"
    }
   ],
   "source": [
    "tokens_2"
   ]
  },
  {
   "cell_type": "code",
   "execution_count": 139,
   "id": "fee6f1ab",
   "metadata": {},
   "outputs": [
    {
     "data": {
      "text/plain": [
       "['its the worst app ever i save my design lts not save']"
      ]
     },
     "execution_count": 139,
     "metadata": {},
     "output_type": "execute_result"
    }
   ],
   "source": [
    "test_review_2"
   ]
  },
  {
   "cell_type": "markdown",
   "id": "510f3c6e",
   "metadata": {},
   "source": [
    "### Join the tokens to form a sentence"
   ]
  },
  {
   "cell_type": "code",
   "execution_count": 140,
   "id": "488c18e8",
   "metadata": {},
   "outputs": [],
   "source": [
    "clean_review_1 = [\" \".join(review) for review in tokens_1]\n",
    "clean_review_2 = [\" \".join(review) for review in tokens_2]"
   ]
  },
  {
   "cell_type": "markdown",
   "id": "86ee5e8a",
   "metadata": {},
   "source": [
    "### Transform the text using vectorizer and make predictions"
   ]
  },
  {
   "cell_type": "markdown",
   "id": "91ab53e4",
   "metadata": {},
   "source": [
    "### Note: Prediction probability for postive class is high for the first test review"
   ]
  },
  {
   "cell_type": "code",
   "execution_count": 141,
   "id": "4cb6d023",
   "metadata": {},
   "outputs": [],
   "source": [
    "X_test = vect.transform(clean_review_1)"
   ]
  },
  {
   "cell_type": "code",
   "execution_count": 142,
   "id": "67e4e382",
   "metadata": {},
   "outputs": [
    {
     "data": {
      "text/plain": [
       "(1, 666)"
      ]
     },
     "execution_count": 142,
     "metadata": {},
     "output_type": "execute_result"
    }
   ],
   "source": [
    "X_test.shape"
   ]
  },
  {
   "cell_type": "code",
   "execution_count": 143,
   "id": "6d1bc980",
   "metadata": {},
   "outputs": [
    {
     "data": {
      "text/plain": [
       "array([[0.00441452, 0.99558548]])"
      ]
     },
     "execution_count": 143,
     "metadata": {},
     "output_type": "execute_result"
    }
   ],
   "source": [
    "model.predict_proba(X_test)"
   ]
  },
  {
   "cell_type": "code",
   "execution_count": 144,
   "id": "7a5e29b9",
   "metadata": {},
   "outputs": [
    {
     "data": {
      "text/plain": [
       "array([1])"
      ]
     },
     "execution_count": 144,
     "metadata": {},
     "output_type": "execute_result"
    }
   ],
   "source": [
    "model.predict(X_test)"
   ]
  },
  {
   "cell_type": "markdown",
   "id": "f8ba62d1",
   "metadata": {},
   "source": [
    "### Note: Prediction probability for negative class is high for the second test review"
   ]
  },
  {
   "cell_type": "code",
   "execution_count": 145,
   "id": "899b8a47",
   "metadata": {},
   "outputs": [],
   "source": [
    "X_test = vect.transform(clean_review_2)"
   ]
  },
  {
   "cell_type": "code",
   "execution_count": 146,
   "id": "796cd905",
   "metadata": {},
   "outputs": [
    {
     "data": {
      "text/plain": [
       "(1, 666)"
      ]
     },
     "execution_count": 146,
     "metadata": {},
     "output_type": "execute_result"
    }
   ],
   "source": [
    "X_test.shape"
   ]
  },
  {
   "cell_type": "code",
   "execution_count": 147,
   "id": "ca80f86d",
   "metadata": {},
   "outputs": [
    {
     "data": {
      "text/plain": [
       "array([[0.87775701, 0.12224299]])"
      ]
     },
     "execution_count": 147,
     "metadata": {},
     "output_type": "execute_result"
    }
   ],
   "source": [
    "model.predict_proba(X_test)"
   ]
  },
  {
   "cell_type": "code",
   "execution_count": 148,
   "id": "ad8e7fe1",
   "metadata": {},
   "outputs": [
    {
     "data": {
      "text/plain": [
       "array([0])"
      ]
     },
     "execution_count": 148,
     "metadata": {},
     "output_type": "execute_result"
    }
   ],
   "source": [
    "model.predict(X_test)"
   ]
  },
  {
   "cell_type": "markdown",
   "id": "5b27efb9",
   "metadata": {},
   "source": [
    "# Notes on using NLTK"
   ]
  },
  {
   "cell_type": "markdown",
   "id": "acb43219",
   "metadata": {},
   "source": [
    "For installing NLTK, use the command `pip install nltk` <br />\n",
    "After downloading, the NLTK corpus has to be downloaded <br />\n",
    "Run `import nltk` followed by `nltk.download()` in jupyter notebook <br />\n",
    "This will open a separate window where you can donwnload the necessary packages <br />\n",
    "For this project, you will need the following packages:<br />\n",
    "<ol>\n",
    "<li>punkt</li>\n",
    "<li>stopwords</li>\n",
    "<li>wordnet</li>\n",
    "</ol>"
   ]
  },
  {
   "cell_type": "code",
   "execution_count": 20,
   "id": "5b8b6171",
   "metadata": {},
   "outputs": [
    {
     "name": "stdout",
     "output_type": "stream",
     "text": [
      "showing info https://raw.githubusercontent.com/nltk/nltk_data/gh-pages/index.xml\n"
     ]
    },
    {
     "data": {
      "text/plain": [
       "True"
      ]
     },
     "execution_count": 20,
     "metadata": {},
     "output_type": "execute_result"
    }
   ],
   "source": [
    "import nltk\n",
    "nltk.download()"
   ]
  },
  {
   "cell_type": "code",
   "execution_count": null,
   "id": "6911f271",
   "metadata": {},
   "outputs": [],
   "source": []
  }
 ],
 "metadata": {
  "kernelspec": {
   "display_name": "Python 3",
   "language": "python",
   "name": "python3"
  },
  "language_info": {
   "codemirror_mode": {
    "name": "ipython",
    "version": 3
   },
   "file_extension": ".py",
   "mimetype": "text/x-python",
   "name": "python",
   "nbconvert_exporter": "python",
   "pygments_lexer": "ipython3",
   "version": "3.8.8"
  }
 },
 "nbformat": 4,
 "nbformat_minor": 5
}
