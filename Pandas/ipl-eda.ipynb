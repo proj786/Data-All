{
 "cells": [
  {
   "cell_type": "code",
   "execution_count": 1,
   "metadata": {
    "_cell_guid": "b1076dfc-b9ad-4769-8c92-a6c4dae69d19",
    "_uuid": "8f2839f25d086af736a60e9eeb907d3b93b6e0e5",
    "execution": {
     "iopub.execute_input": "2024-03-02T04:00:02.679650Z",
     "iopub.status.busy": "2024-03-02T04:00:02.678580Z",
     "iopub.status.idle": "2024-03-02T04:00:04.029994Z",
     "shell.execute_reply": "2024-03-02T04:00:04.028415Z",
     "shell.execute_reply.started": "2024-03-02T04:00:02.679601Z"
    }
   },
   "outputs": [
    {
     "name": "stdout",
     "output_type": "stream",
     "text": [
      "/kaggle/input/ipl/matches.csv\n",
      "/kaggle/input/ipl/deliveries.csv\n"
     ]
    }
   ],
   "source": [
    "# This Python 3 environment comes with many helpful analytics libraries installed\n",
    "# It is defined by the kaggle/python Docker image: https://github.com/kaggle/docker-python\n",
    "# For example, here's several helpful packages to load\n",
    "\n",
    "import numpy as np # linear algebra\n",
    "import pandas as pd # data processing, CSV file I/O (e.g. pd.read_csv)\n",
    "\n",
    "# Input data files are available in the read-only \"../input/\" directory\n",
    "# For example, running this (by clicking run or pressing Shift+Enter) will list all files under the input directory\n",
    "\n",
    "import os\n",
    "for dirname, _, filenames in os.walk('/kaggle/input'):\n",
    "    for filename in filenames:\n",
    "        print(os.path.join(dirname, filename))\n",
    "\n",
    "# You can write up to 20GB to the current directory (/kaggle/working/) that gets preserved as output when you create a version using \"Save & Run All\" \n",
    "# You can also write temporary files to /kaggle/temp/, but they won't be saved outside of the current session"
   ]
  },
  {
   "cell_type": "code",
   "execution_count": 4,
   "metadata": {
    "execution": {
     "iopub.execute_input": "2024-03-02T04:01:15.289094Z",
     "iopub.status.busy": "2024-03-02T04:01:15.288727Z",
     "iopub.status.idle": "2024-03-02T04:01:15.996118Z",
     "shell.execute_reply": "2024-03-02T04:01:15.994891Z",
     "shell.execute_reply.started": "2024-03-02T04:01:15.289065Z"
    }
   },
   "outputs": [],
   "source": [
    "delivery=pd.read_csv('/kaggle/input/ipl/deliveries.csv')"
   ]
  },
  {
   "cell_type": "code",
   "execution_count": 5,
   "metadata": {
    "execution": {
     "iopub.execute_input": "2024-03-02T04:01:25.019075Z",
     "iopub.status.busy": "2024-03-02T04:01:25.018686Z",
     "iopub.status.idle": "2024-03-02T04:01:25.054740Z",
     "shell.execute_reply": "2024-03-02T04:01:25.053468Z",
     "shell.execute_reply.started": "2024-03-02T04:01:25.019046Z"
    }
   },
   "outputs": [
    {
     "data": {
      "text/html": [
       "<div>\n",
       "<style scoped>\n",
       "    .dataframe tbody tr th:only-of-type {\n",
       "        vertical-align: middle;\n",
       "    }\n",
       "\n",
       "    .dataframe tbody tr th {\n",
       "        vertical-align: top;\n",
       "    }\n",
       "\n",
       "    .dataframe thead th {\n",
       "        text-align: right;\n",
       "    }\n",
       "</style>\n",
       "<table border=\"1\" class=\"dataframe\">\n",
       "  <thead>\n",
       "    <tr style=\"text-align: right;\">\n",
       "      <th></th>\n",
       "      <th>match_id</th>\n",
       "      <th>inning</th>\n",
       "      <th>batting_team</th>\n",
       "      <th>bowling_team</th>\n",
       "      <th>over</th>\n",
       "      <th>ball</th>\n",
       "      <th>batsman</th>\n",
       "      <th>non_striker</th>\n",
       "      <th>bowler</th>\n",
       "      <th>is_super_over</th>\n",
       "      <th>...</th>\n",
       "      <th>bye_runs</th>\n",
       "      <th>legbye_runs</th>\n",
       "      <th>noball_runs</th>\n",
       "      <th>penalty_runs</th>\n",
       "      <th>batsman_runs</th>\n",
       "      <th>extra_runs</th>\n",
       "      <th>total_runs</th>\n",
       "      <th>player_dismissed</th>\n",
       "      <th>dismissal_kind</th>\n",
       "      <th>fielder</th>\n",
       "    </tr>\n",
       "  </thead>\n",
       "  <tbody>\n",
       "    <tr>\n",
       "      <th>0</th>\n",
       "      <td>1</td>\n",
       "      <td>1</td>\n",
       "      <td>Sunrisers Hyderabad</td>\n",
       "      <td>Royal Challengers Bangalore</td>\n",
       "      <td>1</td>\n",
       "      <td>1</td>\n",
       "      <td>DA Warner</td>\n",
       "      <td>S Dhawan</td>\n",
       "      <td>TS Mills</td>\n",
       "      <td>0</td>\n",
       "      <td>...</td>\n",
       "      <td>0</td>\n",
       "      <td>0</td>\n",
       "      <td>0</td>\n",
       "      <td>0</td>\n",
       "      <td>0</td>\n",
       "      <td>0</td>\n",
       "      <td>0</td>\n",
       "      <td>NaN</td>\n",
       "      <td>NaN</td>\n",
       "      <td>NaN</td>\n",
       "    </tr>\n",
       "    <tr>\n",
       "      <th>1</th>\n",
       "      <td>1</td>\n",
       "      <td>1</td>\n",
       "      <td>Sunrisers Hyderabad</td>\n",
       "      <td>Royal Challengers Bangalore</td>\n",
       "      <td>1</td>\n",
       "      <td>2</td>\n",
       "      <td>DA Warner</td>\n",
       "      <td>S Dhawan</td>\n",
       "      <td>TS Mills</td>\n",
       "      <td>0</td>\n",
       "      <td>...</td>\n",
       "      <td>0</td>\n",
       "      <td>0</td>\n",
       "      <td>0</td>\n",
       "      <td>0</td>\n",
       "      <td>0</td>\n",
       "      <td>0</td>\n",
       "      <td>0</td>\n",
       "      <td>NaN</td>\n",
       "      <td>NaN</td>\n",
       "      <td>NaN</td>\n",
       "    </tr>\n",
       "    <tr>\n",
       "      <th>2</th>\n",
       "      <td>1</td>\n",
       "      <td>1</td>\n",
       "      <td>Sunrisers Hyderabad</td>\n",
       "      <td>Royal Challengers Bangalore</td>\n",
       "      <td>1</td>\n",
       "      <td>3</td>\n",
       "      <td>DA Warner</td>\n",
       "      <td>S Dhawan</td>\n",
       "      <td>TS Mills</td>\n",
       "      <td>0</td>\n",
       "      <td>...</td>\n",
       "      <td>0</td>\n",
       "      <td>0</td>\n",
       "      <td>0</td>\n",
       "      <td>0</td>\n",
       "      <td>4</td>\n",
       "      <td>0</td>\n",
       "      <td>4</td>\n",
       "      <td>NaN</td>\n",
       "      <td>NaN</td>\n",
       "      <td>NaN</td>\n",
       "    </tr>\n",
       "    <tr>\n",
       "      <th>3</th>\n",
       "      <td>1</td>\n",
       "      <td>1</td>\n",
       "      <td>Sunrisers Hyderabad</td>\n",
       "      <td>Royal Challengers Bangalore</td>\n",
       "      <td>1</td>\n",
       "      <td>4</td>\n",
       "      <td>DA Warner</td>\n",
       "      <td>S Dhawan</td>\n",
       "      <td>TS Mills</td>\n",
       "      <td>0</td>\n",
       "      <td>...</td>\n",
       "      <td>0</td>\n",
       "      <td>0</td>\n",
       "      <td>0</td>\n",
       "      <td>0</td>\n",
       "      <td>0</td>\n",
       "      <td>0</td>\n",
       "      <td>0</td>\n",
       "      <td>NaN</td>\n",
       "      <td>NaN</td>\n",
       "      <td>NaN</td>\n",
       "    </tr>\n",
       "    <tr>\n",
       "      <th>4</th>\n",
       "      <td>1</td>\n",
       "      <td>1</td>\n",
       "      <td>Sunrisers Hyderabad</td>\n",
       "      <td>Royal Challengers Bangalore</td>\n",
       "      <td>1</td>\n",
       "      <td>5</td>\n",
       "      <td>DA Warner</td>\n",
       "      <td>S Dhawan</td>\n",
       "      <td>TS Mills</td>\n",
       "      <td>0</td>\n",
       "      <td>...</td>\n",
       "      <td>0</td>\n",
       "      <td>0</td>\n",
       "      <td>0</td>\n",
       "      <td>0</td>\n",
       "      <td>0</td>\n",
       "      <td>2</td>\n",
       "      <td>2</td>\n",
       "      <td>NaN</td>\n",
       "      <td>NaN</td>\n",
       "      <td>NaN</td>\n",
       "    </tr>\n",
       "  </tbody>\n",
       "</table>\n",
       "<p>5 rows × 21 columns</p>\n",
       "</div>"
      ],
      "text/plain": [
       "   match_id  inning         batting_team                 bowling_team  over  \\\n",
       "0         1       1  Sunrisers Hyderabad  Royal Challengers Bangalore     1   \n",
       "1         1       1  Sunrisers Hyderabad  Royal Challengers Bangalore     1   \n",
       "2         1       1  Sunrisers Hyderabad  Royal Challengers Bangalore     1   \n",
       "3         1       1  Sunrisers Hyderabad  Royal Challengers Bangalore     1   \n",
       "4         1       1  Sunrisers Hyderabad  Royal Challengers Bangalore     1   \n",
       "\n",
       "   ball    batsman non_striker    bowler  is_super_over  ...  bye_runs  \\\n",
       "0     1  DA Warner    S Dhawan  TS Mills              0  ...         0   \n",
       "1     2  DA Warner    S Dhawan  TS Mills              0  ...         0   \n",
       "2     3  DA Warner    S Dhawan  TS Mills              0  ...         0   \n",
       "3     4  DA Warner    S Dhawan  TS Mills              0  ...         0   \n",
       "4     5  DA Warner    S Dhawan  TS Mills              0  ...         0   \n",
       "\n",
       "   legbye_runs  noball_runs  penalty_runs  batsman_runs  extra_runs  \\\n",
       "0            0            0             0             0           0   \n",
       "1            0            0             0             0           0   \n",
       "2            0            0             0             4           0   \n",
       "3            0            0             0             0           0   \n",
       "4            0            0             0             0           2   \n",
       "\n",
       "   total_runs  player_dismissed dismissal_kind fielder  \n",
       "0           0               NaN            NaN     NaN  \n",
       "1           0               NaN            NaN     NaN  \n",
       "2           4               NaN            NaN     NaN  \n",
       "3           0               NaN            NaN     NaN  \n",
       "4           2               NaN            NaN     NaN  \n",
       "\n",
       "[5 rows x 21 columns]"
      ]
     },
     "execution_count": 5,
     "metadata": {},
     "output_type": "execute_result"
    }
   ],
   "source": [
    "delivery.head()"
   ]
  },
  {
   "cell_type": "code",
   "execution_count": 17,
   "metadata": {
    "execution": {
     "iopub.execute_input": "2024-03-02T04:11:49.813686Z",
     "iopub.status.busy": "2024-03-02T04:11:49.813262Z",
     "iopub.status.idle": "2024-03-02T04:11:49.819353Z",
     "shell.execute_reply": "2024-03-02T04:11:49.818133Z",
     "shell.execute_reply.started": "2024-03-02T04:11:49.813651Z"
    }
   },
   "outputs": [],
   "source": [
    "#find top 5 batsman\n",
    "runs=delivery.groupby('batsman')"
   ]
  },
  {
   "cell_type": "code",
   "execution_count": 21,
   "metadata": {
    "execution": {
     "iopub.execute_input": "2024-03-02T04:12:43.179750Z",
     "iopub.status.busy": "2024-03-02T04:12:43.179337Z",
     "iopub.status.idle": "2024-03-02T04:12:43.189444Z",
     "shell.execute_reply": "2024-03-02T04:12:43.188493Z",
     "shell.execute_reply.started": "2024-03-02T04:12:43.179717Z"
    }
   },
   "outputs": [
    {
     "data": {
      "text/plain": [
       "batsman\n",
       "SK Raina     4548\n",
       "V Kohli      4423\n",
       "RG Sharma    4207\n",
       "G Gambhir    4132\n",
       "DA Warner    4014\n",
       "Name: batsman_runs, dtype: int64"
      ]
     },
     "execution_count": 21,
     "metadata": {},
     "output_type": "execute_result"
    }
   ],
   "source": [
    "runs['batsman_runs'].sum().sort_values(ascending=False).head(5)"
   ]
  },
  {
   "cell_type": "code",
   "execution_count": 23,
   "metadata": {
    "execution": {
     "iopub.execute_input": "2024-03-02T04:14:36.971647Z",
     "iopub.status.busy": "2024-03-02T04:14:36.971149Z",
     "iopub.status.idle": "2024-03-02T04:14:36.981427Z",
     "shell.execute_reply": "2024-03-02T04:14:36.980045Z",
     "shell.execute_reply.started": "2024-03-02T04:14:36.971559Z"
    }
   },
   "outputs": [
    {
     "data": {
      "text/plain": [
       "match_id                                      1\n",
       "inning                                        1\n",
       "batting_team                Sunrisers Hyderabad\n",
       "bowling_team        Royal Challengers Bangalore\n",
       "over                                          1\n",
       "ball                                          2\n",
       "batsman                               DA Warner\n",
       "non_striker                            S Dhawan\n",
       "bowler                                 TS Mills\n",
       "is_super_over                                 0\n",
       "wide_runs                                     0\n",
       "bye_runs                                      0\n",
       "legbye_runs                                   0\n",
       "noball_runs                                   0\n",
       "penalty_runs                                  0\n",
       "batsman_runs                                  0\n",
       "extra_runs                                    0\n",
       "total_runs                                    0\n",
       "player_dismissed                            NaN\n",
       "dismissal_kind                              NaN\n",
       "fielder                                     NaN\n",
       "Name: 1, dtype: object"
      ]
     },
     "execution_count": 23,
     "metadata": {},
     "output_type": "execute_result"
    }
   ],
   "source": [
    "delivery.iloc[1]"
   ]
  },
  {
   "cell_type": "code",
   "execution_count": 33,
   "metadata": {
    "execution": {
     "iopub.execute_input": "2024-03-02T04:24:21.283036Z",
     "iopub.status.busy": "2024-03-02T04:24:21.282652Z",
     "iopub.status.idle": "2024-03-02T04:24:21.291377Z",
     "shell.execute_reply": "2024-03-02T04:24:21.290380Z",
     "shell.execute_reply.started": "2024-03-02T04:24:21.283000Z"
    }
   },
   "outputs": [],
   "source": [
    "#top 5 batsman who hit the most 4 runs\n",
    "mask=delivery['batsman_runs']==3\n",
    "new_delivery=delivery[mask]\n",
    "new_delivery.head()\n",
    "group1=new_delivery.groupby('batsman')\n"
   ]
  },
  {
   "cell_type": "code",
   "execution_count": 34,
   "metadata": {
    "execution": {
     "iopub.execute_input": "2024-03-02T04:24:23.426075Z",
     "iopub.status.busy": "2024-03-02T04:24:23.425359Z",
     "iopub.status.idle": "2024-03-02T04:24:23.436852Z",
     "shell.execute_reply": "2024-03-02T04:24:23.435721Z",
     "shell.execute_reply.started": "2024-03-02T04:24:23.426030Z"
    }
   },
   "outputs": [
    {
     "data": {
      "text/plain": [
       "batsman\n",
       "M Vijay      17\n",
       "S Dhawan     16\n",
       "G Gambhir    15\n",
       "AM Rahane    14\n",
       "DA Warner    13\n",
       "Name: batsman_runs, dtype: int64"
      ]
     },
     "execution_count": 34,
     "metadata": {},
     "output_type": "execute_result"
    }
   ],
   "source": [
    "group1['batsman_runs'].count().sort_values(ascending=False).head()"
   ]
  },
  {
   "cell_type": "code",
   "execution_count": 42,
   "metadata": {
    "execution": {
     "iopub.execute_input": "2024-03-02T04:33:55.007303Z",
     "iopub.status.busy": "2024-03-02T04:33:55.006908Z",
     "iopub.status.idle": "2024-03-02T04:33:55.043695Z",
     "shell.execute_reply": "2024-03-02T04:33:55.042395Z",
     "shell.execute_reply.started": "2024-03-02T04:33:55.007273Z"
    }
   },
   "outputs": [],
   "source": [
    "#find out V kohli hits maximum runs agaonst which team\n",
    "vk=delivery[delivery['batsman']=='V Kohli']\n"
   ]
  },
  {
   "cell_type": "code",
   "execution_count": 60,
   "metadata": {
    "execution": {
     "iopub.execute_input": "2024-03-02T04:43:59.045522Z",
     "iopub.status.busy": "2024-03-02T04:43:59.045127Z",
     "iopub.status.idle": "2024-03-02T04:43:59.056279Z",
     "shell.execute_reply": "2024-03-02T04:43:59.055086Z",
     "shell.execute_reply.started": "2024-03-02T04:43:59.045491Z"
    }
   },
   "outputs": [
    {
     "data": {
      "text/plain": [
       "bowling_team\n",
       "Chennai Super Kings    706\n",
       "Name: batsman_runs, dtype: int64"
      ]
     },
     "execution_count": 60,
     "metadata": {},
     "output_type": "execute_result"
    }
   ],
   "source": [
    "series=vk.groupby('bowling_team')['batsman_runs'].sum().sort_values(ascending=False)\n",
    "series.head(1)"
   ]
  },
  {
   "cell_type": "code",
   "execution_count": 55,
   "metadata": {
    "execution": {
     "iopub.execute_input": "2024-03-02T04:39:28.045580Z",
     "iopub.status.busy": "2024-03-02T04:39:28.045150Z",
     "iopub.status.idle": "2024-03-02T04:39:28.051352Z",
     "shell.execute_reply": "2024-03-02T04:39:28.050141Z",
     "shell.execute_reply.started": "2024-03-02T04:39:28.045546Z"
    }
   },
   "outputs": [],
   "source": [
    "def run_scored(batsman_name):\n",
    "    vk=delivery[delivery['batsman']==batsman_name]\n",
    "    return vk.groupby('bowling_team')['batsman_runs'].sum().sort_values(ascending=False).head(1)\n",
    "    \n",
    "    "
   ]
  },
  {
   "cell_type": "code",
   "execution_count": 56,
   "metadata": {
    "execution": {
     "iopub.execute_input": "2024-03-02T04:39:29.450227Z",
     "iopub.status.busy": "2024-03-02T04:39:29.449741Z",
     "iopub.status.idle": "2024-03-02T04:39:29.497596Z",
     "shell.execute_reply": "2024-03-02T04:39:29.496500Z",
     "shell.execute_reply.started": "2024-03-02T04:39:29.450188Z"
    }
   },
   "outputs": [
    {
     "data": {
      "text/plain": [
       "bowling_team\n",
       "Chennai Super Kings    706\n",
       "Name: batsman_runs, dtype: int64"
      ]
     },
     "execution_count": 56,
     "metadata": {},
     "output_type": "execute_result"
    }
   ],
   "source": [
    "run_scored('V Kohli')"
   ]
  },
  {
   "cell_type": "code",
   "execution_count": null,
   "metadata": {},
   "outputs": [],
   "source": []
  },
  {
   "cell_type": "code",
   "execution_count": null,
   "metadata": {},
   "outputs": [],
   "source": [
    "#isin()\n",
    "# Find the most destructive death ocver batsman in the history of IPL\n",
    "#Strike Rate =(sum run)/"
   ]
  }
 ],
 "metadata": {
  "kaggle": {
   "accelerator": "none",
   "dataSources": [
    {
     "datasetId": 323,
     "sourceId": 7768,
     "sourceType": "datasetVersion"
    }
   ],
   "dockerImageVersionId": 30664,
   "isGpuEnabled": false,
   "isInternetEnabled": true,
   "language": "python",
   "sourceType": "notebook"
  },
  "kernelspec": {
   "display_name": "Python 3",
   "language": "python",
   "name": "python3"
  },
  "language_info": {
   "codemirror_mode": {
    "name": "ipython",
    "version": 3
   },
   "file_extension": ".py",
   "mimetype": "text/x-python",
   "name": "python",
   "nbconvert_exporter": "python",
   "pygments_lexer": "ipython3",
   "version": "3.8.8"
  }
 },
 "nbformat": 4,
 "nbformat_minor": 4
}
