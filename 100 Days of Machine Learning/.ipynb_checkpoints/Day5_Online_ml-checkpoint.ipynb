{
 "cells": [
  {
   "cell_type": "code",
   "execution_count": null,
   "id": "a969dfb4-b7a4-4f8a-928f-684b8bf444cd",
   "metadata": {},
   "outputs": [],
   "source": []
  },
  {
   "cell_type": "code",
   "execution_count": 14,
   "id": "a2242b99-eb65-41dc-a643-e72608b90858",
   "metadata": {},
   "outputs": [],
   "source": []
  },
  {
   "cell_type": "code",
   "execution_count": null,
   "id": "ff534615-0a50-4499-b945-5028cb8ddf76",
   "metadata": {},
   "outputs": [],
   "source": []
  },
  {
   "cell_type": "code",
   "execution_count": 17,
   "id": "2d4f66aa-a26d-404c-b6e9-4417f56be86c",
   "metadata": {},
   "outputs": [],
   "source": [
    "import numpy as np\n",
    "from sklearn import linear_model\n",
    "import time"
   ]
  },
  {
   "cell_type": "code",
   "execution_count": 18,
   "id": "6fb09d3a-69fb-409c-9ada-c54c1af0d326",
   "metadata": {},
   "outputs": [],
   "source": [
    "n_samples=1\n",
    "n_features=500"
   ]
  },
  {
   "cell_type": "code",
   "execution_count": 19,
   "id": "cb7ddef8-c253-4957-a9f5-66d29f3466e7",
   "metadata": {},
   "outputs": [
    {
     "data": {
      "text/plain": [
       "array([-0.59507095])"
      ]
     },
     "execution_count": 19,
     "metadata": {},
     "output_type": "execute_result"
    }
   ],
   "source": [
    "y=np.random.randn(n_samples)\n",
    "y"
   ]
  },
  {
   "cell_type": "code",
   "execution_count": 20,
   "id": "2f469b99-bcbf-46f4-acaf-b0fc68507af3",
   "metadata": {},
   "outputs": [],
   "source": [
    "X = np.random.randn(n_samples,n_features)"
   ]
  },
  {
   "cell_type": "code",
   "execution_count": 21,
   "id": "222fb330-c9d3-47b0-ac9d-6b11a1f290a5",
   "metadata": {},
   "outputs": [],
   "source": [
    "clf = linear_model.SGDRegressor()"
   ]
  },
  {
   "cell_type": "code",
   "execution_count": 22,
   "id": "d6b127ed-81f3-4cd9-a5b4-4a3352963149",
   "metadata": {},
   "outputs": [
    {
     "name": "stdout",
     "output_type": "stream",
     "text": [
      "0.0\n"
     ]
    }
   ],
   "source": [
    "start_time= time.time()\n",
    "clf.partial_fit(X,y)\n",
    "\n",
    "elapsed_time = time.time() - start_time\n",
    "print(elapsed_time)"
   ]
  },
  {
   "cell_type": "code",
   "execution_count": null,
   "id": "a21c0a0f-addf-42c6-9e47-ae1133662382",
   "metadata": {},
   "outputs": [],
   "source": []
  },
  {
   "cell_type": "code",
   "execution_count": null,
   "id": "7ca45bac-a346-4ba6-a90a-a3a06c4de443",
   "metadata": {},
   "outputs": [],
   "source": []
  }
 ],
 "metadata": {
  "kernelspec": {
   "display_name": "Python 3 (ipykernel)",
   "language": "python",
   "name": "python3"
  },
  "language_info": {
   "codemirror_mode": {
    "name": "ipython",
    "version": 3
   },
   "file_extension": ".py",
   "mimetype": "text/x-python",
   "name": "python",
   "nbconvert_exporter": "python",
   "pygments_lexer": "ipython3",
   "version": "3.11.7"
  }
 },
 "nbformat": 4,
 "nbformat_minor": 5
}
